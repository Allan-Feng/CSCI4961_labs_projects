{
 "cells": [
  {
   "cell_type": "markdown",
   "metadata": {},
   "source": [
    "# Random Walk on MaxCut Problem"
   ]
  },
  {
   "cell_type": "markdown",
   "metadata": {},
   "source": [
    "In this notebook, we demonstrate Random Walk on the MaxCut problem.\n",
    "\n",
    "1. [Introduction](#intro)\n",
    "2. [Temperature Decay](#tempdecay)\n",
    "3. [Simulated Annealing Initialization](#siminit)\n",
    "4. [Testing](#testing)"
   ]
  },
  {
   "cell_type": "markdown",
   "metadata": {},
   "source": [
    "<a id='intro'></a>\n",
    "## 1. Introduction\n",
    "\n",
    "### Imports"
   ]
  },
  {
   "cell_type": "code",
   "execution_count": null,
   "metadata": {},
   "outputs": [],
   "source": [
    "%pip install numpy\n",
    "%pip install networkx\n",
    "%pip install torch\n",
    "%pip install pandas\n",
    "%pip install tqdm"
   ]
  },
  {
   "cell_type": "code",
   "execution_count": null,
   "metadata": {},
   "outputs": [],
   "source": [
    "import copy\n",
    "import time\n",
    "import networkx as nx\n",
    "import numpy as np\n",
    "from typing import List, Union\n",
    "import random\n",
    "from util import read_nxgraph\n",
    "from util import obj_maxcut\n",
    "\n",
    "import sys"
   ]
  },
  {
   "cell_type": "markdown",
   "metadata": {},
   "source": [
    "<a id='siminit'></a>\n",
    "## 3. Random Walk Initialization"
   ]
  },
  {
   "cell_type": "code",
   "execution_count": 20,
   "metadata": {},
   "outputs": [],
   "source": [
    "def simulated_annealing(init_temperature: int, num_steps: int, graph: nx.Graph) -> (int, Union[List[int], np.array], List[int]):\n",
    "    print('simulated_annealing')\n",
    "\n",
    "    start_time = time.time()\n",
    "\n",
    "    scores, init_score, curr_score, curr_solution = temperature_decay(num_steps, graph)\n",
    "    \n",
    "    print(\"score, init_score of simulated_annealing\", curr_score, init_score)\n",
    "    print(\"solution: \", curr_solution)\n",
    "    running_duration = time.time() - start_time\n",
    "    print('running_duration: ', running_duration)\n",
    "    return curr_score, curr_solution, scores"
   ]
  },
  {
   "cell_type": "markdown",
   "metadata": {},
   "source": [
    "<a id='testing'></a>\n",
    "## 4. Testing\n",
    "\n",
    "Use to get results of algorithm on one of the graph data sets located in data/."
   ]
  },
  {
   "cell_type": "code",
   "execution_count": null,
   "metadata": {},
   "outputs": [],
   "source": [
    "if __name__ == '__main__':\n",
    "    graph = read_nxgraph('./data/gset_14.txt')\n",
    "    init_temperature = 4\n",
    "    num_steps = 2000\n",
    "    sa_score, sa_solution, sa_scores = simulated_annealing(init_temperature, num_steps, graph)\n"
   ]
  },
  {
   "cell_type": "markdown",
   "metadata": {},
   "source": [
    "<a id='benchmark'></a>\n",
    "## 4. Benchmarked Results\n",
    "\n",
    "These results demonstrate the score given to the Simulated Annealing Algorithm on 7 benchmarked graphs given in data/. Additionally, a graph corresponding to the time taken to complete each test is provided."
   ]
  }
 ],
 "metadata": {
  "kernelspec": {
   "display_name": "venv",
   "language": "python",
   "name": "python3"
  },
  "language_info": {
   "codemirror_mode": {
    "name": "ipython",
    "version": 3
   },
   "file_extension": ".py",
   "mimetype": "text/x-python",
   "name": "python",
   "nbconvert_exporter": "python",
   "pygments_lexer": "ipython3",
   "version": "3.9.12"
  }
 },
 "nbformat": 4,
 "nbformat_minor": 2
}
