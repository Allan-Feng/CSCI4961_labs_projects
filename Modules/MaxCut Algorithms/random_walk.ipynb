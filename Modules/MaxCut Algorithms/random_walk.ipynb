{
 "cells": [
  {
   "cell_type": "markdown",
   "metadata": {},
   "source": [
    "# Random Walk on MaxCut Problem"
   ]
  },
  {
   "cell_type": "markdown",
   "metadata": {},
   "source": [
    "In this notebook, we demonstrate Random Walk on the MaxCut problem.\n",
    "\n",
    "1. [Introduction](#intro)\n",
    "3. [Random Walk Initialization](#siminit)\n",
    "4. [Testing](#testing)"
   ]
  },
  {
   "cell_type": "markdown",
   "metadata": {},
   "source": [
    "<a id='intro'></a>\n",
    "## 1. Introduction\n",
    "\n",
    "### Imports"
   ]
  },
  {
   "cell_type": "code",
   "execution_count": null,
   "metadata": {},
   "outputs": [],
   "source": [
    "%pip install numpy\n",
    "%pip install networkx\n",
    "%pip install torch\n",
    "%pip install pandas\n",
    "%pip install tqdm"
   ]
  },
  {
   "cell_type": "code",
   "execution_count": null,
   "metadata": {},
   "outputs": [],
   "source": [
    "import copy\n",
    "import time\n",
    "import networkx as nx\n",
    "import numpy as np\n",
    "from typing import List, Union\n",
    "import random\n",
    "from util import read_nxgraph\n",
    "from util import obj_maxcut\n",
    "\n",
    "import sys"
   ]
  },
  {
   "cell_type": "markdown",
   "metadata": {},
   "source": [
    "<a id='siminit'></a>\n",
    "## 3. Random Walk Initialization"
   ]
  },
  {
   "cell_type": "code",
   "execution_count": null,
   "metadata": {},
   "outputs": [],
   "source": [
    "def random_walk(init_solution: Union[List[int], np.array], num_steps: int, max_num_flips: int, graph: nx.Graph) -> (int, Union[List[int], np.array], List[int]):\n",
    "    print('random_walk')\n",
    "    start_time = time.time()\n",
    "    curr_solution = copy.deepcopy(init_solution)\n",
    "    init_score = obj_maxcut(init_solution, graph)\n",
    "    num_nodes = len(curr_solution)\n",
    "    scores = []\n",
    "    nodes = list(range(num_nodes))\n",
    "    if max_num_flips > num_nodes:\n",
    "        max_num_flips = num_nodes\n",
    "    for i in range(num_steps):\n",
    "        # select nodes randomly\n",
    "        traversal_scores = []\n",
    "        traversal_solutions = []\n",
    "        for j in range(1, max_num_flips + 1):\n",
    "            selected_nodes = random.sample(nodes, j)\n",
    "            new_solution = copy.deepcopy(curr_solution)\n",
    "            new_solution = np.array(new_solution)\n",
    "            new_solution[selected_nodes] = (new_solution[selected_nodes] + 1) % 2\n",
    "            new_solution = new_solution.tolist()\n",
    "            # calc the obj\n",
    "            new_score = obj_maxcut(new_solution, graph)\n",
    "            traversal_scores.append(new_score)\n",
    "            traversal_solutions.append(new_solution)\n",
    "        best_traversal_score = max(traversal_scores)\n",
    "        index = traversal_scores.index(best_traversal_score)\n",
    "        best_traversal_solution = traversal_solutions[index]\n",
    "        if len(scores) == 0 or (len(scores) >= 1 and best_traversal_score >= scores[-1]):\n",
    "            curr_solution = best_traversal_solution\n",
    "            scores.append(best_traversal_score)\n",
    "    score = max(scores)\n",
    "    print(\"score, init_score of random_walk\", score, init_score)\n",
    "    print(\"scores: \", scores)\n",
    "    print(\"solution: \", curr_solution)\n",
    "    running_duration = time.time() - start_time\n",
    "    print('running_duration: ', running_duration)\n",
    "    return score, curr_solution, scores\n"
   ]
  },
  {
   "cell_type": "markdown",
   "metadata": {},
   "source": [
    "<a id='testing'></a>\n",
    "## 4. Testing\n",
    "\n",
    "Use to get results of algorithm on one of the graph data sets located in data/."
   ]
  },
  {
   "cell_type": "code",
   "execution_count": null,
   "metadata": {},
   "outputs": [],
   "source": [
    "if __name__ == '__main__':\n",
    "    # read data\n",
    "    graph = read_nxgraph('data/gset_14.txt')\n",
    "\n",
    "    # run alg\n",
    "    init_solution = list(np.random.randint(0, 2, graph.number_of_nodes()))\n",
    "    rw_score, rw_solution, rw_scores = random_walk(init_solution=init_solution, num_steps=1000, max_num_flips=20, graph=graph)\n"
   ]
  },
  {
   "cell_type": "markdown",
   "metadata": {},
   "source": [
    "<a id='benchmark'></a>\n",
    "## 4. Benchmarked Results\n",
    "\n"
   ]
  }
 ],
 "metadata": {
  "kernelspec": {
   "display_name": "venv",
   "language": "python",
   "name": "python3"
  },
  "language_info": {
   "codemirror_mode": {
    "name": "ipython",
    "version": 3
   },
   "file_extension": ".py",
   "mimetype": "text/x-python",
   "name": "python",
   "nbconvert_exporter": "python",
   "pygments_lexer": "ipython3",
   "version": "3.9.12"
  }
 },
 "nbformat": 4,
 "nbformat_minor": 2
}
