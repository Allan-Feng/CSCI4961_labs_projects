{
 "cells": [
  {
   "cell_type": "markdown",
   "metadata": {},
   "source": [
    "# Simulated Annealing on MaxCut Problem"
   ]
  },
  {
   "cell_type": "markdown",
   "metadata": {},
   "source": [
    "In this notebook, we demonstrate Simulated Annealing on the MaxCut problem.\n",
    "\n",
    "1. [Introduction](#intro)\n",
    "2. [Simulated Annealing Initialization](#siminit)"
   ]
  },
  {
   "cell_type": "markdown",
   "metadata": {},
   "source": [
    "<a id='intro'></a>\n",
    "## 1. Introduction\n",
    "\n",
    "### Imports"
   ]
  },
  {
   "cell_type": "code",
   "execution_count": null,
   "metadata": {},
   "outputs": [],
   "source": [
    "%pip install numpy\n",
    "%pip install networkx"
   ]
  },
  {
   "cell_type": "code",
   "execution_count": null,
   "metadata": {},
   "outputs": [],
   "source": [
    "import copy\n",
    "import time\n",
    "from typing import List, Union\n",
    "import numpy as np\n",
    "import random\n",
    "import networkx as nx\n",
    "from util import read_nxgraph\n",
    "from util import obj_maxcut"
   ]
  },
  {
   "cell_type": "markdown",
   "metadata": {},
   "source": [
    "<a id='siminit'></a>\n",
    "## 2. Simulated Annealing Initialization"
   ]
  },
  {
   "cell_type": "code",
   "execution_count": null,
   "metadata": {},
   "outputs": [],
   "source": [
    "def temperature_decay(num_steps, graph):\n",
    "    init_solution = [0] * int(graph.number_of_nodes() / 2) + [1] * int(graph.number_of_nodes() / 2)\n",
    "    curr_solution = copy.deepcopy(init_solution)\n",
    "    curr_score = obj_maxcut(curr_solution, graph)\n",
    "    init_score = curr_score\n",
    "    num_nodes = len(init_solution)\n",
    "    scores = []\n",
    "    for k in range(num_steps):\n",
    "        # The temperature decreases\n",
    "        temperature = init_temperature * (1 - (k + 1) / num_steps)\n",
    "        print(temperature)\n",
    "        new_solution = copy.deepcopy(curr_solution)\n",
    "        idx = np.random.randint(0, num_nodes)\n",
    "        new_solution[idx] = (new_solution[idx] + 1) % 2\n",
    "        new_score = obj_maxcut(new_solution, graph)\n",
    "        scores.append(new_score)\n",
    "        delta_e = curr_score - new_score\n",
    "        if delta_e < 0:\n",
    "            curr_solution = new_solution\n",
    "            curr_score = new_score\n",
    "        else:\n",
    "            prob = np.exp(- delta_e / (temperature + 1e-6))\n",
    "            if prob > random.random():\n",
    "                curr_solution = new_solution\n",
    "                curr_score = new_score\n",
    "\n",
    "    return scores, init_score, curr_score, curr_solution\n",
    "    "
   ]
  },
  {
   "cell_type": "code",
   "execution_count": null,
   "metadata": {},
   "outputs": [],
   "source": [
    "def simulated_annealing(init_temperature: int, num_steps: int, graph: nx.Graph) -> (int, Union[List[int], np.array], List[int]):\n",
    "    print('simulated_annealing')\n",
    "\n",
    "    start_time = time.time()\n",
    "\n",
    "    scores, init_score, curr_score, curr_solution = temperature_decay(num_steps, graph)\n",
    "    \n",
    "    print(\"score, init_score of simulated_annealing\", curr_score, init_score)\n",
    "    print(\"solution: \", curr_solution)\n",
    "    running_duration = time.time() - start_time\n",
    "    print('running_duration: ', running_duration)\n",
    "    return curr_score, curr_solution, scores"
   ]
  },
  {
   "cell_type": "code",
   "execution_count": null,
   "metadata": {},
   "outputs": [],
   "source": [
    "if __name__ == '__main__':\n",
    "    graph = read_nxgraph('./data/gset/gset_14.txt')\n",
    "    init_temperature = 4\n",
    "    num_steps = 2000\n",
    "    sa_score, sa_solution, sa_scores = simulated_annealing(init_temperature, num_steps, graph)\n"
   ]
  }
 ],
 "metadata": {
  "kernelspec": {
   "display_name": "venv",
   "language": "python",
   "name": "python3"
  },
  "language_info": {
   "name": "python",
   "version": "3.9.12"
  }
 },
 "nbformat": 4,
 "nbformat_minor": 2
}
