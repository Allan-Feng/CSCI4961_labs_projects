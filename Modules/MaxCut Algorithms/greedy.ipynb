{
 "cells": [
  {
   "cell_type": "markdown",
   "id": "baf0c213-699b-4d71-8ea7-57ce262a23db",
   "metadata": {},
   "source": [
    "# Greedy Algorithm on MaxCut Problem"
   ]
  },
  {
   "cell_type": "markdown",
   "id": "9a03e4b1-873e-40a3-9c1f-b8acfb417605",
   "metadata": {},
   "source": [
    "In this notebook, we introduce Greedy Algorithm implementation for the MaxCut Problem.\n",
    "\n",
    "1. [Introduction](#intro)"
   ]
  },
  {
   "cell_type": "markdown",
   "id": "7aa90614-1ef1-46d2-9a16-c9353f3e69bb",
   "metadata": {},
   "source": [
    "<a id='intro'></a>\n",
    "## 1. Introduction\n",
    "\n",
    "### Imports"
   ]
  },
  {
   "cell_type": "code",
   "execution_count": null,
   "id": "2cbbbc34",
   "metadata": {},
   "outputs": [],
   "source": [
    "import copy\n",
    "import time\n",
    "from typing import List, Union\n",
    "%pip install numpy as np\n",
    "%pip install networkx as nx\n",
    "from util import read_nxgraph\n",
    "from util import obj_maxcut\n",
    "from util import transfer_nxgraph_to_weightmatrix"
   ]
  },
  {
   "cell_type": "markdown",
   "id": "c1c27c2b",
   "metadata": {},
   "source": [
    "### Library descriptions:\n",
    "Standard Library Imports:\n",
    "\n",
    "1. import copy\n",
    "    - Allows shallow and deep copying of objects.\n",
    "\n",
    "2. import time\n",
    "    - For calculating execution time, so as to measure efficiency and optimization\n",
    "\n",
    "3. from typing import List, Union\n",
    "    - Provides type hints for improved readability and error checking.\n",
    "\n",
    "External Library Imports:\n",
    "\n",
    "4. %pip install numpy as np\n",
    "    - For numerical computations and array manipulation.\n",
    "\n",
    "5. %pip install networkx as nx\n",
    "    - For creating, analyzing, and manipulating graphs and networks.\n",
    "\n",
    "Custom Library Imports (from util.py):\n",
    "\n",
    "6. from util import read_nxgraph\n",
    "    - Reads graph data from an input and returns it as a nx.Graph (networkx.Graph) object.\n",
    "\n",
    "7. from util import obj_maxcut\n",
    "    - Computes the score of a maxcut graph, given a solution.\n",
    "\n",
    "8. from util import transfer_nxgraph_to_weightmatrix\n",
    "    - Converts a NetworkX graph into a weight matrix representation.\n"
   ]
  }
 ],
 "metadata": {
  "kernelspec": {
   "display_name": "Python 3 (ipykernel)",
   "language": "python",
   "name": "python3"
  },
  "language_info": {
   "codemirror_mode": {
    "name": "ipython",
    "version": 3
   },
   "file_extension": ".py",
   "mimetype": "text/x-python",
   "name": "python",
   "nbconvert_exporter": "python",
   "pygments_lexer": "ipython3",
   "version": "3.11.9"
  }
 },
 "nbformat": 4,
 "nbformat_minor": 5
}
