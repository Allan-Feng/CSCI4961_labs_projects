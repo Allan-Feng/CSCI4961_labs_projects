{
 "cells": [
  {
   "cell_type": "markdown",
   "id": "baf0c213-699b-4d71-8ea7-57ce262a23db",
   "metadata": {},
   "source": [
    "# Greedy Algorithm on MaxCut Problem"
   ]
  },
  {
   "cell_type": "markdown",
   "id": "9a03e4b1-873e-40a3-9c1f-b8acfb417605",
   "metadata": {},
   "source": [
    "In this notebook, we introduce Greedy Algorithm implementation for the MaxCut Problem.\n",
    "\n",
    "1. [Introduction](#intro)"
   ]
  },
  {
   "cell_type": "markdown",
   "id": "7aa90614-1ef1-46d2-9a16-c9353f3e69bb",
   "metadata": {},
   "source": [
    "<a id='intro'></a>\n",
    "## 1. Introduction\n",
    "\n",
    "### Imports"
   ]
  },
  {
   "cell_type": "code",
   "execution_count": null,
   "id": "2cbbbc34",
   "metadata": {},
   "outputs": [],
   "source": [
    "import copy\n",
    "import time\n",
    "from typing import List, Union\n",
    "import numpy as np\n",
    "import networkx as nx\n",
    "from util import read_nxgraph\n",
    "from util import obj_maxcut\n",
    "from util import transfer_nxgraph_to_weightmatrix"
   ]
  }
 ],
 "metadata": {
  "kernelspec": {
   "display_name": "Python 3 (ipykernel)",
   "language": "python",
   "name": "python3"
  },
  "language_info": {
   "codemirror_mode": {
    "name": "ipython",
    "version": 3
   },
   "file_extension": ".py",
   "mimetype": "text/x-python",
   "name": "python",
   "nbconvert_exporter": "python",
   "pygments_lexer": "ipython3",
   "version": "3.11.9"
  }
 },
 "nbformat": 4,
 "nbformat_minor": 5
}
