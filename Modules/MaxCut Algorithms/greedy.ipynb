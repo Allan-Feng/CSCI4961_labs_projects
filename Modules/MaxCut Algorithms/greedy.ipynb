{
 "cells": [
  {
   "cell_type": "markdown",
   "id": "baf0c213-699b-4d71-8ea7-57ce262a23db",
   "metadata": {},
   "source": [
    "# Greedy Algorithm on MaxCut Problem"
   ]
  },
  {
   "cell_type": "markdown",
   "id": "9a03e4b1-873e-40a3-9c1f-b8acfb417605",
   "metadata": {},
   "source": [
    "In this notebook, we introduce Greedy Algorithm implementation for the MaxCut Problem.\n",
    "\n",
    "1. [Introduction](#intro)\n",
    "2. [Library Imports](#2-library-imports)\n",
    "3. [Greedy Function](#greedy-function)"
   ]
  },
  {
   "cell_type": "markdown",
   "id": "7aa90614-1ef1-46d2-9a16-c9353f3e69bb",
   "metadata": {},
   "source": [
    "<a id='intro'></a>\n",
    "## 1. Introduction\n",
    "\n",
    "### Description"
   ]
  },
  {
   "cell_type": "markdown",
   "id": "3dee7caa",
   "metadata": {},
   "source": [
    "<a id='implementation'></a>"
   ]
  },
  {
   "cell_type": "markdown",
   "id": "84b0d3ef",
   "metadata": {},
   "source": [
    "<a id='imports'></a>\n",
    "## 2. Library Imports\n",
    "\n",
    "## Imports"
   ]
  },
  {
   "cell_type": "code",
   "execution_count": null,
   "id": "2cbbbc34",
   "metadata": {},
   "outputs": [],
   "source": [
    "import copy\n",
    "import time\n",
    "from typing import List, Union\n",
    "%pip install numpy as np\n",
    "%pip install networkx as nx\n",
    "from util import read_nxgraph\n",
    "from util import obj_maxcut\n",
    "from util import transfer_nxgraph_to_weightmatrix"
   ]
  },
  {
   "cell_type": "markdown",
   "id": "8bc022a2",
   "metadata": {},
   "source": [
    "### Standard Library Imports:\n",
    "\n",
    "1. import copy\n",
    "    - Allows shallow and deep copying of objects.\n",
    "\n",
    "2. import time\n",
    "    - For calculating execution time, so as to measure efficiency and optimization\n",
    "\n",
    "3. from typing import List, Union\n",
    "    - Provides type hints for improved readability and error checking.\n",
    "\n",
    "### External Library Imports:\n",
    "\n",
    "4. %pip install numpy as np\n",
    "    - For numerical computations and array manipulation.\n",
    "\n",
    "5. %pip install networkx as nx\n",
    "    - For creating, analyzing, and manipulating graphs and networks.\n",
    "\n",
    "### Custom Library Imports (from util.py):\n",
    "\n",
    "6. from util import read_nxgraph\n",
    "    - Reads graph data from an input and returns it as a nx.Graph (networkx.Graph) object.\n",
    "\n",
    "7. from util import obj_maxcut\n",
    "    - Computes the score of a maxcut graph, given a solution.\n",
    "\n",
    "8. from util import transfer_nxgraph_to_weightmatrix\n",
    "    - Converts a NetworkX graph into a weight matrix representation.\n"
   ]
  },
  {
   "cell_type": "markdown",
   "id": "30c2fd3d",
   "metadata": {},
   "source": [
    "<a id='greedy-function'></a>\n",
    "# 3. Greedy Function"
   ]
  },
  {
   "cell_type": "code",
   "execution_count": null,
   "id": "7732ea84",
   "metadata": {},
   "outputs": [],
   "source": [
    "def greedy_maxcut(init_solution, num_steps: int, graph: nx.Graph) -> (int, Union[List[int], np.array], List[int]):\n",
    "# -------------------------------------- #\n",
    "#         Function Initializations       #\n",
    "# -------------------------------------- #\n",
    "    print('greedy')\n",
    "    start_time = time.time()\n",
    "    num_nodes = int(graph.number_of_nodes())\n",
    "    nodes = list(range(num_nodes))\n",
    "    assert sum(init_solution) == 0\n",
    "    if num_steps is None:\n",
    "        num_steps = num_nodes\n",
    "    curr_solution = copy.deepcopy(init_solution)\n",
    "    curr_score: int = obj_maxcut(curr_solution, graph)\n",
    "    init_score = curr_score\n",
    "    scores = []\n",
    "# -------------------------------------- #\n",
    "#           Loop through graph           #\n",
    "# -------------------------------------- #\n",
    "    for iteration in range(num_nodes):\n",
    "        if iteration >= num_steps:\n",
    "            break\n",
    "        score = obj_maxcut(curr_solution, graph)\n",
    "        print(f\"iteration: {iteration}, score: {score}\")\n",
    "        traversal_scores = []\n",
    "        traversal_solutions = []\n",
    "# -------------------------------------- #\n",
    "#              Nested Loop               #\n",
    "# -------------------------------------- #\n",
    "        # calc the new solution when moving to a new node. Then store the scores and solutions.\n",
    "        for node in nodes:\n",
    "            new_solution = copy.deepcopy(curr_solution)\n",
    "            # search a new solution and calc obj\n",
    "            new_solution[node] = (new_solution[node] + 1) % 2\n",
    "            new_score = obj_maxcut(new_solution, graph)\n",
    "            traversal_scores.append(new_score)\n",
    "            traversal_solutions.append(new_solution)\n",
    "# -------------------------------------- #\n",
    "#             Find best score            #\n",
    "# -------------------------------------- #\n",
    "        best_score = max(traversal_scores)\n",
    "        index = traversal_scores.index(best_score)\n",
    "        best_solution = traversal_solutions[index]\n",
    "        if best_score > curr_score:\n",
    "            scores.append(best_score)\n",
    "            curr_score = best_score\n",
    "            curr_solution = best_solution\n",
    "        else:\n",
    "            break\n",
    "# -------------------------------------- #\n",
    "#         Outputs/Print Statements       #\n",
    "# -------------------------------------- #\n",
    "    print(\"score, init_score of greedy\", curr_score, init_score)\n",
    "    print(\"scores: \", traversal_scores)\n",
    "    print(\"solution: \", curr_solution)\n",
    "    running_duration = time.time() - start_time\n",
    "    print('running_duration: ', running_duration)\n",
    "    return curr_score, curr_solution, scores"
   ]
  },
  {
   "cell_type": "markdown",
   "id": "f372f217",
   "metadata": {},
   "source": [
    "### Function Initializations"
   ]
  },
  {
   "cell_type": "markdown",
   "id": "6143027f",
   "metadata": {},
   "source": [
    "Useful jupyter tools:\n",
    "\n",
    "![title](img/picture.png)\n",
    "\n",
    "# Title\n",
    "## Heading\n",
    "### Subheading"
   ]
  }
 ],
 "metadata": {
  "kernelspec": {
   "display_name": "Python 3 (ipykernel)",
   "language": "python",
   "name": "python3"
  },
  "language_info": {
   "codemirror_mode": {
    "name": "ipython",
    "version": 3
   },
   "file_extension": ".py",
   "mimetype": "text/x-python",
   "name": "python",
   "nbconvert_exporter": "python",
   "pygments_lexer": "ipython3",
   "version": "3.11.9"
  }
 },
 "nbformat": 4,
 "nbformat_minor": 5
}
