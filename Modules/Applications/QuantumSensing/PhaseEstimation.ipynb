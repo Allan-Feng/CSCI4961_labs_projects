{
  "nbformat": 4,
  "nbformat_minor": 0,
  "metadata": {
    "colab": {
      "provenance": []
    },
    "kernelspec": {
      "name": "python3",
      "display_name": "Python 3"
    },
    "language_info": {
      "name": "python"
    }
  },
  "cells": [
    {
      "cell_type": "code",
      "execution_count": null,
      "metadata": {
        "colab": {
          "base_uri": "https://localhost:8080/"
        },
        "id": "dqmKTCn91D8V",
        "outputId": "878a504b-6d2f-421a-9a24-4aadfe31babd"
      },
      "outputs": [
        {
          "output_type": "stream",
          "name": "stdout",
          "text": [
            "Requirement already satisfied: qiskit in /usr/local/lib/python3.10/dist-packages (1.3.0)\n",
            "Requirement already satisfied: qiskit_aer in /usr/local/lib/python3.10/dist-packages (0.15.1)\n",
            "Requirement already satisfied: rustworkx>=0.15.0 in /usr/local/lib/python3.10/dist-packages (from qiskit) (0.15.1)\n",
            "Requirement already satisfied: numpy<3,>=1.17 in /usr/local/lib/python3.10/dist-packages (from qiskit) (1.26.4)\n",
            "Requirement already satisfied: scipy>=1.5 in /usr/local/lib/python3.10/dist-packages (from qiskit) (1.13.1)\n",
            "Requirement already satisfied: sympy>=1.3 in /usr/local/lib/python3.10/dist-packages (from qiskit) (1.13.1)\n",
            "Requirement already satisfied: dill>=0.3 in /usr/local/lib/python3.10/dist-packages (from qiskit) (0.3.9)\n",
            "Requirement already satisfied: python-dateutil>=2.8.0 in /usr/local/lib/python3.10/dist-packages (from qiskit) (2.8.2)\n",
            "Requirement already satisfied: stevedore>=3.0.0 in /usr/local/lib/python3.10/dist-packages (from qiskit) (5.4.0)\n",
            "Requirement already satisfied: typing-extensions in /usr/local/lib/python3.10/dist-packages (from qiskit) (4.12.2)\n",
            "Requirement already satisfied: symengine<0.14,>=0.11 in /usr/local/lib/python3.10/dist-packages (from qiskit) (0.13.0)\n",
            "Requirement already satisfied: psutil>=5 in /usr/local/lib/python3.10/dist-packages (from qiskit_aer) (5.9.5)\n",
            "Requirement already satisfied: six>=1.5 in /usr/local/lib/python3.10/dist-packages (from python-dateutil>=2.8.0->qiskit) (1.16.0)\n",
            "Requirement already satisfied: pbr>=2.0.0 in /usr/local/lib/python3.10/dist-packages (from stevedore>=3.0.0->qiskit) (6.1.0)\n",
            "Requirement already satisfied: mpmath<1.4,>=1.1.0 in /usr/local/lib/python3.10/dist-packages (from sympy>=1.3->qiskit) (1.3.0)\n",
            "Requirement already satisfied: numpy in /usr/local/lib/python3.10/dist-packages (1.26.4)\n",
            "Requirement already satisfied: matplotlib in /usr/local/lib/python3.10/dist-packages (3.8.0)\n",
            "Requirement already satisfied: scipy in /usr/local/lib/python3.10/dist-packages (1.13.1)\n",
            "Requirement already satisfied: pylatexenc in /usr/local/lib/python3.10/dist-packages (2.10)\n",
            "Requirement already satisfied: contourpy>=1.0.1 in /usr/local/lib/python3.10/dist-packages (from matplotlib) (1.3.1)\n",
            "Requirement already satisfied: cycler>=0.10 in /usr/local/lib/python3.10/dist-packages (from matplotlib) (0.12.1)\n",
            "Requirement already satisfied: fonttools>=4.22.0 in /usr/local/lib/python3.10/dist-packages (from matplotlib) (4.55.0)\n",
            "Requirement already satisfied: kiwisolver>=1.0.1 in /usr/local/lib/python3.10/dist-packages (from matplotlib) (1.4.7)\n",
            "Requirement already satisfied: packaging>=20.0 in /usr/local/lib/python3.10/dist-packages (from matplotlib) (24.2)\n",
            "Requirement already satisfied: pillow>=6.2.0 in /usr/local/lib/python3.10/dist-packages (from matplotlib) (11.0.0)\n",
            "Requirement already satisfied: pyparsing>=2.3.1 in /usr/local/lib/python3.10/dist-packages (from matplotlib) (3.2.0)\n",
            "Requirement already satisfied: python-dateutil>=2.7 in /usr/local/lib/python3.10/dist-packages (from matplotlib) (2.8.2)\n",
            "Requirement already satisfied: six>=1.5 in /usr/local/lib/python3.10/dist-packages (from python-dateutil>=2.7->matplotlib) (1.16.0)\n"
          ]
        }
      ],
      "source": [
        "!pip install qiskit qiskit_aer\n",
        "!pip install numpy matplotlib scipy pylatexenc\n",
        "\n"
      ]
    },
    {
      "cell_type": "code",
      "source": [
        "from qiskit import QuantumCircuit, transpile\n",
        "from qiskit_aer import Aer\n",
        "import numpy as np\n",
        "import matplotlib.pyplot as plt\n",
        "from scipy.optimize import curve_fit\n",
        "from numpy import pi\n",
        "import math"
      ],
      "metadata": {
        "id": "DhoidRSF1RXd"
      },
      "execution_count": null,
      "outputs": []
    },
    {
      "cell_type": "code",
      "source": [],
      "metadata": {
        "id": "kVznorm6He14"
      },
      "execution_count": null,
      "outputs": []
    },
    {
      "cell_type": "markdown",
      "source": [
        "#Ramsey interferometry with the mathmatical foundation"
      ],
      "metadata": {
        "id": "n7uds2Im18iO"
      }
    },
    {
      "cell_type": "code",
      "source": [
        "\n",
        "# create a quantum register with 1 qubit and 1 classical bit\n",
        "numOfQubits = 1\n",
        "numOfClassBits = 1\n",
        "circuit = QuantumCircuit(numOfQubits,numOfClassBits)\n",
        "\n",
        "# reset the qubit to the 0 state\n",
        "circuit.reset(0)\n",
        "\n",
        "# ramsey sequence 1: hadamard gate to rotate the qubit to the superposition state\n",
        "circuit.h(0)\n",
        "\n",
        "# Phase Shift: perform a 90 degree rotation around the K axis\n",
        "phaseAmount = pi/2\n",
        "circuit.u(0, phaseAmount, 0, 0)\n",
        "\n",
        "# ramsey sequence 2: hadamard gate to rotate the qubit back to the 0 or 1 state\n",
        "circuit.h(0)\n",
        "\n",
        "# measure the qubit and provide a histogram of the results\n",
        "circuit.measure(0,0)\n",
        "\n",
        "# print the circuit\n",
        "circuit.draw('mpl')\n",
        "plt.show()\n",
        "\n"
      ],
      "metadata": {
        "id": "CqT2Do9N1vK-"
      },
      "execution_count": 5,
      "outputs": []
    },
    {
      "cell_type": "code",
      "source": [
        "\n",
        "# transpile the circuit to the Aer simulator\n",
        "simulator = Aer.get_backend('qasm_simulator')\n",
        "compiled_circuit = transpile(circuit, simulator)\n",
        "\n",
        "# Number of times the experiment is run\n",
        "shots = 1000\n",
        "\n",
        "# plot a histogram shots is the number of times the circuit is run(will be elaborated on later)\n",
        "job = simulator.run(compiled_circuit, shots=shots)\n",
        "result = job.result()\n",
        "\n",
        "counts = result.get_counts()\n",
        "\n",
        "# probbility of the qubit being in the 0 state\n",
        "probability0 = 0 if '0' not in counts else counts['0']/shots\n",
        "probability1 = 0 if '1' not in counts else counts['1']/shots\n",
        "\n",
        "print(\"Probability of the qubit being in the 0 state: \", probability0)\n",
        "print(\"Probability of the qubit being in the 1 state: \", probability1)\n",
        "\n",
        "# calculate the phase from the probability of ones\n",
        "phase = math.acos((probability1*2-1)*-1)\n",
        "\n",
        "print(\"Phase: \", phase)\n",
        "\n",
        "# calculate the phase error\n",
        "phaseError = abs(phase - phaseAmount)\n",
        "print(\"Phase Error: \", phaseError)"
      ],
      "metadata": {
        "colab": {
          "base_uri": "https://localhost:8080/"
        },
        "id": "TmH7RFN9HM2_",
        "outputId": "a489d7ed-227d-4bde-e9df-4e629ae314e3"
      },
      "execution_count": 6,
      "outputs": [
        {
          "output_type": "stream",
          "name": "stdout",
          "text": [
            "Probability of the qubit being in the 0 state:  0.525\n",
            "Probability of the qubit being in the 1 state:  0.475\n",
            "Phase:  1.5207754699891265\n",
            "Phase Error:  0.050020856805770064\n"
          ]
        }
      ]
    }
  ]
}