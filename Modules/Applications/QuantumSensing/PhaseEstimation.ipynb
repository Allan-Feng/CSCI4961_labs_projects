{
 "cells": [
  {
   "cell_type": "code",
   "execution_count": null,
   "metadata": {
    "colab": {
     "base_uri": "https://localhost:8080/"
    },
    "id": "dqmKTCn91D8V",
    "outputId": "878a504b-6d2f-421a-9a24-4aadfe31babd"
   },
   "outputs": [
    {
     "name": "stdout",
     "output_type": "stream",
     "text": [
      "Requirement already satisfied: qiskit in c:\\users\\yasir\\.pyenv\\pyenv-win\\versions\\3.8.2\\lib\\site-packages (1.2.1)\n",
      "Requirement already satisfied: qiskit_aer in c:\\users\\yasir\\.pyenv\\pyenv-win\\versions\\3.8.2\\lib\\site-packages (0.15.1)\n",
      "Requirement already satisfied: rustworkx>=0.15.0 in c:\\users\\yasir\\.pyenv\\pyenv-win\\versions\\3.8.2\\lib\\site-packages (from qiskit) (0.15.1)\n",
      "Requirement already satisfied: numpy<3,>=1.17 in c:\\users\\yasir\\.pyenv\\pyenv-win\\versions\\3.8.2\\lib\\site-packages (from qiskit) (1.24.4)\n",
      "Requirement already satisfied: scipy>=1.5 in c:\\users\\yasir\\.pyenv\\pyenv-win\\versions\\3.8.2\\lib\\site-packages (from qiskit) (1.10.1)\n",
      "Requirement already satisfied: sympy>=1.3 in c:\\users\\yasir\\.pyenv\\pyenv-win\\versions\\3.8.2\\lib\\site-packages (from qiskit) (1.12.1)\n",
      "Requirement already satisfied: dill>=0.3 in c:\\users\\yasir\\.pyenv\\pyenv-win\\versions\\3.8.2\\lib\\site-packages (from qiskit) (0.3.8)\n",
      "Requirement already satisfied: python-dateutil>=2.8.0 in c:\\users\\yasir\\.pyenv\\pyenv-win\\versions\\3.8.2\\lib\\site-packages (from qiskit) (2.9.0.post0)\n",
      "Requirement already satisfied: stevedore>=3.0.0 in c:\\users\\yasir\\.pyenv\\pyenv-win\\versions\\3.8.2\\lib\\site-packages (from qiskit) (5.2.0)\n",
      "Requirement already satisfied: typing-extensions in c:\\users\\yasir\\.pyenv\\pyenv-win\\versions\\3.8.2\\lib\\site-packages (from qiskit) (4.12.2)\n",
      "Requirement already satisfied: symengine>=0.11 in c:\\users\\yasir\\.pyenv\\pyenv-win\\versions\\3.8.2\\lib\\site-packages (from qiskit) (0.11.0)\n",
      "Requirement already satisfied: psutil>=5 in c:\\users\\yasir\\.pyenv\\pyenv-win\\versions\\3.8.2\\lib\\site-packages (from qiskit_aer) (6.0.0)\n",
      "Requirement already satisfied: six>=1.5 in c:\\users\\yasir\\.pyenv\\pyenv-win\\versions\\3.8.2\\lib\\site-packages (from python-dateutil>=2.8.0->qiskit) (1.16.0)\n",
      "Requirement already satisfied: pbr!=2.1.0,>=2.0.0 in c:\\users\\yasir\\.pyenv\\pyenv-win\\versions\\3.8.2\\lib\\site-packages (from stevedore>=3.0.0->qiskit) (6.0.0)\n",
      "Requirement already satisfied: mpmath<1.4.0,>=1.1.0 in c:\\users\\yasir\\.pyenv\\pyenv-win\\versions\\3.8.2\\lib\\site-packages (from sympy>=1.3->qiskit) (1.3.0)\n"
     ]
    },
    {
     "name": "stderr",
     "output_type": "stream",
     "text": [
      "WARNING: Ignoring invalid distribution -umpy (c:\\users\\yasir\\.pyenv\\pyenv-win\\versions\\3.8.2\\lib\\site-packages)\n",
      "WARNING: Ignoring invalid distribution -umpy (c:\\users\\yasir\\.pyenv\\pyenv-win\\versions\\3.8.2\\lib\\site-packages)\n",
      "WARNING: Ignoring invalid distribution -umpy (c:\\users\\yasir\\.pyenv\\pyenv-win\\versions\\3.8.2\\lib\\site-packages)\n"
     ]
    },
    {
     "name": "stdout",
     "output_type": "stream",
     "text": [
      "Requirement already satisfied: numpy in c:\\users\\yasir\\.pyenv\\pyenv-win\\versions\\3.8.2\\lib\\site-packages (1.24.4)\n",
      "Requirement already satisfied: matplotlib in c:\\users\\yasir\\.pyenv\\pyenv-win\\versions\\3.8.2\\lib\\site-packages (3.7.5)\n",
      "Requirement already satisfied: scipy in c:\\users\\yasir\\.pyenv\\pyenv-win\\versions\\3.8.2\\lib\\site-packages (1.10.1)\n",
      "Requirement already satisfied: pylatexenc in c:\\users\\yasir\\.pyenv\\pyenv-win\\versions\\3.8.2\\lib\\site-packages (2.10)\n",
      "Requirement already satisfied: contourpy>=1.0.1 in c:\\users\\yasir\\.pyenv\\pyenv-win\\versions\\3.8.2\\lib\\site-packages (from matplotlib) (1.1.1)\n",
      "Requirement already satisfied: cycler>=0.10 in c:\\users\\yasir\\.pyenv\\pyenv-win\\versions\\3.8.2\\lib\\site-packages (from matplotlib) (0.12.1)\n",
      "Requirement already satisfied: fonttools>=4.22.0 in c:\\users\\yasir\\.pyenv\\pyenv-win\\versions\\3.8.2\\lib\\site-packages (from matplotlib) (4.53.0)\n",
      "Requirement already satisfied: kiwisolver>=1.0.1 in c:\\users\\yasir\\.pyenv\\pyenv-win\\versions\\3.8.2\\lib\\site-packages (from matplotlib) (1.4.5)\n",
      "Requirement already satisfied: packaging>=20.0 in c:\\users\\yasir\\.pyenv\\pyenv-win\\versions\\3.8.2\\lib\\site-packages (from matplotlib) (24.1)\n",
      "Requirement already satisfied: pillow>=6.2.0 in c:\\users\\yasir\\.pyenv\\pyenv-win\\versions\\3.8.2\\lib\\site-packages (from matplotlib) (10.3.0)\n",
      "Requirement already satisfied: pyparsing>=2.3.1 in c:\\users\\yasir\\.pyenv\\pyenv-win\\versions\\3.8.2\\lib\\site-packages (from matplotlib) (3.1.2)\n",
      "Requirement already satisfied: python-dateutil>=2.7 in c:\\users\\yasir\\.pyenv\\pyenv-win\\versions\\3.8.2\\lib\\site-packages (from matplotlib) (2.9.0.post0)\n",
      "Requirement already satisfied: importlib-resources>=3.2.0 in c:\\users\\yasir\\.pyenv\\pyenv-win\\versions\\3.8.2\\lib\\site-packages (from matplotlib) (6.4.0)\n",
      "Requirement already satisfied: zipp>=3.1.0 in c:\\users\\yasir\\.pyenv\\pyenv-win\\versions\\3.8.2\\lib\\site-packages (from importlib-resources>=3.2.0->matplotlib) (3.19.2)\n",
      "Requirement already satisfied: six>=1.5 in c:\\users\\yasir\\.pyenv\\pyenv-win\\versions\\3.8.2\\lib\\site-packages (from python-dateutil>=2.7->matplotlib) (1.16.0)\n"
     ]
    },
    {
     "name": "stderr",
     "output_type": "stream",
     "text": [
      "WARNING: Ignoring invalid distribution -umpy (c:\\users\\yasir\\.pyenv\\pyenv-win\\versions\\3.8.2\\lib\\site-packages)\n",
      "WARNING: Ignoring invalid distribution -umpy (c:\\users\\yasir\\.pyenv\\pyenv-win\\versions\\3.8.2\\lib\\site-packages)\n",
      "WARNING: Ignoring invalid distribution -umpy (c:\\users\\yasir\\.pyenv\\pyenv-win\\versions\\3.8.2\\lib\\site-packages)\n"
     ]
    }
   ],
   "source": [
    "!pip install qiskit qiskit_aer\n",
    "!pip install numpy matplotlib scipy pylatexenc\n",
    "\n"
   ]
  },
  {
   "cell_type": "code",
   "execution_count": 3,
   "metadata": {
    "id": "DhoidRSF1RXd"
   },
   "outputs": [
    {
     "ename": "ModuleNotFoundError",
     "evalue": "No module named 'qiskit'",
     "output_type": "error",
     "traceback": [
      "\u001b[1;31m---------------------------------------------------------------------------\u001b[0m",
      "\u001b[1;31mModuleNotFoundError\u001b[0m                       Traceback (most recent call last)",
      "Cell \u001b[1;32mIn[3], line 1\u001b[0m\n\u001b[1;32m----> 1\u001b[0m \u001b[38;5;28;01mfrom\u001b[39;00m \u001b[38;5;21;01mqiskit\u001b[39;00m \u001b[38;5;28;01mimport\u001b[39;00m QuantumCircuit, transpile\n\u001b[0;32m      2\u001b[0m \u001b[38;5;28;01mfrom\u001b[39;00m \u001b[38;5;21;01mqiskit_aer\u001b[39;00m \u001b[38;5;28;01mimport\u001b[39;00m Aer\n\u001b[0;32m      3\u001b[0m \u001b[38;5;28;01mimport\u001b[39;00m \u001b[38;5;21;01mnumpy\u001b[39;00m \u001b[38;5;28;01mas\u001b[39;00m \u001b[38;5;21;01mnp\u001b[39;00m\n",
      "\u001b[1;31mModuleNotFoundError\u001b[0m: No module named 'qiskit'"
     ]
    }
   ],
   "source": [
    "from qiskit import QuantumCircuit, transpile\n",
    "from qiskit_aer import Aer\n",
    "import numpy as np\n",
    "import matplotlib.pyplot as plt\n",
    "from scipy.optimize import curve_fit\n",
    "from numpy import pi\n",
    "import math"
   ]
  },
  {
   "cell_type": "code",
   "execution_count": null,
   "metadata": {
    "id": "kVznorm6He14"
   },
   "outputs": [],
   "source": []
  },
  {
   "cell_type": "markdown",
   "metadata": {
    "id": "n7uds2Im18iO"
   },
   "source": [
    "# Ramsey interferometry with the mathmatical foundation"
   ]
  },
  {
   "cell_type": "markdown",
   "metadata": {},
   "source": [
    "Initializing a qubit in the state $ |\\alpha\\rangle  = a|0\\rangle + b|1\\rangle $\n",
    "\n",
    "Applying a phase shift of magnitude $\\frac{π}{2}$\n",
    "\n",
    "$ |\\alpha\\rangle  = a|0\\rangle + be^{\\frac{2i}{\\pi}}|1\\rangle $"
   ]
  },
  {
   "cell_type": "code",
   "execution_count": null,
   "metadata": {},
   "outputs": [],
   "source": [
    "# create a quantum register with 1 qubit and 1 classical bit\n",
    "numOfQubits = 1\n",
    "numOfClassBits = 1\n",
    "circuit = QuantumCircuit(numOfQubits,numOfClassBits)\n",
    "\n",
    "# reset the qubit to the 0 state\n",
    "circuit.reset(0)\n",
    "\n",
    "# Phase Shift: perform a 90 degree rotation around the K axis\n",
    "phaseAmount = pi/2\n",
    "circuit.u(0, phaseAmount, 0, 0)\n",
    "# measure the qubit and provide a histogram of the results\n",
    "circuit.measure(0,0)\n",
    "\n",
    "# print the circuit\n",
    "circuit.draw('mpl')"
   ]
  },
  {
   "cell_type": "markdown",
   "metadata": {},
   "source": [
    "Measuring the qubit at this stage will yield the same probabilities as before the phase shift. Consequently, the phase shift is not reflected in the readout, making it impossible to determine the phase.\n",
    "    "
   ]
  },
  {
   "cell_type": "markdown",
   "metadata": {},
   "source": [
    "$P[|0\\rangle] = a^2 $\n",
    "\n",
    "\n",
    "$P[|1\\rangle] =  | be^{\\frac{2i}{\\pi}}|^2 =  be^{\\frac{2i}{\\pi}} *  be^{\\frac{-2i}{\\pi}} = b^2$"
   ]
  },
  {
   "cell_type": "markdown",
   "metadata": {},
   "source": [
    "In our example, since we started with the qubit initialized in the 0 state, we should expect a readout of 0 when we measure the circuit, as the phase shift was not encoded."
   ]
  },
  {
   "cell_type": "code",
   "execution_count": null,
   "metadata": {},
   "outputs": [],
   "source": [
    "# transpile the circuit to the Aer simulator\n",
    "simulator = Aer.get_backend('qasm_simulator')\n",
    "compiled_circuit = transpile(circuit, simulator)\n",
    "\n",
    "# Number of times the experiment is run\n",
    "shots = 1000\n",
    "\n",
    "# plot a histogram shots is the number of times the circuit is run(will be elaborated on later)\n",
    "job = simulator.run(compiled_circuit, shots=shots)\n",
    "result = job.result()\n",
    "\n",
    "counts = result.get_counts()\n",
    "\n",
    "# probbility of the qubit being in the 0 state\n",
    "probability0 = 0 if '0' not in counts else counts['0']/shots\n",
    "probability1 = 0 if '1' not in counts else counts['1']/shots\n",
    "\n",
    "print(\"Probability of the qubit being in the 0 state: \", probability0)\n",
    "print(\"Probability of the qubit being in the 1 state: \", probability1)"
   ]
  },
  {
   "cell_type": "markdown",
   "metadata": {},
   "source": [
    "# Ramsey Experiment Setup"
   ]
  },
  {
   "cell_type": "markdown",
   "metadata": {},
   "source": [
    "To encode the phase shift onto the readout probabilities, we will first apply a Hadamard gate to the qubit, rotating it to the state\n",
    "$$\\ket{\\alpha} = \\frac{\\ket{1} + \\ket{0}}{\\sqrt{2}}$$"
   ]
  },
  {
   "cell_type": "code",
   "execution_count": null,
   "metadata": {
    "id": "CqT2Do9N1vK-"
   },
   "outputs": [],
   "source": [
    "\n",
    "# create a quantum register with 1 qubit and 1 classical bit\n",
    "numOfQubits = 1\n",
    "numOfClassBits = 1\n",
    "circuit = QuantumCircuit(numOfQubits,numOfClassBits)\n",
    "\n",
    "# reset the qubit to the 0 state\n",
    "circuit.reset(0)\n",
    "\n",
    "# ramsey sequence 1: hadamard gate to rotate the qubit to the superposition state\n",
    "circuit.h(0)\n",
    "\n",
    "\n"
   ]
  },
  {
   "cell_type": "markdown",
   "metadata": {},
   "source": [
    "The qubit will then undergo a phase change of magnitude $\\theta$ (for our test, its magnitude is $\\frac{\\pi}{2}$) and end up in the state\n",
    "\n",
    "$$\n",
    "\\ket{\\alpha} = \\frac{a\\ket{0}}{\\sqrt{2}} + \\frac{e^{i\\theta} b\\ket{1}}{\\sqrt{2}}\n",
    "$$"
   ]
  },
  {
   "cell_type": "code",
   "execution_count": null,
   "metadata": {},
   "outputs": [],
   "source": [
    "\n",
    "# Phase Shift: perform a 90 degree rotation around the K axis\n",
    "phaseAmount = pi/2\n",
    "circuit.u(0, phaseAmount, 0, 0)\n",
    "\n"
   ]
  },
  {
   "cell_type": "markdown",
   "metadata": {},
   "source": [
    "A second Hadamard gate is applied to map the phase shift onto the probability of the qubit being in the 0 or 1 state.\n",
    "\n",
    "$$\n",
    "\\ket{\\alpha} = H \\otimes \\left( \\frac{a\\ket{0}}{\\sqrt{2}} + \\frac{e^{i\\theta} b\\ket{1}}{\\sqrt{2}} \\right)\n",
    "$$\n",
    "\n",
    "$$\n",
    "\\ket{\\alpha} = \\frac{1+e^{i\\theta}}{2}\\ket{0} + \\frac{1-e^{i\\theta}}{2}\\ket{1}\n",
    "$$"
   ]
  },
  {
   "cell_type": "code",
   "execution_count": null,
   "metadata": {},
   "outputs": [],
   "source": [
    "# ramsey sequence 2: hadamard gate to rotate the qubit back to the 0 or 1 state\n",
    "circuit.h(0)\n",
    "\n",
    "# measure the qubit and provide a histogram of the results\n",
    "circuit.measure(0,0)\n",
    "\n",
    "# print the circuit\n",
    "circuit.draw('mpl')\n",
    "plt.show()"
   ]
  },
  {
   "cell_type": "markdown",
   "metadata": {},
   "source": [
    "We can determine the probability of the qubit being in the state |1⟩ to demonstrate that the phase information has been successfully encoded onto it.\n",
    "\n",
    "$$\n",
    "P[\\ket{0}] = |\\frac{1+e^{i\\theta}}{2}|^2\n",
    "$$\n",
    "\n",
    "$$\n",
    "P[\\ket{1}] = |\\frac{1-e^{i\\theta}}{2}|^2\n",
    "$$\n",
    "\n",
    "## Eulers Formula:\n",
    "$$e^{i\\theta} = cos(\\theta)+isine(\\theta)$$\n",
    "$$e^{i\\theta} + e^{-i\\theta} = cos(\\theta) + isine(\\theta) +  cos(\\theta) - isine(\\theta) = 2cos(\\theta)$$\n",
    "$$cos(\\theta) = \\frac{1}{2}\\{e^{i\\theta} + e^{-i\\theta}\\}$$\n",
    "$$|cos(\\theta)|^2 = |\\frac{e^{i\\theta} + e^{-i\\theta}}{2}|^2= |\\frac{e^{-i \\theta} \\{ 1+e^{2i \\theta}\\}}{2}|^2 =|\\frac{ 1+e^{2i \\theta}}{2}|^2  $$\n",
    "\n",
    "Replace $\\theta$ by $\\frac{\\theta}{2}$ to equate the equation to $P\\ket1$\n",
    "        $$|cos(\\frac{\\theta}{2})|^2 =|\\frac{ 1+e^{i \\theta}}{2}|^2  $$\n",
    "    using $cos(2\\theta) = 1-2sin^2(\\theta)$ at step a we will arrive at \n",
    "        $$ |sin(\\frac{\\theta}{2})|^2 =|\\frac{ 1-e^{i \\theta}}{2}|^2 $$\n",
    "\n",
    "    "
   ]
  },
  {
   "cell_type": "markdown",
   "metadata": {},
   "source": [
    " Extracting the Phase Shift: $P[\\ket1] =  |sin(\\frac{\\theta}{2})|^2 $ and $P[\\ket0]= |cos(\\frac{\\theta}{2})|^2$"
   ]
  },
  {
   "cell_type": "markdown",
   "metadata": {},
   "source": [
    "\n",
    "# Solving for $P[\\ket0]$\n",
    "$$ P[\\ket0]= |cos(\\frac{\\theta}{2})|^2 = |cos^2(\\frac{\\theta}{2})| =\\frac{1+cos(\\theta)}{2} $$\n",
    "for $\\theta \\in [0, 2\\pi]$\n"
   ]
  },
  {
   "cell_type": "markdown",
   "metadata": {},
   "source": [
    "# solving for $P[\\ket1]$"
   ]
  },
  {
   "cell_type": "markdown",
   "metadata": {},
   "source": [
    "\n",
    "$$ sine^2(\\theta) + \\cos^2(\\theta) = 1$$\n",
    "$$sine^2 = 1 - cos^2(\\theta)$$\n",
    "$$P[\\ket1] = 1 - cos^2(\\theta) = 1 - \\ket1  = \\frac{1-cos(\\theta)}{2}$$\n",
    "for $\\theta \\in [0, 2\\pi]$"
   ]
  },
  {
   "cell_type": "code",
   "execution_count": null,
   "metadata": {},
   "outputs": [
    {
     "ename": "NameError",
     "evalue": "name 'Aer' is not defined",
     "output_type": "error",
     "traceback": [
      "\u001b[1;31m---------------------------------------------------------------------------\u001b[0m",
      "\u001b[1;31mNameError\u001b[0m                                 Traceback (most recent call last)",
      "Cell \u001b[1;32mIn[1], line 2\u001b[0m\n\u001b[0;32m      1\u001b[0m \u001b[38;5;66;03m# transpile the circuit to the Aer simulator\u001b[39;00m\n\u001b[1;32m----> 2\u001b[0m simulator \u001b[38;5;241m=\u001b[39m \u001b[43mAer\u001b[49m\u001b[38;5;241m.\u001b[39mget_backend(\u001b[38;5;124m'\u001b[39m\u001b[38;5;124mqasm_simulator\u001b[39m\u001b[38;5;124m'\u001b[39m)\n\u001b[0;32m      3\u001b[0m compiled_circuit \u001b[38;5;241m=\u001b[39m transpile(circuit, simulator)\n\u001b[0;32m      5\u001b[0m \u001b[38;5;66;03m# Number of times the experiment is run\u001b[39;00m\n",
      "\u001b[1;31mNameError\u001b[0m: name 'Aer' is not defined"
     ]
    }
   ],
   "source": [
    "\n",
    "# transpile the circuit to the Aer simulator\n",
    "simulator = Aer.get_backend('qasm_simulator')\n",
    "compiled_circuit = transpile(circuit, simulator)\n",
    "\n",
    "# Number of times the experiment is run\n",
    "shots = 1000\n",
    "\n",
    "# plot a histogram shots is the number of times the circuit is run(will be elaborated on later)\n",
    "job = simulator.run(compiled_circuit, shots=shots)\n",
    "result = job.result()\n",
    "\n",
    "counts = result.get_counts()\n",
    "\n",
    "# probbility of the qubit being in the 0 state\n",
    "probability0 = 0 if '0' not in counts else counts['0']/shots\n",
    "probability1 = 0 if '1' not in counts else counts['1']/shots\n",
    "\n",
    "print(\"Probability of the qubit being in the 0 state: \", probability0)\n",
    "print(\"Probability of the qubit being in the 1 state: \", probability1)\n"
   ]
  },
  {
   "cell_type": "markdown",
   "metadata": {},
   "source": [
    "## Relating the Probability of $\\ket{1}$ to $\\theta$\n",
    "\n",
    "We can use this function to relate the probability of $\\ket{1}$ to $\\theta$ and obtain a reading of $\\theta$. We then calculate and print the error between our calculated $\\theta$ and the expected value of $\\theta = \\frac{\\pi}{2}$."
   ]
  },
  {
   "cell_type": "code",
   "execution_count": null,
   "metadata": {
    "colab": {
     "base_uri": "https://localhost:8080/"
    },
    "id": "TmH7RFN9HM2_",
    "outputId": "a489d7ed-227d-4bde-e9df-4e629ae314e3"
   },
   "outputs": [
    {
     "name": "stdout",
     "output_type": "stream",
     "text": [
      "Probability of the qubit being in the 0 state:  0.525\n",
      "Probability of the qubit being in the 1 state:  0.475\n",
      "Phase:  1.5207754699891265\n",
      "Phase Error:  0.050020856805770064\n"
     ]
    }
   ],
   "source": [
    "\n",
    "# calculate the phase from the probability of ones\n",
    "phase = math.acos((probability1*2-1)*-1)\n",
    "\n",
    "print(\"Phase: \", phase)\n",
    "\n",
    "# calculate the phase error\n",
    "phaseError = abs(phase - phaseAmount)\n",
    "print(\"Phase Error: \", phaseError)"
   ]
  }
 ],
 "metadata": {
  "colab": {
   "provenance": []
  },
  "kernelspec": {
   "display_name": "Python 3",
   "name": "python3"
  },
  "language_info": {
   "codemirror_mode": {
    "name": "ipython",
    "version": 3
   },
   "file_extension": ".py",
   "mimetype": "text/x-python",
   "name": "python",
   "nbconvert_exporter": "python",
   "pygments_lexer": "ipython3",
   "version": "3.8.0"
  }
 },
 "nbformat": 4,
 "nbformat_minor": 0
}
