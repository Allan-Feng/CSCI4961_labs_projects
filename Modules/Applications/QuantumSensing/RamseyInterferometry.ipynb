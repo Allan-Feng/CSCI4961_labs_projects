{
 "cells": [
  {
   "cell_type": "markdown",
   "metadata": {},
   "source": [
    "# Phase Estimation Using Ramsey Interferometry"
   ]
  },
  {
   "cell_type": "markdown",
   "metadata": {},
   "source": [
    "\n",
    "In this notebook, we introduce Ramsey interferometry as a method for phase estimation. One of the primary challenges in quantum computing lies in the sensitivity of qubits to environmental fluctuations. For instance, when a qubit is exposed to a magnetic field, it undergoes a phase change. This characteristic is utilized to achieve highly precise measurements of magnetic fields.\n",
    "\n",
    "1. [Problem](#1.-Problem)\n",
    "2. [Ramsey Experiment](#2.-Ramsey-Interferometry)\n"
   ]
  },
  {
   "cell_type": "markdown",
   "metadata": {},
   "source": [
    "\n",
    "## Imports"
   ]
  },
  {
   "cell_type": "code",
   "execution_count": null,
   "metadata": {
    "colab": {
     "base_uri": "https://localhost:8080/"
    },
    "id": "dqmKTCn91D8V",
    "outputId": "878a504b-6d2f-421a-9a24-4aadfe31babd"
   },
   "outputs": [],
   "source": [
    "!pip install qiskit qiskit_aer numpy matplotlib scipy pylatexenc"
   ]
  },
  {
   "cell_type": "code",
   "execution_count": 1,
   "metadata": {
    "id": "DhoidRSF1RXd"
   },
   "outputs": [],
   "source": [
    "from qiskit import QuantumCircuit, transpile\n",
    "from qiskit_aer import Aer\n",
    "import numpy as np\n",
    "import matplotlib.pyplot as plt\n",
    "from scipy.optimize import curve_fit\n",
    "from numpy import pi\n",
    "import math"
   ]
  },
  {
   "cell_type": "markdown",
   "metadata": {
    "id": "n7uds2Im18iO"
   },
   "source": [
    "## 1. Problem"
   ]
  },
  {
   "cell_type": "markdown",
   "metadata": {},
   "source": [
    "Relative phase shifts in quantum systems does not directly affect final measurement probabilities when measuring in certain bases. This means that looking at the measurement outcomes in, for example, the computational basis ($\\ket{0}$ and $\\ket{1}$) may not reveal information about these phase shifts.\n",
    "\n",
    "Generally, qubits are in the form: $\\ket{\\psi} = \\alpha\\ket{0} + \\beta\\ket{1}$\n",
    "\n",
    "After applying a phase shift of magnitude $\\frac{π}{2}$, the state becomes:  $\\ket{\\psi}  = \\alpha\\ket{0} + \\beta e^{\\frac{i\\pi}{2}}\\ket{1}$\n",
    "\n",
    "Measuring the qubit at this stage will yield the same probabilities as before the phase shift. Consequently, the phase shift is not reflected in the readout, making it impossible to determine the phase.\n",
    "\n",
    "$P[\\ket{0}] = \\alpha^2$\n",
    "\n",
    "$P[\\ket{1}] =  | \\beta e^{\\frac{i\\pi}{2}}|^2 =  \\beta e^{\\frac{i\\pi}{2}} *  \\beta e^{\\frac{-i\\pi}{2}} = \\beta^2$\n",
    "\n",
    "### 1.1 Example"
   ]
  },
  {
   "cell_type": "code",
   "execution_count": 2,
   "metadata": {},
   "outputs": [
    {
     "data": {
      "image/png": "[encoded data removed]",
      "text/plain": [
       "<Figure size 352.675x200.667 with 1 Axes>"
      ]
     },
     "execution_count": 2,
     "metadata": {},
     "output_type": "execute_result"
    }
   ],
   "source": [
    "# create a quantum register with 1 qubit and 1 classical bit\n",
    "numOfQubits = 1\n",
    "numOfClassBits = 1\n",
    "circuit = QuantumCircuit(numOfQubits,numOfClassBits)\n",
    "\n",
    "# initialize qubit to the 1 state\n",
    "circuit.x(0)\n",
    "\n",
    "# Phase Shift: perform a 90 degree rotation around the z-axis\n",
    "phaseAmount = pi/2\n",
    "circuit.u(0, phaseAmount, 0, 0)\n",
    "\n",
    "# measure the qubit\n",
    "circuit.measure(0,0)\n",
    "\n",
    "# print the circuit\n",
    "circuit.draw('mpl')"
   ]
  },
  {
   "cell_type": "markdown",
   "metadata": {},
   "source": [
    "In our example, since we started with the qubit initialized in the $\\ket{1}$ state, we should expect a readout of 1 when we measure the circuit, as the phase shift was not encoded."
   ]
  },
  {
   "cell_type": "code",
   "execution_count": 3,
   "metadata": {},
   "outputs": [
    {
     "name": "stdout",
     "output_type": "stream",
     "text": [
      "Probability of the qubit being in the 0 state:  0\n",
      "Probability of the qubit being in the 1 state:  1.0\n"
     ]
    }
   ],
   "source": [
    "# transpile the circuit to the Aer simulator\n",
    "simulator = Aer.get_backend('qasm_simulator')\n",
    "compiled_circuit = transpile(circuit, simulator)\n",
    "\n",
    "# Number of times the experiment is run\n",
    "shots = 1000\n",
    "\n",
    "# plot a histogram shots is the number of times the circuit is run (will be elaborated on later)\n",
    "job = simulator.run(compiled_circuit, shots=shots)\n",
    "result = job.result()\n",
    "\n",
    "counts = result.get_counts()\n",
    "\n",
    "# probability of the qubit in each state\n",
    "probability0 = 0 if '0' not in counts else counts['0']/shots\n",
    "probability1 = 0 if '1' not in counts else counts['1']/shots\n",
    "\n",
    "print(\"Probability of the qubit being in the 0 state: \", probability0)\n",
    "print(\"Probability of the qubit being in the 1 state: \", probability1)"
   ]
  },
  {
   "cell_type": "markdown",
   "metadata": {},
   "source": [
    "## 2. Ramsey Interferometry"
   ]
  },
  {
   "cell_type": "markdown",
   "metadata": {},
   "source": [
    "To encode the phase shift onto the readout probabilities, we utilize Ramsey Interferometry. <br> \n",
    "First we apply a Hadamard gate to the qubit. This is the equivalent of applying a $\\frac{\\pi}{2}$ pulse to an initialized qubit. \n",
    "$$\\ket{\\psi} = \\frac{\\ket{0} + \\ket{1}}{\\sqrt{2}}$$"
   ]
  },
  {
   "cell_type": "code",
   "execution_count": 4,
   "metadata": {
    "id": "CqT2Do9N1vK-"
   },
   "outputs": [
    {
     "data": {
      "text/plain": [
       "<qiskit.circuit.instructionset.InstructionSet at 0x230a8b42170>"
      ]
     },
     "execution_count": 4,
     "metadata": {},
     "output_type": "execute_result"
    }
   ],
   "source": [
    "# create a quantum register with 1 qubit and 1 classical bit\n",
    "numOfQubits = 1\n",
    "numOfClassBits = 1\n",
    "circuit = QuantumCircuit(numOfQubits,numOfClassBits)\n",
    "\n",
    "# reset the qubit to the 0 state\n",
    "circuit.reset(0)\n",
    "\n",
    "# ramsey sequence 1: hadamard gate to rotate the qubit to the superposition state\n",
    "circuit.h(0)"
   ]
  },
  {
   "cell_type": "markdown",
   "metadata": {},
   "source": [
    "The qubit will then undergo a phase change of magnitude $\\theta$ (for our test, its magnitude is $\\frac{\\pi}{2}$) and end up in the state:\n",
    "\n",
    "$$\n",
    "\\ket{\\psi} = \\frac{\\ket{0}}{\\sqrt{2}} + \\frac{e^{i\\theta} \\ket{1}}{\\sqrt{2}}\n",
    "$$"
   ]
  },
  {
   "cell_type": "code",
   "execution_count": 5,
   "metadata": {},
   "outputs": [
    {
     "data": {
      "text/plain": [
       "<qiskit.circuit.instructionset.InstructionSet at 0x230a8b424a0>"
      ]
     },
     "execution_count": 5,
     "metadata": {},
     "output_type": "execute_result"
    }
   ],
   "source": [
    "# Phase Shift: perform a 90 degree rotation around the z-axis\n",
    "phaseAmount = pi/2\n",
    "circuit.u(0, phaseAmount, 0, 0)"
   ]
  },
  {
   "cell_type": "markdown",
   "metadata": {},
   "source": [
    "A second Hadamard gate is applied to map the phase shift onto the probability of the qubit being in the 0 or 1 state.\n",
    "\n",
    "$$\n",
    "\\ket{\\psi} = H \\otimes \\left( \\frac{\\ket{0}}{\\sqrt{2}} + \\frac{e^{i\\theta} \\ket{1}}{\\sqrt{2}} \\right)\n",
    "$$\n",
    "\n",
    "$$\n",
    "\\ket{\\psi} = \\frac{1+e^{i\\theta}}{2}\\ket{0} + \\frac{1-e^{i\\theta}}{2}\\ket{1}\n",
    "$$"
   ]
  },
  {
   "cell_type": "code",
   "execution_count": 6,
   "metadata": {},
   "outputs": [
    {
     "data": {
      "image/png": "[encoded data removed]",
      "text/plain": [
       "<Figure size 519.897x200.667 with 1 Axes>"
      ]
     },
     "execution_count": 6,
     "metadata": {},
     "output_type": "execute_result"
    }
   ],
   "source": [
    "# ramsey sequence 2: hadamard gate to rotate the qubit back to the 0 or 1 state\n",
    "circuit.h(0)\n",
    "\n",
    "# measure the qubit and provide a histogram of the results\n",
    "circuit.measure(0,0)\n",
    "\n",
    "# print the circuit\n",
    "circuit.draw('mpl')"
   ]
  },
  {
   "attachments": {},
   "cell_type": "markdown",
   "metadata": {},
   "source": [
    "We can determine the probability of the qubit being in the state $\\ket{1}$ to demonstrate that the phase information has been successfully encoded.\n",
    "\n",
    "$$\n",
    "P[\\ket{0}] = |\\frac{1+e^{i\\theta}}{2}|^2\n",
    "$$\n",
    "\n",
    "$$\n",
    "P[\\ket{1}] = |\\frac{1-e^{i\\theta}}{2}|^2\n",
    "$$\n",
    "\n",
    "We can use Euler's Formula to simplify these equations.\n",
    "$$e^{i\\theta} = \\cos(\\theta)+i\\sin(\\theta)$$\n",
    "$$e^{i\\theta} + e^{-i\\theta} = \\cos(\\theta) + i\\sin(\\theta) +  \\cos(\\theta) - i\\sin(\\theta) = 2\\cos(\\theta)$$\n",
    "$$\\cos(\\theta) = \\frac{1}{2}(e^{i\\theta} + e^{-i\\theta})$$\n",
    "$$|\\cos(\\theta)|^2 = |\\frac{e^{i\\theta} + e^{-i\\theta}}{2}|^2= |\\frac{e^{-i \\theta} ( 1+e^{2i \\theta} ) }{2}|^2 =|\\frac{ 1+e^{2i \\theta}}{2}|^2  $$\n",
    "\n",
    "Replace $\\theta$ with $\\frac{\\theta}{2}$:\n",
    "        $$|\\cos(\\frac{\\theta}{2})|^2 =|\\frac{ 1+e^{i \\theta}}{2}|^2 = P[\\ket{0}] $$\n",
    "\n",
    "Since $P[\\ket{0}]$ + $P[\\ket{1}]$ = 1, $P[\\ket{1}] = |\\sin(\\frac{\\theta}{2})|^2$."
   ]
  },
  {
   "cell_type": "markdown",
   "metadata": {},
   "source": [
    " Extracting the Phase Shift: $P[\\ket1] =  |\\sin(\\frac{\\theta}{2})|^2$ and $P[\\ket0]= |\\cos(\\frac{\\theta}{2})|^2$\n",
    "\n",
    " \n",
    "### Solving for $P[\\ket0]$\n",
    "$$P[\\ket0]= |\\cos(\\frac{\\theta}{2})|^2 = |\\cos^2(\\frac{\\theta}{2})| =\\frac{1+\\cos(\\theta)}{2}$$\n",
    "for $\\theta \\in [0, 2\\pi]$\n",
    "\n",
    "### Solving for $P[\\ket1]$\n",
    "$$P[\\ket1] = |\\sin(\\frac{\\theta}{2})|^2 = |\\sin^2(\\frac{\\theta}{2})|  = \\frac{1-\\cos(\\theta)}{2}$$\n",
    "for $\\theta \\in [0, 2\\pi]$"
   ]
  },
  {
   "cell_type": "code",
   "execution_count": 7,
   "metadata": {},
   "outputs": [
    {
     "name": "stdout",
     "output_type": "stream",
     "text": [
      "Probability of the qubit being in the 0 state:  0.491\n",
      "Probability of the qubit being in the 1 state:  0.509\n"
     ]
    }
   ],
   "source": [
    "# transpile the circuit to the Aer simulator\n",
    "simulator = Aer.get_backend('qasm_simulator')\n",
    "compiled_circuit = transpile(circuit, simulator)\n",
    "\n",
    "# Number of times the experiment is run\n",
    "shots = 1000\n",
    "\n",
    "# plot a histogram shots is the number of times the circuit is run(will be elaborated on later)\n",
    "job = simulator.run(compiled_circuit, shots=shots)\n",
    "result = job.result()\n",
    "\n",
    "counts = result.get_counts()\n",
    "\n",
    "# probbility of the qubit being in the 0 state\n",
    "probability0 = 0 if '0' not in counts else counts['0']/shots\n",
    "probability1 = 0 if '1' not in counts else counts['1']/shots\n",
    "\n",
    "print(\"Probability of the qubit being in the 0 state: \", probability0)\n",
    "print(\"Probability of the qubit being in the 1 state: \", probability1)\n"
   ]
  },
  {
   "cell_type": "markdown",
   "metadata": {},
   "source": [
    "### 2.1 Relating the Probability of $\\ket{1}$ to $\\theta$\n",
    "\n",
    "We can use this function to relate the probability of $\\ket{1}$ to $\\theta$ and obtain a reading of $\\theta$. We then calculate and print the error between our calculated $\\theta$ and the expected value of $\\theta = \\frac{\\pi}{2}$.\n",
    "\n",
    "$$P[\\ket1] = \\frac{1-\\cos(\\theta)}{2}$$\n",
    "$$2P[\\ket1] - 1 = -\\cos(\\theta) $$\n",
    "$$\\theta = \\arccos(-(2P[\\ket1] - 1))$$"
   ]
  },
  {
   "cell_type": "code",
   "execution_count": 8,
   "metadata": {
    "colab": {
     "base_uri": "https://localhost:8080/"
    },
    "id": "TmH7RFN9HM2_",
    "outputId": "a489d7ed-227d-4bde-e9df-4e629ae314e3"
   },
   "outputs": [
    {
     "name": "stdout",
     "output_type": "stream",
     "text": [
      "Calculated Phase: 1.5887972989366417\n",
      "Actual Phase: 1.5707963267948966\n",
      "Phase Error: 0.01800097214174512\n"
     ]
    }
   ],
   "source": [
    "# calculate the phase from the probability of ones\n",
    "phase = math.acos((probability1*2-1)*-1)\n",
    "\n",
    "print(\"Calculated Phase:\", phase)\n",
    "print(\"Actual Phase:\", phaseAmount)\n",
    "\n",
    "# calculate the phase error\n",
    "phaseError = abs(phase - phaseAmount)\n",
    "print(\"Phase Error:\", phaseError)"
   ]
  }
 ],
 "metadata": {
  "colab": {
   "provenance": []
  },
  "kernelspec": {
   "display_name": "Python 3 (ipykernel)",
   "language": "python",
   "name": "python3"
  },
  "language_info": {
   "codemirror_mode": {
    "name": "ipython",
    "version": 3
   },
   "file_extension": ".py",
   "mimetype": "text/x-python",
   "name": "python",
   "nbconvert_exporter": "python",
   "pygments_lexer": "ipython3",
   "version": "3.11.9"
  }
 },
 "nbformat": 4,
 "nbformat_minor": 4
}
