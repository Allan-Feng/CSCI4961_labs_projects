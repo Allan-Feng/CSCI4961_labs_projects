{
 "cells": [
  {
   "cell_type": "markdown",
   "metadata": {},
   "source": [
    "# Simulated Annealing on MaxCut Problem"
   ]
  },
  {
   "cell_type": "markdown",
   "metadata": {},
   "source": [
    "In this notebook, we demonstrate Simulated Annealing on the MaxCut problem. \n",
    "\n",
    "Simulated annealing is an optimization algorithm inspired by the annealing process in metallurgy. It explores the solution space by accepting both better and worse neighboring states with a probability that decreases over time. At high temperatures, the algorithm explores broadly and avoids local optima. As the temperature lowers, it refines the solution and converges to an optimal or near-optimal state.\n",
    "\n",
    "1. [Introduction](#intro)\n",
    "2. [Temperature Decay](#tempdecay)\n",
    "3. [Simulated Annealing Initialization](#siminit)\n",
    "4. [Testing](#testing)"
   ]
  },
  {
   "cell_type": "markdown",
   "metadata": {},
   "source": [
    "<a id='intro'></a>\n",
    "## 1. Introduction\n",
    "\n",
    "### Imports"
   ]
  },
  {
   "cell_type": "code",
   "execution_count": null,
   "metadata": {},
   "outputs": [],
   "source": [
    "%pip install numpy\n",
    "%pip install networkx\n",
    "%pip install torch\n",
    "%pip install pandas"
   ]
  },
  {
   "cell_type": "code",
   "execution_count": 1,
   "metadata": {},
   "outputs": [],
   "source": [
    "import copy\n",
    "import time\n",
    "from typing import List, Union\n",
    "import numpy as np\n",
    "import random\n",
    "import networkx as nx\n",
    "from util import read_nxgraph\n",
    "from util import obj_maxcut"
   ]
  },
  {
   "cell_type": "markdown",
   "metadata": {},
   "source": [
    "copy: deep copies <br>\n",
    "time: measurement <br>\n",
    "typing: type annotations <br>\n",
    "numpy: arrays<br>\n",
    "random: sampling <br>\n",
    "networkx: graph manipulation/analysis <br>\n",
    "util: read graphs, calculate Max-Cut objective function"
   ]
  },
  {
   "cell_type": "markdown",
   "metadata": {},
   "source": [
    "<a id='tempdecay'></a>\n",
    "## 2. Temperature Decay Function\n",
    "\n",
    "This loop features the temperature decay and comparison of results for further traversal in the algorithm.\n",
    "\n",
    "The temperature decay function is given by:\n",
    "\n",
    "$$ temp = initTemp * (\\frac{1-(currStep+1)}{numSteps})$$\n",
    "\n",
    "The probability calculation used to determine if the algorithm should continue exploring other parts of the function is given by:\n",
    "\n",
    "$$ \\mathbb{P} = e^{\\frac{-(currScore - newScore)}{(temp + 1^{-6})}}$$"
   ]
  },
  {
   "cell_type": "code",
   "execution_count": 2,
   "metadata": {},
   "outputs": [],
   "source": [
    "def temperature_decay(num_steps, graph):\n",
    "    \"\"\"\n",
    "    Simulates the temperature decay process during simulated annealing for solving the Max-Cut problem.\n",
    "\n",
    "    Parameters:\n",
    "    -- num_steps: Number of steps\n",
    "    -- graph: A NetworkX graph for the MaxCut problem\n",
    "\n",
    "    Return:\n",
    "    -- scores: List of objective values at each step\n",
    "    -- init_score: Initial objective value of solution\n",
    "    -- curr_score: Final objective value after simulated annealing\n",
    "    -- curr_solution: Final solution partitioning of nodes\n",
    "    \"\"\"\n",
    "    init_solution = [0] * int(graph.number_of_nodes() / 2) + [1] * int(graph.number_of_nodes() / 2)\n",
    "    curr_solution = copy.deepcopy(init_solution)\n",
    "    # Gives us the maximum cut value (objective value) of current partitioning\n",
    "    curr_score = obj_maxcut(curr_solution, graph)\n",
    "    init_score = curr_score\n",
    "    num_nodes = len(init_solution)\n",
    "    scores = []\n",
    "    for k in range(num_steps):\n",
    "        # The temperature decreases\n",
    "        temperature = init_temperature * (1 - (k + 1) / num_steps)\n",
    "        new_solution = copy.deepcopy(curr_solution)\n",
    "        idx = np.random.randint(0, num_nodes)\n",
    "        new_solution[idx] = (new_solution[idx] + 1) % 2\n",
    "        new_score = obj_maxcut(new_solution, graph)\n",
    "        scores.append(new_score)\n",
    "        delta_e = curr_score - new_score\n",
    "        if delta_e < 0:\n",
    "            curr_solution = new_solution\n",
    "            curr_score = new_score\n",
    "        else:\n",
    "            prob = np.exp(- delta_e / (temperature + 1e-6))\n",
    "            if prob > random.random():\n",
    "                curr_solution = new_solution\n",
    "                curr_score = new_score\n",
    "\n",
    "    return scores, init_score, curr_score, curr_solution"
   ]
  },
  {
   "cell_type": "markdown",
   "metadata": {},
   "source": [
    "<a id='siminit'></a>\n",
    "## 3. Simulated Annealing Initialization"
   ]
  },
  {
   "cell_type": "code",
   "execution_count": 3,
   "metadata": {},
   "outputs": [],
   "source": [
    "def simulated_annealing(init_temperature: int, num_steps: int, graph: nx.Graph) -> (int, Union[List[int], np.array], List[int]):\n",
    "    \"\"\"\n",
    "    Performs simulated annealing process for Max Cut.\n",
    "\n",
    "    Parameters:\n",
    "    -- init_temperature: Starting temperature for simulated annealing\n",
    "    -- num_steps: Number of steps\n",
    "    -- graph: A NetworkX graph for the MaxCut problem\n",
    "\n",
    "    Return:\n",
    "    -- curr_score: Final objective value after simulated annealing\n",
    "    -- curr_solution: Final solution partitioning of nodes\n",
    "    -- scores: List of objective values at each step\n",
    "    \"\"\"\n",
    "    print('simulated_annealing')\n",
    "\n",
    "    start_time = time.time()\n",
    "\n",
    "    scores, init_score, curr_score, curr_solution = temperature_decay(num_steps, graph)\n",
    "    \n",
    "    print(\"score, init_score of simulated_annealing:\", curr_score, init_score)\n",
    "    print(\"solution: \", curr_solution)\n",
    "    running_duration = time.time() - start_time\n",
    "    print('running_duration: ', running_duration)\n",
    "    return curr_score, curr_solution, scores"
   ]
  },
  {
   "cell_type": "markdown",
   "metadata": {},
   "source": [
    "<a id='testing'></a>\n",
    "## 4. Testing\n",
    "\n",
    "Below are descriptions of the graphs in our dataset (sourced from https://web.stanford.edu/~yyye/yyye/Gset/). \n",
    "| Graph | # Nodes | # Edges |\n",
    "|-------|---------|---------|\n",
    "|  G14  |   800   |   4694  |\n",
    "|  G15  |   800   |   4661  |\n",
    "|  G22  |  2000   |  19990  |\n",
    "|  G49  |  3000   |   6000  |\n",
    "|  G50  |  3000   |   6000  |\n",
    "|  G55  |  5000   |  12468  |\n",
    "|  G70  | 10000   |   9999  |\n",
    "\n",
    "Run the following to get the results of simulated annealing on G14."
   ]
  },
  {
   "cell_type": "code",
   "execution_count": 4,
   "metadata": {},
   "outputs": [
    {
     "name": "stdout",
     "output_type": "stream",
     "text": [
      "simulated_annealing\n",
      "score, init_score of simulated_annealing: 2791.0 1934.0\n",
      "solution:  [0, 1, 1, 1, 1, 0, 1, 1, 0, 0, 0, 1, 1, 0, 1, 0, 1, 0, 1, 1, 1, 0, 0, 0, 1, 1, 1, 1, 0, 1, 0, 0, 1, 1, 0, 0, 1, 1, 0, 0, 0, 1, 0, 0, 0, 0, 0, 1, 0, 0, 1, 0, 0, 1, 0, 0, 0, 0, 0, 1, 1, 0, 0, 1, 1, 1, 1, 0, 1, 0, 1, 0, 1, 0, 1, 1, 1, 0, 0, 1, 1, 0, 0, 1, 0, 1, 1, 0, 0, 0, 1, 1, 1, 1, 0, 1, 1, 0, 1, 0, 1, 0, 0, 0, 1, 0, 1, 0, 1, 0, 1, 1, 0, 0, 0, 0, 0, 1, 1, 0, 1, 1, 1, 1, 1, 0, 0, 1, 1, 0, 1, 0, 0, 0, 0, 1, 0, 1, 0, 1, 1, 1, 0, 1, 0, 0, 0, 1, 1, 0, 1, 0, 1, 0, 0, 0, 0, 1, 0, 0, 0, 1, 0, 0, 1, 1, 1, 1, 0, 0, 1, 0, 0, 1, 0, 1, 0, 1, 0, 0, 0, 0, 0, 0, 0, 0, 0, 0, 1, 1, 0, 0, 1, 0, 1, 1, 1, 1, 1, 1, 1, 1, 0, 0, 1, 1, 0, 1, 0, 0, 1, 0, 1, 0, 1, 1, 1, 0, 1, 0, 1, 1, 0, 0, 1, 0, 0, 0, 1, 1, 1, 1, 1, 0, 1, 0, 0, 0, 0, 1, 1, 1, 1, 0, 0, 1, 0, 0, 1, 1, 0, 1, 0, 1, 1, 1, 1, 0, 0, 0, 1, 1, 0, 1, 1, 1, 0, 0, 0, 1, 0, 0, 1, 0, 1, 0, 0, 1, 1, 0, 0, 1, 1, 1, 0, 1, 1, 0, 1, 1, 1, 1, 0, 1, 0, 0, 1, 0, 1, 1, 1, 1, 1, 1, 1, 1, 0, 1, 0, 1, 0, 0, 0, 0, 0, 1, 1, 0, 1, 0, 1, 0, 1, 0, 1, 0, 1, 0, 1, 0, 0, 1, 0, 1, 1, 0, 0, 1, 1, 0, 0, 0, 1, 1, 0, 1, 1, 1, 0, 0, 1, 0, 1, 1, 1, 1, 0, 0, 1, 1, 0, 0, 0, 0, 0, 0, 0, 1, 1, 1, 0, 0, 0, 0, 0, 1, 0, 0, 0, 0, 0, 0, 1, 1, 1, 0, 1, 1, 0, 0, 1, 1, 0, 0, 0, 0, 0, 0, 1, 1, 1, 0, 1, 1, 0, 0, 0, 1, 1, 1, 1, 1, 0, 0, 0, 0, 1, 1, 0, 1, 0, 1, 1, 1, 1, 1, 0, 0, 0, 1, 0, 1, 0, 0, 1, 1, 1, 0, 1, 1, 1, 0, 0, 1, 0, 0, 0, 1, 0, 0, 0, 0, 1, 0, 1, 0, 1, 0, 0, 0, 1, 1, 1, 1, 0, 1, 1, 0, 1, 0, 0, 1, 1, 0, 0, 1, 0, 1, 1, 0, 1, 0, 0, 0, 1, 1, 0, 1, 1, 0, 1, 1, 0, 1, 0, 0, 1, 0, 0, 0, 1, 1, 0, 1, 0, 0, 0, 0, 1, 0, 1, 1, 1, 1, 0, 1, 1, 1, 0, 0, 0, 0, 1, 0, 0, 0, 1, 1, 0, 1, 1, 1, 1, 0, 0, 0, 0, 0, 0, 1, 1, 1, 1, 0, 0, 0, 0, 1, 0, 1, 0, 1, 1, 1, 0, 0, 1, 1, 0, 0, 0, 1, 0, 0, 0, 0, 1, 1, 1, 1, 1, 0, 1, 0, 1, 0, 1, 1, 1, 0, 0, 0, 1, 1, 0, 0, 0, 0, 0, 1, 0, 0, 1, 0, 0, 0, 1, 0, 0, 1, 0, 1, 1, 0, 0, 0, 0, 1, 0, 0, 1, 1, 0, 1, 1, 1, 0, 1, 0, 0, 0, 0, 1, 1, 1, 0, 0, 0, 1, 1, 0, 1, 0, 0, 1, 1, 1, 0, 0, 1, 0, 0, 1, 0, 0, 1, 1, 1, 0, 0, 1, 1, 0, 0, 0, 1, 0, 1, 1, 1, 0, 1, 1, 1, 0, 0, 0, 1, 1, 0, 1, 0, 1, 0, 1, 1, 1, 0, 0, 0, 0, 1, 1, 1, 0, 0, 1, 1, 0, 0, 0, 1, 0, 1, 1, 1, 1, 1, 1, 0, 0, 0, 0, 0, 0, 0, 0, 1, 0, 1, 0, 1, 1, 0, 1, 0, 0, 0, 1, 0, 0, 0, 0, 1, 0, 1, 1, 0, 1, 1, 1, 0, 1, 0, 1, 0, 1, 0, 1, 1, 1, 0, 1, 1, 0, 1, 1, 1, 0, 0, 1, 0, 1, 0, 1, 1, 0, 0, 1, 1, 0, 1, 1, 1, 0, 1, 1, 0, 1, 1, 0, 1, 1, 0, 0, 0, 1, 0, 1, 0, 0, 0, 1, 0, 1, 1, 1, 0, 1, 1, 1, 0, 1, 1, 0, 0, 1, 0, 0, 1]\n",
      "running_duration:  82.65271592140198\n"
     ]
    }
   ],
   "source": [
    "if __name__ == '__main__':\n",
    "    graph = read_nxgraph('./data/gset_14.txt')\n",
    "    init_temperature = 4\n",
    "    num_steps = 2000\n",
    "    sa_score, sa_solution, sa_scores = simulated_annealing(init_temperature, num_steps, graph)"
   ]
  },
  {
   "cell_type": "markdown",
   "metadata": {},
   "source": [
    "<a id='benchmark'></a>\n",
    "### 4.1 Benchmarked Results\n",
    "\n",
    "These results demonstrate the score given to the Simulated Annealing Algorithm on 7 benchmarked graphs given in data. Additionally, a graph corresponding to the time taken to complete each test is provided. <br>\n",
    "![title](images/simulated_annealing_scores.png)"
   ]
  }
 ],
 "metadata": {
  "kernelspec": {
   "display_name": "Python 3 (ipykernel)",
   "language": "python",
   "name": "python3"
  },
  "language_info": {
   "codemirror_mode": {
    "name": "ipython",
    "version": 3
   },
   "file_extension": ".py",
   "mimetype": "text/x-python",
   "name": "python",
   "nbconvert_exporter": "python",
   "pygments_lexer": "ipython3",
   "version": "3.11.9"
  }
 },
 "nbformat": 4,
 "nbformat_minor": 4
}
