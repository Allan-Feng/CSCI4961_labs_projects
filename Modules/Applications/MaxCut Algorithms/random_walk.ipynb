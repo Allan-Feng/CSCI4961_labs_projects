{
 "cells": [
  {
   "cell_type": "markdown",
   "metadata": {},
   "source": [
    "# Random Walk on MaxCut Problem"
   ]
  },
  {
   "cell_type": "markdown",
   "metadata": {},
   "source": [
    "In this notebook, we demonstrate Random Walk on the MaxCut problem. \n",
    "\n",
    "A random walk is a process where an entity makes random steps through a state space, with the next state determined by a random choice from the current one, continuing for a set number of steps or until a stopping condition is met.\n",
    "\n",
    "1. [Introduction](#intro)\n",
    "3. [Random Walk](#siminit)\n",
    "4. [Testing](#testing)"
   ]
  },
  {
   "cell_type": "markdown",
   "metadata": {},
   "source": [
    "<a id='intro'></a>\n",
    "## 1. Introduction\n",
    "\n",
    "### Imports"
   ]
  },
  {
   "cell_type": "code",
   "execution_count": null,
   "metadata": {},
   "outputs": [],
   "source": [
    "%pip install numpy\n",
    "%pip install networkx\n",
    "%pip install torch\n",
    "%pip install pandas"
   ]
  },
  {
   "cell_type": "code",
   "execution_count": 1,
   "metadata": {},
   "outputs": [],
   "source": [
    "import copy\n",
    "import time\n",
    "from typing import List, Union\n",
    "import numpy as np\n",
    "import random\n",
    "import networkx as nx\n",
    "from util import read_nxgraph\n",
    "from util import obj_maxcut"
   ]
  },
  {
   "cell_type": "markdown",
   "metadata": {},
   "source": [
    "copy: deep copies <br>\n",
    "time: measurement <br>\n",
    "typing: type annotations <br>\n",
    "numpy: arrays<br>\n",
    "random: sampling <br>\n",
    "networkx: graph manipulation/analysis <br>\n",
    "util: read graphs, calculate Max-Cut objective function"
   ]
  },
  {
   "cell_type": "markdown",
   "metadata": {},
   "source": [
    "<a id='siminit'></a>\n",
    "## 2. Random Walk\n",
    "The function iteratively updates the current solution by flipping the binary values of selected nodes. In each step, it generates potential solutions by flipping up to max_num_flips nodes, evaluates their scores using obj_maxcut, and selects the solution with the highest score. The new solution is accepted if its score improves or matches the current score."
   ]
  },
  {
   "cell_type": "code",
   "execution_count": 2,
   "metadata": {},
   "outputs": [],
   "source": [
    "def random_walk(init_solution: Union[List[int], np.array], num_steps: int, max_num_flips: int, graph: nx.Graph) -> (int, Union[List[int], np.array], List[int]):\n",
    "    \"\"\"\n",
    "    Performs random walk for Max Cut.\n",
    "\n",
    "    Parameters:\n",
    "    -- init_solution: Initial solution\n",
    "    -- num_steps: Number of steps\n",
    "    -- max_num_flips: Maximum number of node flips to try in each step\n",
    "    -- graph: A NetworkX graph for the MaxCut problem\n",
    "\n",
    "    Return:\n",
    "    -- score: Final objective value after random walk\n",
    "    -- curr_solution: Final solution partitioning of nodes\n",
    "    -- scores: List of objective values at each step\n",
    "    \"\"\"\n",
    "    print('random_walk')\n",
    "    start_time = time.time()\n",
    "    curr_solution = copy.deepcopy(init_solution)\n",
    "    init_score = obj_maxcut(init_solution, graph)\n",
    "    num_nodes = len(curr_solution)\n",
    "    scores = []\n",
    "    nodes = list(range(num_nodes))\n",
    "    if max_num_flips > num_nodes:\n",
    "        max_num_flips = num_nodes\n",
    "    for i in range(num_steps):\n",
    "        # select nodes randomly\n",
    "        traversal_scores = []\n",
    "        traversal_solutions = []\n",
    "        for j in range(1, max_num_flips + 1):\n",
    "            selected_nodes = random.sample(nodes, j)\n",
    "            new_solution = copy.deepcopy(curr_solution)\n",
    "            new_solution = np.array(new_solution)\n",
    "            new_solution[selected_nodes] = (new_solution[selected_nodes] + 1) % 2\n",
    "            new_solution = new_solution.tolist()\n",
    "            # calc the obj\n",
    "            new_score = obj_maxcut(new_solution, graph)\n",
    "            traversal_scores.append(new_score)\n",
    "            traversal_solutions.append(new_solution)\n",
    "        best_traversal_score = max(traversal_scores)\n",
    "        index = traversal_scores.index(best_traversal_score)\n",
    "        best_traversal_solution = traversal_solutions[index]\n",
    "        if len(scores) == 0 or (len(scores) >= 1 and best_traversal_score >= scores[-1]):\n",
    "            curr_solution = best_traversal_solution\n",
    "            scores.append(best_traversal_score)\n",
    "    score = max(scores)\n",
    "    print(\"score, init_score of random_walk\", score, init_score)\n",
    "    print(\"scores: \", scores)\n",
    "    print(\"solution: \", curr_solution)\n",
    "    running_duration = time.time() - start_time\n",
    "    print('running_duration: ', running_duration)\n",
    "    return score, curr_solution, scores\n"
   ]
  },
  {
   "attachments": {},
   "cell_type": "markdown",
   "metadata": {},
   "source": [
    "<a id='testing'></a>\n",
    "## 3. Testing\n",
    "Below are descriptions of the graphs in our dataset (sourced from https://web.stanford.edu/~yyye/yyye/Gset/). <br>\n",
    "Notice that running a random walk on some graphs may not be feasible. <br>\n",
    "| Graph | # Nodes | # Edges |\n",
    "|-------|---------|---------|\n",
    "|  G14  |   800   |   4694  |\n",
    "|  G15  |   800   |   4661  |\n",
    "|  G22  |  2000   |  19990  |\n",
    "|  G49  |  3000   |   6000  |\n",
    "|  G50  |  3000   |   6000  |\n",
    "|  G55  |  5000   |  12468  |\n",
    "|  G70  | 10000   |   9999  |"
   ]
  },
  {
   "cell_type": "code",
   "execution_count": 3,
   "metadata": {},
   "outputs": [
    {
     "name": "stdout",
     "output_type": "stream",
     "text": [
      "random_walk\n",
      "score, init_score of random_walk 2928.0 2374.0\n",
      "scores:  [2391.0, 2404.0, 2408.0, 2427.0, 2440.0, 2449.0, 2465.0, 2471.0, 2488.0, 2497.0, 2506.0, 2513.0, 2524.0, 2531.0, 2536.0, 2541.0, 2541.0, 2544.0, 2558.0, 2563.0, 2566.0, 2571.0, 2575.0, 2577.0, 2580.0, 2582.0, 2588.0, 2595.0, 2600.0, 2610.0, 2615.0, 2616.0, 2617.0, 2622.0, 2626.0, 2631.0, 2632.0, 2632.0, 2633.0, 2638.0, 2640.0, 2651.0, 2656.0, 2658.0, 2661.0, 2662.0, 2663.0, 2673.0, 2679.0, 2682.0, 2684.0, 2689.0, 2691.0, 2694.0, 2695.0, 2701.0, 2702.0, 2702.0, 2702.0, 2706.0, 2708.0, 2709.0, 2710.0, 2714.0, 2714.0, 2716.0, 2716.0, 2721.0, 2721.0, 2723.0, 2729.0, 2730.0, 2732.0, 2732.0, 2733.0, 2733.0, 2733.0, 2733.0, 2735.0, 2735.0, 2737.0, 2737.0, 2748.0, 2749.0, 2749.0, 2753.0, 2753.0, 2756.0, 2759.0, 2760.0, 2761.0, 2761.0, 2762.0, 2763.0, 2764.0, 2764.0, 2764.0, 2764.0, 2767.0, 2767.0, 2769.0, 2772.0, 2774.0, 2775.0, 2778.0, 2780.0, 2780.0, 2783.0, 2783.0, 2784.0, 2787.0, 2788.0, 2788.0, 2793.0, 2796.0, 2800.0, 2800.0, 2801.0, 2801.0, 2801.0, 2806.0, 2809.0, 2809.0, 2809.0, 2809.0, 2809.0, 2810.0, 2810.0, 2810.0, 2810.0, 2811.0, 2812.0, 2813.0, 2813.0, 2813.0, 2818.0, 2819.0, 2819.0, 2823.0, 2823.0, 2825.0, 2825.0, 2825.0, 2825.0, 2826.0, 2826.0, 2827.0, 2827.0, 2827.0, 2827.0, 2827.0, 2827.0, 2827.0, 2827.0, 2827.0, 2828.0, 2829.0, 2830.0, 2832.0, 2833.0, 2833.0, 2833.0, 2834.0, 2834.0, 2834.0, 2836.0, 2836.0, 2836.0, 2836.0, 2836.0, 2838.0, 2839.0, 2840.0, 2841.0, 2841.0, 2841.0, 2841.0, 2843.0, 2844.0, 2844.0, 2847.0, 2849.0, 2851.0, 2853.0, 2853.0, 2853.0, 2853.0, 2853.0, 2853.0, 2853.0, 2853.0, 2853.0, 2853.0, 2853.0, 2853.0, 2853.0, 2855.0, 2856.0, 2857.0, 2857.0, 2858.0, 2862.0, 2862.0, 2862.0, 2867.0, 2867.0, 2867.0, 2867.0, 2868.0, 2868.0, 2868.0, 2868.0, 2869.0, 2870.0, 2871.0, 2871.0, 2871.0, 2871.0, 2871.0, 2872.0, 2874.0, 2875.0, 2875.0, 2875.0, 2875.0, 2877.0, 2877.0, 2877.0, 2877.0, 2878.0, 2879.0, 2881.0, 2881.0, 2881.0, 2881.0, 2881.0, 2881.0, 2881.0, 2883.0, 2883.0, 2883.0, 2883.0, 2883.0, 2883.0, 2883.0, 2883.0, 2883.0, 2883.0, 2883.0, 2883.0, 2883.0, 2883.0, 2885.0, 2885.0, 2885.0, 2885.0, 2886.0, 2886.0, 2886.0, 2886.0, 2886.0, 2887.0, 2887.0, 2888.0, 2891.0, 2892.0, 2892.0, 2894.0, 2894.0, 2894.0, 2894.0, 2895.0, 2895.0, 2895.0, 2895.0, 2896.0, 2896.0, 2897.0, 2899.0, 2899.0, 2899.0, 2899.0, 2899.0, 2900.0, 2900.0, 2900.0, 2900.0, 2900.0, 2900.0, 2900.0, 2900.0, 2900.0, 2900.0, 2900.0, 2902.0, 2902.0, 2902.0, 2904.0, 2904.0, 2904.0, 2904.0, 2904.0, 2905.0, 2907.0, 2907.0, 2907.0, 2908.0, 2908.0, 2908.0, 2908.0, 2908.0, 2911.0, 2911.0, 2912.0, 2912.0, 2912.0, 2913.0, 2913.0, 2913.0, 2913.0, 2915.0, 2919.0, 2919.0, 2919.0, 2924.0, 2924.0, 2924.0, 2925.0, 2925.0, 2925.0, 2925.0, 2927.0, 2927.0, 2927.0, 2927.0, 2927.0, 2928.0, 2928.0]\n",
      "solution:  [0, 0, 1, 1, 1, 0, 1, 0, 0, 1, 1, 1, 0, 1, 1, 1, 0, 1, 0, 1, 0, 1, 1, 0, 0, 1, 0, 0, 1, 0, 0, 0, 1, 0, 0, 0, 1, 1, 0, 0, 0, 1, 0, 0, 1, 1, 0, 0, 1, 0, 1, 1, 0, 0, 0, 0, 0, 1, 1, 0, 0, 1, 1, 1, 0, 1, 1, 1, 1, 0, 0, 1, 0, 0, 0, 0, 1, 1, 0, 1, 0, 1, 1, 1, 0, 1, 1, 0, 1, 0, 0, 1, 1, 0, 0, 1, 1, 0, 0, 1, 0, 1, 1, 0, 0, 1, 0, 1, 1, 0, 0, 1, 0, 1, 1, 0, 0, 0, 0, 1, 0, 1, 0, 1, 1, 0, 1, 1, 1, 0, 1, 1, 0, 1, 0, 0, 1, 1, 0, 1, 1, 1, 1, 0, 0, 0, 1, 1, 0, 0, 0, 1, 0, 0, 0, 1, 0, 0, 1, 1, 1, 0, 0, 1, 0, 0, 1, 0, 0, 1, 0, 0, 1, 1, 1, 0, 1, 1, 1, 0, 0, 1, 0, 1, 1, 1, 1, 0, 0, 1, 0, 1, 1, 0, 0, 1, 0, 1, 1, 1, 0, 1, 1, 0, 0, 0, 1, 0, 0, 0, 1, 0, 0, 0, 0, 0, 1, 0, 1, 0, 0, 0, 0, 0, 1, 1, 1, 0, 0, 1, 1, 1, 0, 1, 0, 1, 1, 0, 0, 1, 0, 0, 0, 0, 1, 0, 0, 0, 1, 1, 1, 0, 1, 1, 0, 0, 1, 1, 1, 1, 0, 1, 1, 0, 1, 0, 0, 0, 1, 0, 0, 0, 1, 1, 1, 0, 1, 0, 0, 0, 1, 1, 1, 1, 1, 1, 0, 1, 0, 0, 0, 0, 0, 0, 0, 1, 1, 1, 0, 0, 0, 0, 1, 0, 1, 0, 0, 0, 0, 1, 0, 0, 1, 0, 1, 0, 1, 1, 1, 0, 1, 0, 0, 1, 0, 0, 0, 1, 1, 0, 0, 0, 0, 1, 0, 1, 1, 0, 1, 0, 0, 0, 1, 1, 1, 0, 0, 1, 1, 0, 0, 0, 1, 0, 1, 1, 1, 1, 1, 1, 0, 1, 1, 0, 0, 0, 0, 1, 1, 1, 1, 0, 0, 1, 1, 0, 0, 0, 0, 1, 1, 1, 0, 0, 1, 1, 1, 1, 0, 0, 1, 1, 0, 0, 1, 0, 1, 0, 1, 1, 0, 0, 1, 0, 1, 0, 1, 0, 0, 0, 1, 1, 0, 1, 0, 0, 0, 1, 0, 0, 0, 0, 1, 0, 1, 0, 0, 0, 1, 0, 1, 1, 1, 0, 1, 1, 0, 0, 0, 1, 0, 0, 1, 1, 1, 0, 0, 1, 1, 0, 0, 1, 0, 0, 1, 1, 1, 1, 1, 0, 1, 0, 1, 0, 0, 0, 0, 0, 1, 1, 1, 0, 0, 1, 1, 1, 0, 0, 1, 1, 1, 0, 0, 0, 0, 0, 1, 1, 1, 0, 0, 1, 0, 0, 1, 0, 1, 1, 0, 0, 0, 1, 1, 0, 0, 0, 1, 0, 1, 1, 0, 1, 1, 1, 0, 1, 1, 0, 0, 1, 0, 0, 0, 1, 0, 1, 0, 0, 1, 0, 0, 1, 0, 1, 1, 0, 0, 1, 1, 1, 1, 0, 0, 0, 0, 1, 1, 1, 0, 0, 0, 1, 0, 0, 1, 1, 1, 0, 0, 0, 0, 1, 0, 1, 0, 0, 0, 0, 0, 0, 1, 0, 1, 0, 0, 0, 0, 1, 1, 0, 0, 0, 0, 0, 1, 0, 1, 0, 1, 1, 0, 0, 0, 0, 1, 1, 0, 1, 1, 1, 1, 1, 0, 0, 1, 1, 0, 1, 0, 0, 0, 0, 1, 0, 0, 1, 0, 0, 1, 0, 1, 0, 0, 0, 0, 1, 1, 1, 1, 1, 1, 0, 0, 1, 0, 0, 0, 1, 0, 0, 0, 1, 0, 1, 0, 1, 1, 1, 0, 0, 0, 1, 0, 0, 1, 1, 1, 0, 1, 0, 0, 1, 0, 0, 0, 1, 0, 0, 0, 1, 0, 0, 1, 1, 1, 1, 1, 1, 1, 0, 1, 0, 0, 1, 1, 0, 0, 1, 1, 1, 1, 0, 0, 0, 1, 0, 0, 1, 1, 1, 1, 1, 1, 0, 1, 0, 1, 0, 0, 0, 0, 1, 1, 0, 0, 0, 0, 1, 1, 1, 1, 0, 0, 1, 0, 1, 1, 1, 1, 0, 0, 1, 1, 0, 0, 0, 1, 0, 1, 1, 1, 0, 0, 1, 0, 1, 0, 0, 0, 1, 0, 0, 0, 1, 1, 1, 0, 0, 1, 1, 1, 0, 0, 0, 0, 1, 0, 0, 1, 1, 1, 1, 0, 0, 0, 0, 1, 0, 0, 1, 1, 0, 1, 1, 0, 1, 0, 0, 0, 0, 1, 0, 1, 1, 1, 1, 0, 0, 0, 1]\n",
      "running_duration:  845.5914444923401\n"
     ]
    }
   ],
   "source": [
    "if __name__ == '__main__':\n",
    "    # read data\n",
    "    graph = read_nxgraph('data/gset_14.txt')\n",
    "\n",
    "    # run alg\n",
    "    init_solution = list(np.random.randint(0, 2, graph.number_of_nodes()))\n",
    "    rw_score, rw_solution, rw_scores = random_walk(init_solution=init_solution, num_steps=1000, max_num_flips=20, graph=graph)\n"
   ]
  },
  {
   "cell_type": "markdown",
   "metadata": {},
   "source": [
    "<a id='benchmark'></a>\n",
    "## 4. Benchmarked Results\n",
    "\n",
    "The random walk algorithm was benchmarked on 6 Gset graphs. The 7th graph used in this testing suite, Gset70, was too large to be time-feasible and therefore was omitted. \n",
    "\n",
    "![title](images/random_walk_scores.png)"
   ]
  }
 ],
 "metadata": {
  "kernelspec": {
   "display_name": "Python 3 (ipykernel)",
   "language": "python",
   "name": "python3"
  },
  "language_info": {
   "codemirror_mode": {
    "name": "ipython",
    "version": 3
   },
   "file_extension": ".py",
   "mimetype": "text/x-python",
   "name": "python",
   "nbconvert_exporter": "python",
   "pygments_lexer": "ipython3",
   "version": "3.11.9"
  }
 },
 "nbformat": 4,
 "nbformat_minor": 4
}
