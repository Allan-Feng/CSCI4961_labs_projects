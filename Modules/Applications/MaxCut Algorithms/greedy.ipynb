{
 "cells": [
  {
   "cell_type": "markdown",
   "id": "baf0c213-699b-4d71-8ea7-57ce262a23db",
   "metadata": {},
   "source": [
    "# Greedy Algorithm on MaxCut Problem"
   ]
  },
  {
   "cell_type": "markdown",
   "id": "9a03e4b1-873e-40a3-9c1f-b8acfb417605",
   "metadata": {},
   "source": [
    "In this notebook, we introduce Greedy Algorithm implementation for the MaxCut Problem.\n",
    "\n",
    "1. [Introduction](#intro)\n",
    "2. [Greedy Function](#greedy-function)\n",
    "3. [Testing](#test)\n",
    "4. [Benchmarked Results](#results)"
   ]
  },
  {
   "cell_type": "markdown",
   "id": "7aa90614-1ef1-46d2-9a16-c9353f3e69bb",
   "metadata": {},
   "source": [
    "<a id='intro'></a>\n",
    "## 1. Introduction\n",
    "\n",
    "### Description\n",
    "\n",
    "A greedy algorithm constructs a solution by selecting the best option at each step with the hope that this local optimization leads to a globally optimal solution. It is efficient for problems with the greedy-choice property and optimal substructure but doesn't guarantee the optimal solution for all problem types."
   ]
  },
  {
   "cell_type": "markdown",
   "id": "84b0d3ef",
   "metadata": {},
   "source": [
    "## Imports"
   ]
  },
  {
   "cell_type": "code",
   "execution_count": null,
   "id": "3ef87d0a-e35c-4f00-80cf-0187fb049729",
   "metadata": {},
   "outputs": [],
   "source": [
    "%pip install numpy\n",
    "%pip install networkx\n",
    "%pip install torch\n",
    "%pip install pandas"
   ]
  },
  {
   "cell_type": "code",
   "execution_count": 1,
   "id": "2cbbbc34",
   "metadata": {},
   "outputs": [],
   "source": [
    "import copy\n",
    "import time\n",
    "from typing import List, Union\n",
    "import numpy as np\n",
    "import networkx as nx\n",
    "\n",
    "from util import read_nxgraph\n",
    "from util import obj_maxcut\n",
    "from util import transfer_nxgraph_to_weightmatrix"
   ]
  },
  {
   "cell_type": "markdown",
   "id": "8bc022a2",
   "metadata": {},
   "source": [
    "copy: deep copies <br>\n",
    "time: measurement <br>\n",
    "typing: type annotations <br>\n",
    "numpy: arrays<br>\n",
    "networkx: graph manipulation/analysis <br>\n",
    "util: read graphs, calculate Max-Cut objective function, convert graph to weight matrix"
   ]
  },
  {
   "cell_type": "markdown",
   "id": "30c2fd3d",
   "metadata": {},
   "source": [
    "<a id='greedy-function'></a>\n",
    "## 2. Greedy Function"
   ]
  },
  {
   "cell_type": "code",
   "execution_count": 2,
   "id": "7732ea84",
   "metadata": {},
   "outputs": [],
   "source": [
    "def greedy_maxcut(init_solution, num_steps: int, graph: nx.Graph) -> (int, Union[List[int], np.array], List[int]):\n",
    "    \"\"\"\n",
    "    Performs greedy algorithm for Max Cut.\n",
    "\n",
    "    Parameters:\n",
    "    -- init_solution: Initial solution\n",
    "    -- num_steps: Number of steps\n",
    "    -- graph: A NetworkX graph for the MaxCut problem\n",
    "\n",
    "    Return:\n",
    "    -- curr_score: Final objective value after greedy algorithm\n",
    "    -- curr_solution: Final solution partitioning of nodes\n",
    "    -- scores: List of objective values at each step\n",
    "    \"\"\"\n",
    "    # function initialization\n",
    "    print('greedy')\n",
    "    start_time = time.time()\n",
    "    num_nodes = int(graph.number_of_nodes())\n",
    "    nodes = list(range(num_nodes))\n",
    "    assert sum(init_solution) == 0\n",
    "    if num_steps is None:\n",
    "        num_steps = num_nodes\n",
    "    curr_solution = copy.deepcopy(init_solution)\n",
    "    curr_score: int = obj_maxcut(curr_solution, graph)\n",
    "    init_score = curr_score\n",
    "    scores = []\n",
    "    # loop\n",
    "    for iteration in range(num_nodes):\n",
    "        if iteration >= num_steps:\n",
    "            break\n",
    "        score = obj_maxcut(curr_solution, graph)\n",
    "        print(f\"iteration: {iteration}, score: {score}\")\n",
    "        traversal_scores = []\n",
    "        traversal_solutions = []\n",
    "        # nested loop\n",
    "        # calc the new solution when moving to a new node. Then store the scores and solutions.\n",
    "        for node in nodes:\n",
    "            new_solution = copy.deepcopy(curr_solution)\n",
    "            # search a new solution and calc obj\n",
    "            new_solution[node] = (new_solution[node] + 1) % 2\n",
    "            new_score = obj_maxcut(new_solution, graph)\n",
    "            traversal_scores.append(new_score)\n",
    "            traversal_solutions.append(new_solution)\n",
    "        # save best score\n",
    "        best_score = max(traversal_scores)\n",
    "        index = traversal_scores.index(best_score)\n",
    "        best_solution = traversal_solutions[index]\n",
    "        if best_score > curr_score:\n",
    "            scores.append(best_score)\n",
    "            curr_score = best_score\n",
    "            curr_solution = best_solution\n",
    "        else:\n",
    "            break\n",
    "    # prints\n",
    "    print(\"score, init_score of greedy:\", curr_score, init_score)\n",
    "    print(\"scores: \", traversal_scores)\n",
    "    print(\"solution: \", curr_solution)\n",
    "    running_duration = time.time() - start_time\n",
    "    print('running_duration: ', running_duration)\n",
    "    return curr_score, curr_solution, scores"
   ]
  },
  {
   "cell_type": "markdown",
   "id": "09438d98-6724-4e80-9687-2918b1601c40",
   "metadata": {},
   "source": [
    "<a id=\"test\"></a>\n",
    "## 3. Testing\n",
    "Below are descriptions of the graphs in our dataset (sourced from https://web.stanford.edu/~yyye/yyye/Gset/). \n",
    "| Graph | # Nodes | # Edges |\n",
    "|-------|---------|---------|\n",
    "|  G14  |   800   |   4694  |\n",
    "|  G15  |   800   |   4661  |\n",
    "|  G22  |  2000   |  19990  |\n",
    "|  G49  |  3000   |   6000  |\n",
    "|  G50  |  3000   |   6000  |\n",
    "|  G55  |  5000   |  12468  |\n",
    "|  G70  | 10000   |   9999  |\n",
    "\n",
    "Run the following to get the results of greedy algorithm on G14."
   ]
  },
  {
   "cell_type": "code",
   "execution_count": 5,
   "id": "05dbb66a-06d6-470f-b7b6-8a9540d07b13",
   "metadata": {},
   "outputs": [
    {
     "name": "stdout",
     "output_type": "stream",
     "text": [
      "greedy\n",
      "iteration: 0, score: 0\n",
      "iteration: 1, score: 132.0\n",
      "iteration: 2, score: 241.0\n",
      "iteration: 3, score: 337.0\n",
      "iteration: 4, score: 427.0\n",
      "iteration: 5, score: 511.0\n",
      "iteration: 6, score: 583.0\n",
      "iteration: 7, score: 652.0\n",
      "iteration: 8, score: 721.0\n",
      "iteration: 9, score: 784.0\n",
      "iteration: 10, score: 836.0\n",
      "iteration: 11, score: 884.0\n",
      "iteration: 12, score: 928.0\n",
      "iteration: 13, score: 971.0\n",
      "iteration: 14, score: 1012.0\n",
      "iteration: 15, score: 1050.0\n",
      "iteration: 16, score: 1085.0\n",
      "iteration: 17, score: 1120.0\n",
      "iteration: 18, score: 1155.0\n",
      "iteration: 19, score: 1186.0\n",
      "iteration: 20, score: 1216.0\n",
      "iteration: 21, score: 1245.0\n",
      "iteration: 22, score: 1274.0\n",
      "iteration: 23, score: 1303.0\n",
      "iteration: 24, score: 1331.0\n",
      "iteration: 25, score: 1359.0\n",
      "iteration: 26, score: 1387.0\n",
      "iteration: 27, score: 1415.0\n",
      "iteration: 28, score: 1442.0\n",
      "iteration: 29, score: 1468.0\n",
      "score, init_score of greedy: 1492.0 0\n",
      "scores:  [1400.0, 1478.0, 1400.0, 1366.0, 1404.0, 1426.0, 1387.0, 1431.0, 1407.0, 1440.0, 1489.0, 1424.0, 1484.0, 1408.0, 1486.0, 1411.0, 1474.0, 1430.0, 1437.0, 1439.0, 1484.0, 1488.0, 1440.0, 1478.0, 1415.0, 1439.0, 1476.0, 1490.0, 1442.0, 1439.0, 1484.0, 1490.0, 1472.0, 1479.0, 1480.0, 1442.0, 1488.0, 1476.0, 1437.0, 1479.0, 1485.0, 1482.0, 1488.0, 1435.0, 1476.0, 1492.0, 1477.0, 1488.0, 1490.0, 1481.0, 1437.0, 1486.0, 1483.0, 1471.0, 1472.0, 1480.0, 1469.0, 1440.0, 1434.0, 1487.0, 1476.0, 1471.0, 1481.0, 1473.0, 1474.0, 1487.0, 1492.0, 1440.0, 1480.0, 1479.0, 1474.0, 1476.0, 1441.0, 1492.0, 1474.0, 1477.0, 1477.0, 1488.0, 1472.0, 1490.0, 1476.0, 1484.0, 1469.0, 1477.0, 1471.0, 1473.0, 1477.0, 1483.0, 1479.0, 1476.0, 1480.0, 1477.0, 1476.0, 1433.0, 1475.0, 1482.0, 1479.0, 1480.0, 1473.0, 1472.0, 1484.0, 1479.0, 1476.0, 1490.0, 1472.0, 1486.0, 1482.0, 1477.0, 1476.0, 1478.0, 1474.0, 1474.0, 1482.0, 1482.0, 1486.0, 1486.0, 1473.0, 1479.0, 1474.0, 1478.0, 1482.0, 1475.0, 1479.0, 1476.0, 1476.0, 1486.0, 1473.0, 1475.0, 1481.0, 1471.0, 1477.0, 1479.0, 1484.0, 1475.0, 1476.0, 1479.0, 1478.0, 1478.0, 1475.0, 1476.0, 1477.0, 1477.0, 1478.0, 1475.0, 1479.0, 1473.0, 1474.0, 1478.0, 1482.0, 1473.0, 1472.0, 1481.0, 1479.0, 1477.0, 1477.0, 1476.0, 1478.0, 1491.0, 1474.0, 1478.0, 1471.0, 1473.0, 1473.0, 1473.0, 1479.0, 1477.0, 1475.0, 1473.0, 1473.0, 1483.0, 1472.0, 1472.0, 1475.0, 1474.0, 1471.0, 1477.0, 1474.0, 1478.0, 1477.0, 1472.0, 1478.0, 1481.0, 1479.0, 1467.0, 1478.0, 1467.0, 1485.0, 1478.0, 1474.0, 1469.0, 1483.0, 1479.0, 1481.0, 1478.0, 1478.0, 1472.0, 1476.0, 1483.0, 1473.0, 1475.0, 1477.0, 1474.0, 1474.0, 1481.0, 1475.0, 1474.0, 1470.0, 1481.0, 1479.0, 1474.0, 1470.0, 1479.0, 1480.0, 1477.0, 1474.0, 1478.0, 1480.0, 1477.0, 1473.0, 1477.0, 1466.0, 1479.0, 1479.0, 1475.0, 1474.0, 1472.0, 1480.0, 1479.0, 1473.0, 1475.0, 1483.0, 1478.0, 1472.0, 1472.0, 1472.0, 1476.0, 1476.0, 1480.0, 1467.0, 1474.0, 1474.0, 1470.0, 1473.0, 1476.0, 1471.0, 1478.0, 1473.0, 1477.0, 1480.0, 1471.0, 1478.0, 1476.0, 1475.0, 1475.0, 1478.0, 1471.0, 1475.0, 1476.0, 1469.0, 1479.0, 1471.0, 1473.0, 1472.0, 1471.0, 1472.0, 1472.0, 1467.0, 1472.0, 1484.0, 1480.0, 1476.0, 1478.0, 1477.0, 1473.0, 1473.0, 1473.0, 1478.0, 1476.0, 1471.0, 1469.0, 1477.0, 1476.0, 1475.0, 1473.0, 1473.0, 1476.0, 1474.0, 1472.0, 1475.0, 1481.0, 1471.0, 1482.0, 1475.0, 1474.0, 1479.0, 1482.0, 1475.0, 1478.0, 1472.0, 1474.0, 1468.0, 1474.0, 1482.0, 1469.0, 1472.0, 1476.0, 1475.0, 1474.0, 1474.0, 1476.0, 1469.0, 1474.0, 1470.0, 1470.0, 1472.0, 1477.0, 1478.0, 1474.0, 1475.0, 1470.0, 1475.0, 1474.0, 1478.0, 1476.0, 1468.0, 1474.0, 1478.0, 1476.0, 1476.0, 1477.0, 1475.0, 1471.0, 1470.0, 1472.0, 1472.0, 1473.0, 1470.0, 1476.0, 1473.0, 1473.0, 1469.0, 1473.0, 1473.0, 1469.0, 1479.0, 1474.0, 1472.0, 1476.0, 1472.0, 1473.0, 1472.0, 1475.0, 1476.0, 1471.0, 1473.0, 1476.0, 1474.0, 1477.0, 1476.0, 1472.0, 1469.0, 1473.0, 1475.0, 1475.0, 1475.0, 1475.0, 1475.0, 1474.0, 1476.0, 1468.0, 1478.0, 1473.0, 1465.0, 1476.0, 1468.0, 1469.0, 1474.0, 1478.0, 1475.0, 1474.0, 1476.0, 1471.0, 1475.0, 1474.0, 1468.0, 1474.0, 1475.0, 1474.0, 1471.0, 1477.0, 1472.0, 1475.0, 1467.0, 1471.0, 1472.0, 1472.0, 1473.0, 1473.0, 1476.0, 1470.0, 1471.0, 1470.0, 1476.0, 1472.0, 1474.0, 1470.0, 1473.0, 1474.0, 1471.0, 1476.0, 1473.0, 1473.0, 1470.0, 1474.0, 1478.0, 1474.0, 1474.0, 1471.0, 1473.0, 1473.0, 1474.0, 1475.0, 1473.0, 1469.0, 1474.0, 1469.0, 1475.0, 1472.0, 1470.0, 1470.0, 1473.0, 1474.0, 1477.0, 1476.0, 1470.0, 1476.0, 1471.0, 1469.0, 1470.0, 1471.0, 1473.0, 1474.0, 1473.0, 1474.0, 1476.0, 1472.0, 1470.0, 1477.0, 1472.0, 1471.0, 1472.0, 1476.0, 1469.0, 1476.0, 1472.0, 1471.0, 1472.0, 1476.0, 1476.0, 1470.0, 1473.0, 1470.0, 1472.0, 1468.0, 1476.0, 1472.0, 1473.0, 1475.0, 1471.0, 1472.0, 1472.0, 1473.0, 1472.0, 1477.0, 1473.0, 1470.0, 1472.0, 1478.0, 1476.0, 1474.0, 1474.0, 1470.0, 1470.0, 1471.0, 1473.0, 1471.0, 1473.0, 1475.0, 1471.0, 1468.0, 1477.0, 1471.0, 1469.0, 1473.0, 1471.0, 1471.0, 1473.0, 1477.0, 1475.0, 1474.0, 1472.0, 1473.0, 1473.0, 1476.0, 1474.0, 1474.0, 1471.0, 1477.0, 1471.0, 1470.0, 1470.0, 1478.0, 1475.0, 1477.0, 1477.0, 1473.0, 1472.0, 1469.0, 1470.0, 1476.0, 1471.0, 1475.0, 1476.0, 1471.0, 1474.0, 1470.0, 1475.0, 1472.0, 1471.0, 1469.0, 1472.0, 1475.0, 1470.0, 1468.0, 1474.0, 1473.0, 1467.0, 1476.0, 1470.0, 1474.0, 1472.0, 1474.0, 1474.0, 1475.0, 1472.0, 1472.0, 1475.0, 1472.0, 1476.0, 1470.0, 1475.0, 1471.0, 1473.0, 1471.0, 1470.0, 1473.0, 1474.0, 1473.0, 1472.0, 1472.0, 1473.0, 1471.0, 1475.0, 1470.0, 1468.0, 1474.0, 1473.0, 1471.0, 1475.0, 1475.0, 1473.0, 1474.0, 1468.0, 1469.0, 1469.0, 1474.0, 1475.0, 1469.0, 1472.0, 1471.0, 1472.0, 1472.0, 1474.0, 1472.0, 1474.0, 1473.0, 1474.0, 1472.0, 1473.0, 1472.0, 1474.0, 1472.0, 1473.0, 1474.0, 1472.0, 1474.0, 1472.0, 1473.0, 1472.0, 1474.0, 1468.0, 1472.0, 1474.0, 1473.0, 1470.0, 1472.0, 1470.0, 1475.0, 1471.0, 1471.0, 1471.0, 1470.0, 1472.0, 1474.0, 1474.0, 1471.0, 1472.0, 1472.0, 1473.0, 1472.0, 1475.0, 1469.0, 1470.0, 1472.0, 1475.0, 1474.0, 1476.0, 1474.0, 1474.0, 1474.0, 1470.0, 1474.0, 1473.0, 1470.0, 1470.0, 1473.0, 1473.0, 1475.0, 1475.0, 1474.0, 1473.0, 1476.0, 1469.0, 1472.0, 1467.0, 1474.0, 1472.0, 1472.0, 1474.0, 1472.0, 1474.0, 1470.0, 1472.0, 1473.0, 1474.0, 1474.0, 1475.0, 1470.0, 1474.0, 1473.0, 1471.0, 1475.0, 1470.0, 1472.0, 1474.0, 1476.0, 1472.0, 1473.0, 1470.0, 1469.0, 1474.0, 1472.0, 1473.0, 1473.0, 1474.0, 1474.0, 1474.0, 1473.0, 1472.0, 1468.0, 1475.0, 1473.0, 1474.0, 1474.0, 1471.0, 1468.0, 1472.0, 1472.0, 1472.0, 1473.0, 1472.0, 1471.0, 1473.0, 1472.0, 1476.0, 1472.0, 1472.0, 1473.0, 1472.0, 1470.0, 1473.0, 1475.0, 1472.0, 1470.0, 1474.0, 1472.0, 1473.0, 1470.0, 1469.0, 1471.0, 1471.0, 1472.0, 1471.0, 1472.0, 1473.0, 1472.0, 1470.0, 1472.0, 1473.0, 1471.0, 1476.0, 1468.0, 1472.0, 1472.0, 1472.0, 1475.0, 1472.0, 1473.0, 1470.0, 1473.0, 1470.0, 1474.0, 1468.0, 1472.0, 1470.0, 1473.0, 1471.0, 1474.0, 1472.0, 1474.0, 1473.0, 1472.0, 1474.0, 1474.0, 1470.0, 1472.0, 1473.0, 1474.0, 1470.0, 1471.0, 1472.0, 1468.0, 1470.0, 1466.0, 1472.0, 1472.0, 1470.0, 1473.0, 1470.0, 1471.0, 1470.0, 1473.0, 1472.0, 1472.0, 1472.0, 1472.0, 1474.0, 1468.0, 1472.0, 1474.0, 1470.0, 1474.0, 1471.0, 1472.0, 1472.0, 1472.0, 1472.0, 1471.0, 1469.0, 1472.0, 1470.0, 1474.0, 1474.0, 1472.0, 1472.0, 1472.0, 1472.0, 1470.0, 1471.0, 1472.0, 1472.0, 1472.0, 1470.0, 1474.0, 1472.0, 1472.0, 1472.0, 1470.0, 1470.0, 1468.0]\n",
      "solution:  [1, 0, 1, 1, 1, 1, 1, 1, 1, 1, 0, 1, 0, 1, 0, 1, 0, 1, 1, 1, 0, 0, 1, 0, 1, 1, 0, 0, 1, 1, 0, 0, 0, 0, 0, 1, 0, 0, 1, 0, 0, 0, 0, 1, 0, 1, 0, 0, 0, 0, 1, 0, 0, 0, 0, 0, 0, 1, 1, 0, 0, 0, 0, 0, 0, 0, 0, 1, 0, 0, 0, 0, 1, 0, 0, 0, 0, 0, 0, 0, 0, 0, 0, 0, 0, 0, 0, 0, 0, 0, 0, 0, 0, 1, 0, 0, 0, 0, 0, 0, 0, 0, 0, 0, 0, 0, 0, 0, 0, 0, 0, 0, 0, 0, 0, 0, 0, 0, 0, 0, 0, 0, 0, 0, 0, 0, 0, 0, 0, 0, 0, 0, 0, 0, 0, 0, 0, 0, 0, 0, 0, 0, 0, 0, 0, 0, 0, 0, 0, 0, 0, 0, 0, 0, 0, 0, 0, 0, 0, 0, 0, 0, 0, 0, 0, 0, 0, 0, 0, 0, 0, 0, 0, 0, 0, 0, 0, 0, 0, 0, 0, 0, 0, 0, 0, 0, 0, 0, 0, 0, 0, 0, 0, 0, 0, 0, 0, 0, 0, 0, 0, 0, 0, 0, 0, 0, 0, 0, 0, 0, 0, 0, 0, 0, 0, 0, 0, 0, 0, 0, 0, 0, 0, 0, 0, 0, 0, 0, 0, 0, 0, 0, 0, 0, 0, 0, 0, 0, 0, 0, 0, 0, 0, 0, 0, 0, 0, 0, 0, 0, 0, 0, 0, 0, 0, 0, 0, 0, 0, 0, 0, 0, 0, 0, 0, 0, 0, 0, 0, 0, 0, 0, 0, 0, 0, 0, 0, 0, 0, 0, 0, 0, 0, 0, 0, 0, 0, 0, 0, 0, 0, 0, 0, 0, 0, 0, 0, 0, 0, 0, 0, 0, 0, 0, 0, 0, 0, 0, 0, 0, 0, 0, 0, 0, 0, 0, 0, 0, 0, 0, 0, 0, 0, 0, 0, 0, 0, 0, 0, 0, 0, 0, 0, 0, 0, 0, 0, 0, 0, 0, 0, 0, 0, 0, 0, 0, 0, 0, 0, 0, 0, 0, 0, 0, 0, 0, 0, 0, 0, 0, 0, 0, 0, 0, 0, 0, 0, 0, 0, 0, 0, 0, 0, 0, 0, 0, 0, 0, 0, 0, 0, 0, 0, 0, 0, 0, 0, 0, 0, 0, 0, 0, 0, 0, 0, 0, 0, 0, 0, 0, 0, 0, 0, 0, 0, 0, 0, 0, 0, 0, 0, 0, 0, 0, 0, 0, 0, 0, 0, 0, 0, 0, 0, 0, 0, 0, 0, 0, 0, 0, 0, 0, 0, 0, 0, 0, 0, 0, 0, 0, 0, 0, 0, 0, 0, 0, 0, 0, 0, 0, 0, 0, 0, 0, 0, 0, 0, 0, 0, 0, 0, 0, 0, 0, 0, 0, 0, 0, 0, 0, 0, 0, 0, 0, 0, 0, 0, 0, 0, 0, 0, 0, 0, 0, 0, 0, 0, 0, 0, 0, 0, 0, 0, 0, 0, 0, 0, 0, 0, 0, 0, 0, 0, 0, 0, 0, 0, 0, 0, 0, 0, 0, 0, 0, 0, 0, 0, 0, 0, 0, 0, 0, 0, 0, 0, 0, 0, 0, 0, 0, 0, 0, 0, 0, 0, 0, 0, 0, 0, 0, 0, 0, 0, 0, 0, 0, 0, 0, 0, 0, 0, 0, 0, 0, 0, 0, 0, 0, 0, 0, 0, 0, 0, 0, 0, 0, 0, 0, 0, 0, 0, 0, 0, 0, 0, 0, 0, 0, 0, 0, 0, 0, 0, 0, 0, 0, 0, 0, 0, 0, 0, 0, 0, 0, 0, 0, 0, 0, 0, 0, 0, 0, 0, 0, 0, 0, 0, 0, 0, 0, 0, 0, 0, 0, 0, 0, 0, 0, 0, 0, 0, 0, 0, 0, 0, 0, 0, 0, 0, 0, 0, 0, 0, 0, 0, 0, 0, 0, 0, 0, 0, 0, 0, 0, 0, 0, 0, 0, 0, 0, 0, 0, 0, 0, 0, 0, 0, 0, 0, 0, 0, 0, 0, 0, 0, 0, 0, 0, 0, 0, 0, 0, 0, 0, 0, 0, 0, 0, 0, 0, 0, 0, 0, 0, 0, 0, 0, 0, 0, 0, 0, 0, 0, 0, 0, 0, 0, 0, 0, 0, 0, 0, 0, 0, 0, 0, 0, 0, 0, 0, 0, 0, 0, 0, 0, 0, 0, 0, 0, 0, 0, 0, 0, 0, 0, 0, 0, 0, 0, 0, 0, 0, 0, 0, 0, 0, 0, 0, 0, 0, 0, 0, 0, 0, 0, 0, 0, 0, 0, 0, 0, 0, 0, 0, 0, 0, 0, 0, 0, 0, 0, 0, 0, 0, 0, 0, 0, 0, 0, 0, 0, 0, 0, 0, 0, 0, 0, 0, 0, 0, 0, 0, 0, 0, 0, 0, 0, 0, 0, 0, 0, 0, 0, 0, 0, 0, 0, 0, 0, 0]\n",
      "running_duration:  498.3488829135895\n"
     ]
    }
   ],
   "source": [
    "if __name__ == '__main__':\n",
    "    graph = read_nxgraph('data/gset_14.txt')\n",
    "    init_solution = [0] * graph.number_of_nodes()\n",
    "    ga_score, ga_solution, ga_scores = greedy_maxcut(init_solution=init_solution, num_steps=30, graph=graph)"
   ]
  },
  {
   "cell_type": "markdown",
   "id": "f372f217",
   "metadata": {},
   "source": [
    "<a id='results'></a>\n",
    "## 4. Benchmarked Results\n",
    "\n",
    "Due to the inefficiency of the greedy algorithm, the normal 7 Gset graphs we were using to benchmark all MaxCut algorithms were not feasible. Therefore, we only opted to provide data for two of them: Gset 14 and Gset 15\n",
    "\n",
    "![title](images/greedy_scores.png)"
   ]
  }
 ],
 "metadata": {
  "kernelspec": {
   "display_name": "Python 3 (ipykernel)",
   "language": "python",
   "name": "python3"
  },
  "language_info": {
   "codemirror_mode": {
    "name": "ipython",
    "version": 3
   },
   "file_extension": ".py",
   "mimetype": "text/x-python",
   "name": "python",
   "nbconvert_exporter": "python",
   "pygments_lexer": "ipython3",
   "version": "3.11.9"
  }
 },
 "nbformat": 4,
 "nbformat_minor": 5
}
