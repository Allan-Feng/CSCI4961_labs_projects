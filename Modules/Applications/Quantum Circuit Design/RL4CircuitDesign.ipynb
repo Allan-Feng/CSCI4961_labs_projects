{
 "cells": [
  {
   "cell_type": "markdown",
   "id": "baf0c213-699b-4d71-8ea7-57ce262a23db",
   "metadata": {},
   "source": [
    "# Reinforcement Learning for Quantum Circuit Design"
   ]
  },
  {
   "cell_type": "markdown",
   "id": "9a03e4b1-873e-40a3-9c1f-b8acfb417605",
   "metadata": {},
   "source": [
    "In this notebook, we introduce Q-learning for quantum circuit design.\n",
    "\n",
    "1. [Introduction](#intro)\n",
    "2. [Target Gates](#gates)\n",
    "3. [Environment](#gym)\n",
    "4. [Agent](#agent)\n",
    "5. [Training](#train)\n",
    "6. [Testing](#test)"
   ]
  },
  {
   "cell_type": "markdown",
   "id": "7aa90614-1ef1-46d2-9a16-c9353f3e69bb",
   "metadata": {},
   "source": [
    "<a id='intro'></a>\n",
    "## 1. Introduction\n",
    "\n",
    "### Imports"
   ]
  },
  {
   "cell_type": "code",
   "execution_count": null,
   "id": "78c64dcc-a4bc-422d-8329-6063b5552fc7",
   "metadata": {},
   "outputs": [],
   "source": [
    "%pip install gym\n",
    "%pip install numpy\n",
    "%pip install qiskit\n",
    "%pip install qiskit_aer"
   ]
  },
  {
   "cell_type": "code",
   "execution_count": null,
   "id": "2cdf3c8a-e440-4057-b0c3-575999820860",
   "metadata": {},
   "outputs": [],
   "source": [
    "import gym\n",
    "from gym import spaces\n",
    "import hashlib\n",
    "import numpy as np\n",
    "from qiskit import QuantumCircuit, transpile\n",
    "from qiskit_aer import Aer\n",
    "from qiskit.circuit.library import HGate, CXGate, SGate, TGate, XGate, YGate, ZGate\n",
    "from qiskit.quantum_info import Operator"
   ]
  },
  {
   "cell_type": "markdown",
   "id": "bf2450ff-55e4-463e-be7f-f20f04d89c98",
   "metadata": {},
   "source": [
    "<a id='gates'></a>\n",
    "## 2. Target Gates"
   ]
  },
  {
   "cell_type": "code",
   "execution_count": null,
   "id": "8657abec-e118-445e-8740-089f12e46c76",
   "metadata": {},
   "outputs": [],
   "source": [
    "H = np.array([[1, 1], [1, -1]]) / np.sqrt(2)\n",
    "\n",
    "CNOT = np.array([\n",
    "    [1, 0, 0, 0],\n",
    "    [0, 1, 0, 0],\n",
    "    [0, 0, 0, 1],\n",
    "    [0, 0, 1, 0]\n",
    "])\n",
    "\n",
    "bell_state_unitary = Operator(CNOT) @ Operator(np.kron(H, np.eye(2)))\n",
    "\n",
    "cz_matrix = np.array([\n",
    "    [1, 0, 0, 0],\n",
    "    [0, 1, 0, 0],\n",
    "    [0, 0, 1, 0],\n",
    "    [0, 0, 0, -1]\n",
    "])\n",
    "\n",
    "swap_matrix = np.array([\n",
    "    [1, 0, 0, 0],\n",
    "    [0, 0, 1, 0],\n",
    "    [0, 1, 0, 0],\n",
    "    [0, 0, 0, 1]\n",
    "])\n",
    "\n",
    "iswap_matrix = np.array([\n",
    "    [1, 0, 0, 0],\n",
    "    [0, 0, 1j, 0],\n",
    "    [0, 1j, 0, 0],\n",
    "    [0, 0, 0, 1]\n",
    "])"
   ]
  },
  {
   "cell_type": "markdown",
   "id": "bf0af724-5d4f-4a47-9da0-0e3f640c16f2",
   "metadata": {},
   "source": [
    "<a id='gym'></a>\n",
    "## 3. Environment"
   ]
  },
  {
   "cell_type": "code",
   "execution_count": null,
   "id": "85cdbeb7-ebb1-4656-9d79-1907e34fe8bb",
   "metadata": {},
   "outputs": [],
   "source": [
    "class QuantumEnv(gym.Env):\n",
    "    def __init__(self):\n",
    "        super(QuantumEnv, self).__init__()\n",
    "\n",
    "        self.num_qubits = 2\n",
    "        self.circuit = QuantumCircuit(self.num_qubits)\n",
    "        self.target_unitary = bell_state_unitary #Change target circuit (bell_state,cz,swap,iswap)\n",
    "\n",
    "        # Define action and observation space\n",
    "        self.action_space = spaces.Discrete(14)  # Number of possible actions\n",
    "        self.observation_space = spaces.Discrete(100)  # Number of possible states (hashes)\n",
    "        \n",
    "        self.state_to_index = {}\n",
    "        self.index_to_state = []\n",
    "\n",
    "    def _hash_circuit(self, circuit: QuantumCircuit) -> str:\n",
    "        circuit_str = circuit.draw(output='text').__str__()\n",
    "        circuit_hash = hashlib.sha256(circuit_str.encode('utf-8')).hexdigest()\n",
    "        hash_int = int(circuit_hash, 16)\n",
    "        return hash_int % 100\n",
    "\n",
    "    def get_state_index(self, state: QuantumCircuit) -> int:\n",
    "        state_hash = self._hash_circuit(state)\n",
    "        if state_hash not in self.state_to_index:\n",
    "            index = len(self.state_to_index)\n",
    "            self.state_to_index[state_hash] = index\n",
    "            self.index_to_state.append(state_hash)\n",
    "        return self.state_to_index[state_hash]\n",
    "\n",
    "    def get_state_from_index(self, index: int) -> QuantumCircuit:\n",
    "        state_hash = self.index_to_state[index]\n",
    "        for circuit_hash, idx in self.state_to_index.items():\n",
    "            if idx == index:\n",
    "                return self._hash_circuit(circuit_hash)\n",
    "        return None\n",
    "\n",
    "    def reset(self):\n",
    "        self.circuit = QuantumCircuit(self.num_qubits)\n",
    "        return self.get_state_index(self.circuit)\n",
    "\n",
    "    def step(self, action, qubits):\n",
    "        # Execute the action and return next_state, reward, done\n",
    "        self.circuit.append(action, qubits)\n",
    "        state_index = self.get_state_index(self.circuit)\n",
    "        reward, done = self._reward(self.target_unitary)\n",
    "        return state_index, reward, done\n",
    "\n",
    "    def render(self):\n",
    "        print(self.circuit.draw())\n",
    "\n",
    "    def _reward(self, target_unitary):\n",
    "        simulator = Aer.get_backend('unitary_simulator')\n",
    "        result = simulator.run(transpile(self.circuit, simulator)).result()\n",
    "        unitary = result.get_unitary(self.circuit)\n",
    "\n",
    "        unitary_array = np.asarray(unitary)\n",
    "        target_unitary_array = np.asarray(target_unitary)\n",
    "\n",
    "        fidelity = np.abs(np.trace(unitary_array.conj().T @ target_unitary_array)) / (2 ** self.num_qubits)\n",
    "\n",
    "        reward = -5 * self.circuit.size()\n",
    "        done = False\n",
    "        if fidelity > 0.99:\n",
    "            done = True\n",
    "            reward += 100\n",
    "        return reward, done\n",
    "\n",
    "    def close(self):\n",
    "        pass"
   ]
  },
  {
   "cell_type": "code",
   "execution_count": null,
   "id": "317bafa9-44a5-45c8-9038-93bc059be8bd",
   "metadata": {},
   "outputs": [],
   "source": [
    "env = QuantumEnv()"
   ]
  },
  {
   "cell_type": "markdown",
   "id": "5d465d42-e622-4182-bc76-2b0a3add6d3b",
   "metadata": {},
   "source": [
    "<a id='agent'></a>\n",
    "## 4. Agent"
   ]
  },
  {
   "cell_type": "code",
   "execution_count": null,
   "id": "24584eb0-f08e-48c1-b78c-ddb09130317f",
   "metadata": {},
   "outputs": [],
   "source": [
    "# Define the Q-learning agent\n",
    "class QLearningAgent:\n",
    "    def __init__(self, state_size, action_size, alpha, gamma, epsilon, decay_rate, epsilon_min):\n",
    "        # Initialize the agent's parameters\n",
    "        self.state_size = state_size\n",
    "        self.action_size = action_size\n",
    "        self.alpha = alpha\n",
    "        self.gamma = gamma\n",
    "        self.epsilon = epsilon\n",
    "        self.decay_rate = decay_rate\n",
    "        self.epsilon_min = epsilon_min\n",
    "        # Initialize the Q-table with zeros\n",
    "        self.q_table = np.zeros((state_size, action_size))\n",
    "    \n",
    "    def choose_action(self, state_index):\n",
    "        if np.random.rand() < self.epsilon:\n",
    "            # Exploration: random action\n",
    "            action = np.random.randint(self.action_size)\n",
    "        else:\n",
    "            # Exploitation: choose the best action\n",
    "            action = np.argmax(self.q_table[state_index])\n",
    "        \n",
    "        possible_actions = [\n",
    "            [HGate(), [0]],\n",
    "            [HGate(), [1]],\n",
    "            [CXGate(), [0, 1]],\n",
    "            [CXGate(), [1, 0]],\n",
    "            [SGate(), [0]],\n",
    "            [SGate(), [1]],\n",
    "            [TGate(), [0]],\n",
    "            [TGate(), [1]],\n",
    "            [XGate(), [0]],\n",
    "            [XGate(), [1]],\n",
    "            [YGate(), [0]],\n",
    "            [YGate(), [1]],\n",
    "            [ZGate(), [0]],\n",
    "            [ZGate(), [1]],\n",
    "        ]\n",
    "        \n",
    "        return possible_actions[action],action\n",
    "    \n",
    "    def update_q_table(self, state_index, action, reward, next_state_index):\n",
    "        # Update the Q-table based on the agent's experience\n",
    "        self.q_table[state_index, action] += self.alpha * (\n",
    "            reward + self.gamma * np.max(self.q_table[next_state_index]) - self.q_table[state_index, action]\n",
    "        )\n",
    "    \n",
    "    def decay_exploration(self):\n",
    "        self.epsilon = max(self.epsilon_min, self.epsilon * self.decay_rate)"
   ]
  },
  {
   "cell_type": "code",
   "execution_count": null,
   "id": "a2b941f3-0414-4a0f-888d-97c12c12eb70",
   "metadata": {},
   "outputs": [],
   "source": [
    "agent = QLearningAgent(state_size=100, action_size=14, alpha=0.5, gamma=0.95, epsilon=0.2, decay_rate=0.99, epsilon_min=0.01)"
   ]
  },
  {
   "cell_type": "markdown",
   "id": "3eed2c08-ab15-4916-9a5f-7b369360ffe5",
   "metadata": {},
   "source": [
    "<a id='train'></a>\n",
    "## 5. Training our Agent"
   ]
  },
  {
   "cell_type": "code",
   "execution_count": null,
   "id": "71ad4d8b-fda3-4d70-b98b-722c970670d2",
   "metadata": {},
   "outputs": [],
   "source": [
    "# Train the agent\n",
    "def train_agent(agent, environment, episodes, max_steps_per_episode):\n",
    "    for episode in range(episodes):\n",
    "        # Reset the environment at the beginning of each episode\n",
    "        state_index = environment.reset()\n",
    "        episode_reward = 0\n",
    "        for step in range(max_steps_per_episode):\n",
    "            # Choose an action\n",
    "            action,action_index = agent.choose_action(state_index)\n",
    "            \n",
    "            # Take the action and observe the outcome\n",
    "            next_state_index, reward, done = environment.step(action[0],action[1])\n",
    "            episode_reward += reward \n",
    "            # Update the Q-table\n",
    "            agent.update_q_table(state_index, action_index, reward, next_state_index)\n",
    "            \n",
    "            # Update the state\n",
    "            state_index = next_state_index\n",
    "            \n",
    "            # Check if the episode is done\n",
    "            if done:\n",
    "                print(\"Generated circuit:\")\n",
    "                environment.render()\n",
    "                print(f\"Episode {episode + 1}: Total Reward = {episode_reward}\")\n",
    "                break\n",
    "            if environment.circuit.size() > 10:\n",
    "                episode_reward -= 100  # Negative reward for exceeding maximum gates\n",
    "                break\n",
    "        \n",
    "        # Decay the exploration rate\n",
    "         # Save results every 100 attempts\n",
    "        if (episode + 1) % 100 == 0:\n",
    "            print(f\"Episode {episode + 1}: Total Reward = {episode_reward}\")\n",
    "        agent.decay_exploration()"
   ]
  },
  {
   "cell_type": "code",
   "execution_count": null,
   "id": "2f05fe4e-6cae-4a3f-919e-7e1785254572",
   "metadata": {},
   "outputs": [],
   "source": [
    "train_agent(agent, environment, episodes=100000, max_steps_per_episode=10000)"
   ]
  },
  {
   "cell_type": "markdown",
   "id": "4985f8a9-3774-4f6c-ae3f-74ab43aad1a3",
   "metadata": {},
   "source": [
    "<a id='test'></a>\n",
    "## 6. Testing"
   ]
  },
  {
   "cell_type": "code",
   "execution_count": null,
   "id": "59f7dece-ea75-4c41-9f75-47749b5c4774",
   "metadata": {},
   "outputs": [],
   "source": [
    "# Test the agent\n",
    "def test_agent(agent, environment, episodes, max_steps_per_episode):\n",
    "    for episode in range(episodes):\n",
    "        # Reset the environment\n",
    "        environment.reset()\n",
    "        state_index = environment.reset()\n",
    "\n",
    "        for step in range(max_steps_per_episode):\n",
    "            # Choose an action (exploitation only, no exploration)\n",
    "            action = agent.choose_action(state_index)\n",
    "            \n",
    "            # Take the action and observe the outcome\n",
    "            next_state_index, reward, done = environment.step(action)\n",
    "            \n",
    "            # Update the state\n",
    "            state_index = next_state_index\n",
    "            \n",
    "            # Check if the episode is done\n",
    "            if done:\n",
    "                break\n",
    "        environment.render()"
   ]
  },
  {
   "cell_type": "code",
   "execution_count": null,
   "id": "1abfa58d-238d-48d9-9903-f1d91d854a8a",
   "metadata": {},
   "outputs": [],
   "source": [
    "test_agent(agent, environment, episodes=100000, max_steps_per_episode=10000)"
   ]
  }
 ],
 "metadata": {
  "kernelspec": {
   "display_name": "Python 3 (ipykernel)",
   "language": "python",
   "name": "python3"
  },
  "language_info": {
   "codemirror_mode": {
    "name": "ipython",
    "version": 3
   },
   "file_extension": ".py",
   "mimetype": "text/x-python",
   "name": "python",
   "nbconvert_exporter": "python",
   "pygments_lexer": "ipython3",
   "version": "3.11.9"
  }
 },
 "nbformat": 4,
 "nbformat_minor": 5
}
