{
 "cells": [
  {
   "cell_type": "markdown",
   "metadata": {},
   "source": [
    "# Measurement\n"
   ]
  },
  {
   "cell_type": "markdown",
   "metadata": {},
   "source": [
    "<span style=\"font-size: 16px;\">\n",
    "https://quantum.ibm.com/composer/\n",
    "\n",
    "</span></span>\n",
    "1. [General Representation](#general-representation)   \n",
    "2. [Calculate Measurement](#calculate-measurement)\n",
    "3. [IBM Composer](#ibm-composer)\n",
    "4. [Superposition States (Y-basis)](#superposition-states-y-axis)"
   ]
  },
  {
   "cell_type": "markdown",
   "metadata": {},
   "source": [
    "  <img src=\"measurement_images/Picture4.jpg\" alt=\"Image 1\" width=\"900\" height=\"150\" style=\"display: inline-block; margin: 10px;\">"
   ]
  },
  {
   "cell_type": "markdown",
   "metadata": {},
   "source": [
    "## Calculating Measurement"
   ]
  },
  {
   "cell_type": "markdown",
   "metadata": {},
   "source": [
    "<a id=\"general-representation\"></a>\n",
    "## 1. General Representation of a Qubit on the Bloch Sphere\n",
    "\n",
    "<span style=\"font-size: 16px;\">\n",
    "A general single-qubit state $\\ket{\\psi}$ can be written as:\n",
    "\n",
    "\n",
    "$$\n",
    "|\\psi\\rangle = \\frac{2}{3}|0\\rangle + \\frac{1 + 2i}{3}|1\\rangle\n",
    "$$\n",
    "\n",
    "\n",
    "If you measure the qubit, what is the probability of getting:\n",
    "\n",
    "1.  |0\\rangle\n",
    "\n",
    "2. |0\\rangle\n",
    "\n",
    "\n",
    "\n",
    "\n",
    "\n",
    "</span>\n"
   ]
  },
  {
   "cell_type": "markdown",
   "metadata": {},
   "source": [
    "<a id=\"general-representation\"></a>\n",
    "## 1. Apply the Rotation Gates\n",
    "\n",
    "<span style=\"font-size: 16px;\">\n",
    "A general single-qubit state $\\ket{\\psi}$ can be written as:\n",
    "\n",
    "\n",
    "$$\n",
    "|\\psi\\rangle = \\frac{2}{3}|0\\rangle + \\frac{1 + 2i}{3}|1\\rangle\n",
    "$$\n",
    "\n",
    "\n",
    "If you measure the qubit, what is the probability of getting:\n",
    "\n",
    "1. \\( |0\\rangle \\)\n",
    "\n",
    "2. \\( |1\\rangle \\)\n",
    "\n",
    "\n",
    "\n",
    "\n",
    "\n",
    "</span>\n"
   ]
  },
  {
   "cell_type": "markdown",
   "metadata": {},
   "source": [
    "  <img src=\"measurement_images/Picture5.jpg\" alt=\"Image 1\" width=\"900\" height=\"150\" style=\"display: inline-block; margin: 10px;\">"
   ]
  },
  {
   "cell_type": "markdown",
   "metadata": {},
   "source": []
  }
 ],
 "metadata": {
  "kernelspec": {
   "display_name": "cwq",
   "language": "python",
   "name": "python3"
  },
  "language_info": {
   "name": "python",
   "version": "3.12.4"
  }
 },
 "nbformat": 4,
 "nbformat_minor": 2
}
