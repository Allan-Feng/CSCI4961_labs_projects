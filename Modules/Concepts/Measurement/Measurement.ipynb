{
 "cells": [
  {
   "cell_type": "markdown",
   "metadata": {},
   "source": [
    "# Measurement\n",
    "\n",
    "https://quantum.ibm.com/composer/\n",
    "\n",
    "<span style=\"font-size: 16px;\">\n",
    "\n",
    "When a qubit is measured, its quantum state collapses into one of the basis states, ∣0⟩ or ∣1⟩, with specific probabilities, rather than remaining in a superposition. Once collapsed, repeated measurements yield the same outcome with certainty. \n",
    "\n",
    "In this demonstration, we will explore qubit measurement using IBM Quantum Composer and Qiskit.\n",
    "\n",
    "</span></span>\n",
    "1. [General Representation](#general-representation)  \n",
    "2. [Qiskit Representation](#qiskit-representation)  \n",
    "3. [Calculating Measurement](#calculate)  \n",
    "\n",
    "\n",
    "\n"
   ]
  },
  {
   "cell_type": "markdown",
   "metadata": {},
   "source": [
    "<a id=\"general-representation\"></a>\n",
    "## 1. General Representation of Measurement\n",
    "\n",
    "### Start with ∣0⟩ state\n",
    "\n",
    "</span></span>"
   ]
  },
  {
   "cell_type": "markdown",
   "metadata": {},
   "source": [
    "  <img src=\"measurement_images/start_state.png\" alt=\"Image 1\" width=\"900\" height=\"100\" style=\"display: inline-block; margin: 10px;\">\n",
    "    <img src=\"measurement_images/start_probability.png\" alt=\"Image 1\" width=\"600\" height=\"300\" style=\"display: inline-block; margin: 10px;\">"
   ]
  },
  {
   "cell_type": "markdown",
   "metadata": {},
   "source": [
    "### Use Hadamard Gate on the first qubit to generate superposition state"
   ]
  },
  {
   "cell_type": "markdown",
   "metadata": {},
   "source": [
    "  <img src=\"measurement_images/hadamard.png\" alt=\"Image 1\" width=\"900\" height=\"100\" style=\"display: inline-block; margin: 10px;\">\n",
    "    <img src=\"measurement_images/hadamard_gate.png\" alt=\"Image 1\" width=\"600\" height=\"300\" style=\"display: inline-block; margin: 10px;\">"
   ]
  },
  {
   "cell_type": "markdown",
   "metadata": {},
   "source": [
    "### Apply Measurement "
   ]
  },
  {
   "cell_type": "markdown",
   "metadata": {},
   "source": [
    "  <img src=\"measurement_images/measured_state.png\" alt=\"Image 1\" width=\"900\" height=\"100\" style=\"display: inline-block; margin: 10px;\">"
   ]
  },
  {
   "cell_type": "markdown",
   "metadata": {},
   "source": [
    "### Result\n",
    "  <img src=\"measurement_images/result.png\" alt=\"Image 1\" width=\"400\" height=\"500\" style=\"display: inline-block; margin: 10px;\">"
   ]
  },
  {
   "cell_type": "markdown",
   "metadata": {},
   "source": [
    "## Qiskit Implementation"
   ]
  },
  {
   "cell_type": "code",
   "execution_count": null,
   "metadata": {},
   "outputs": [],
   "source": [
    "from qiskit import QuantumCircuit\n",
    "\n",
    "qc = QuantumCircuit(1, 1)\n",
    "qc.h(0)\n",
    "qc.measure(0, 0)"
   ]
  },
  {
   "cell_type": "markdown",
   "metadata": {},
   "source": [
    "## Calculating Measurement"
   ]
  },
  {
   "cell_type": "markdown",
   "metadata": {},
   "source": [
    "<span style=\"font-size: 16px;\">\n",
    "\n",
    "To get the exact probabilities, we calculate the norm - square of each amplitude\n",
    "\n",
    "Norm square formula: \n",
    "$\n",
    "|z|^2 = a^2 + b^2\n",
    "$\n",
    "\n",
    "\n",
    "$\n",
    "|\\psi\\rangle = \\frac{2}{3}|0\\rangle + \\frac{1 + 2i}{3}|1\\rangle\n",
    "$\n",
    "\n",
    "\n",
    "If you measure the qubit, what is the probability of getting:\n",
    "\n",
    "1. $|0\\rangle$\n",
    "\n",
    "2. $|1\\rangle$\n",
    "\n",
    "\n",
    "\n",
    "\n",
    "</span></span>\n",
    "\n"
   ]
  }
 ],
 "metadata": {
  "kernelspec": {
   "display_name": "cwq",
   "language": "python",
   "name": "python3"
  },
  "language_info": {
   "name": "python",
   "version": "3.12.4"
  }
 },
 "nbformat": 4,
 "nbformat_minor": 2
}
