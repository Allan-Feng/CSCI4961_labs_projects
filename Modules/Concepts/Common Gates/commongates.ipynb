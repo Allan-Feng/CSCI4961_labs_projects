{
 "cells": [
  {
   "cell_type": "markdown",
   "id": "adfcaaf01bdcdbe1",
   "metadata": {},
   "source": [
    "# Common Quantum Gates"
   ]
  },
  {
   "cell_type": "markdown",
   "id": "d7b3086156e4de59",
   "metadata": {},
   "source": [
    "In this notebook, we’ll introduce some of the most commonly used quantum gates, such as the Identity $I$, Pauli ($X$, $Y$, $Z$), Hadamard $H$, $S$, and $T$ gates. We also show how to use them in **IBM Quantum Composer** (https://quantum.ibm.com/composer/).\n",
    "\n",
    "1. [Identity $I$ Gate](#i)\n",
    "2. [Pauli $X$ Gate](#x)\n",
    "3. [Pauli $Y$ Gate](#y)\n",
    "4. [Pauli $Z$ Gate](#z)\n",
    "5. [Hadamard $H$ Gate](#h)\n",
    "6. [$S$ Gate](#s)\n",
    "7. [$T$ Gate](#s)\n",
    "8. [Summary](#summary)\n",
    "9. [More Gates](#more)"
   ]
  },
  {
   "cell_type": "markdown",
   "id": "e4fd192495ef2c2",
   "metadata": {},
   "source": [
    "<a id=\"i\"></a>\n",
    "## 1. Identity $I$ Gate"
   ]
  },
  {
   "cell_type": "markdown",
   "id": "0573bbcd-9d1f-40cd-b413-9c8d2fcaf627",
   "metadata": {},
   "source": [
    "### 1.1 Definition and Matrix Representation\n",
    "The Identity $I$ gate, often referred to as a “do-nothing” gate, leaves the qubit unchanged. It turns $\\ket{0}$ into $\\ket{0}$ and $\\ket{1}$ into $\\ket{1}$:\n",
    "$$\n",
    "     I |0\\rangle = |0\\rangle \n",
    "$$\n",
    "$$\n",
    "     I |1\\rangle = |1\\rangle \n",
    "$$\n",
    "\n",
    "The Identity gate is represented by the matrix:\n",
    "\n",
    "$$\n",
    "I =  \\begin{pmatrix} 1 & 0 \\\\ 0 & 1 \\end{pmatrix}\n",
    "$$"
   ]
  },
  {
   "cell_type": "markdown",
   "id": "367543d8517d0d9d",
   "metadata": {},
   "source": [
    "### 1.2 Bloch Sphere Effect\n",
    "Since the Identity gate does not change the qubit state, it does not alter the position on the Bloch sphere."
   ]
  },
  {
   "cell_type": "markdown",
   "id": "4a6f8dd03b2c8b65",
   "metadata": {},
   "source": [
    "<img src='common_gates_images/i_gate.jpeg'></img>"
   ]
  },
  {
   "cell_type": "markdown",
   "id": "3f818fc9-5adf-4f7a-87fd-c1f930294a29",
   "metadata": {},
   "source": [
    "### 1.3 IBM Quantum Composer\n",
    "Using IBM Quantum Composer, we apply the Identity gate on:\n",
    "\n",
    "$\\underline{\\ket{0}}$\n",
    "\n",
    "<img src=\"common_gates_images/i_zero.png\"></img>\n",
    "\n",
    "$\\underline{\\ket{1}}$\n",
    "\n",
    "<img src=\"common_gates_images/i_one.png\"></img>"
   ]
  },
  {
   "cell_type": "markdown",
   "id": "d715f1f3dcee250c",
   "metadata": {},
   "source": [
    "<a id=\"x\"></a>\n",
    "## 2. Pauli $X$ Gate"
   ]
  },
  {
   "cell_type": "markdown",
   "id": "6d239908b7839c2d",
   "metadata": {},
   "source": [
    "### 2.1 Definition and Matrix Representation\n",
    "The $X$ gate, also known as the $NOT$ gate, flips the state of the qubit. It turns $\\ket{0}$ into $\\ket{1}$ and $\\ket{1}$ into $\\ket{0}$:\n",
    "$$\n",
    "     X |0\\rangle = |1\\rangle \n",
    "$$\n",
    "$$\n",
    "     X |1\\rangle = |0\\rangle \n",
    "$$\n",
    "\n",
    "The Pauli $X$ gate is represented by the matrix:\n",
    "\n",
    "$$\n",
    "X = \\begin{pmatrix} 0 & 1 \\\\ 1 & 0 \\end{pmatrix}\n",
    "$$"
   ]
  },
  {
   "cell_type": "markdown",
   "id": "2b78a7086bc5b6d0",
   "metadata": {},
   "source": [
    "### 2.2 Bloch Sphere Effect\n",
    "The $X$ gate performs a rotation about the $x$-axis by 180$^\\circ$ or $\\pi$ radians on the Bloch sphere. Visually, this is represented by a flip along the $x$-axis."
   ]
  },
  {
   "cell_type": "markdown",
   "id": "fda4c24367591cd5",
   "metadata": {},
   "source": [
    "<img src='common_gates_images/x_gate.jpeg'></img>"
   ]
  },
  {
   "cell_type": "markdown",
   "id": "b831795a922a87b4",
   "metadata": {},
   "source": [
    "### 2.3 IBM Quantum Composer\n",
    "Using IBM Quantum Composer, we apply the $X$ gate on:\n",
    "\n",
    "$\\underline{\\ket{0}}$\n",
    "\n",
    "<img src=\"common_gates_images/x_zero.png\"></img>\n",
    "\n",
    "$\\underline{\\ket{1}}$\n",
    "\n",
    "<img src=\"common_gates_images/x_one.png\"></img>"
   ]
  },
  {
   "cell_type": "markdown",
   "id": "42fc02b86ec4a2f0",
   "metadata": {},
   "source": [
    "<a id=\"y\"></a>\n",
    "## 3. Pauli $Y$ Gate"
   ]
  },
  {
   "cell_type": "markdown",
   "id": "d4205f5fa4326ce3",
   "metadata": {},
   "source": [
    "### 3.1 Definition and Matrix Representation\n",
    "The $Y$ gate turns $\\ket{0}$ into $i\\ket{1}$ and $\\ket{1}$ into $-i\\ket{0}$:\n",
    "$$\n",
    "     Y |0\\rangle = i|1\\rangle \n",
    "$$\n",
    "$$\n",
    "     Y |1\\rangle = -i|0\\rangle \n",
    "$$\n",
    "\n",
    "The Pauli $Y$ gate is represented by the matrix:\n",
    "\n",
    "$$\n",
    "Y = \\begin{pmatrix} 0 & -i \\\\ i & 0 \\end{pmatrix}\n",
    "$$"
   ]
  },
  {
   "cell_type": "markdown",
   "id": "8db28c9b43b5bc9e",
   "metadata": {},
   "source": [
    "### 3.2 Bloch Sphere Effect\n",
    "The $Y$ gate performs a rotation about the $y$-axis by 180$^\\circ$ or $\\pi$ radians on the Bloch sphere."
   ]
  },
  {
   "cell_type": "markdown",
   "id": "e34c11ecbc06f18f",
   "metadata": {},
   "source": [
    "<img src='common_gates_images/y_gate.jpeg'></img>\n"
   ]
  },
  {
   "cell_type": "markdown",
   "id": "24639b94e4faa3b",
   "metadata": {},
   "source": [
    "### 3.3 IBM Quantum Composer\n",
    "Using IBM Quantum Composer, we apply the $Y$ gate on:\n",
    "\n",
    "$\\underline{\\ket{0}}$\n",
    "\n",
    "<img src=\"common_gates_images/y_zero.png\"></img>\n",
    "\n",
    "$\\underline{\\ket{1}}$\n",
    "\n",
    "<img src=\"common_gates_images/y_one.png\"></img>"
   ]
  },
  {
   "cell_type": "markdown",
   "id": "588fec38b1560939",
   "metadata": {},
   "source": [
    "<a id=\"z\"></a>\n",
    "## 4. Pauli $Z$ Gate"
   ]
  },
  {
   "cell_type": "markdown",
   "id": "b2cad4b175a55a96",
   "metadata": {},
   "source": [
    "### 4.1 Definition and Matrix Representation\n",
    "The $Z$ gate, also known as the \"phase-flip\" gate, turns $\\ket{0}$ into $\\ket{0}$ and $\\ket{1}$ into $-\\ket{1}$:\n",
    "$$\n",
    "  Z |0\\rangle = |0\\rangle \n",
    "$$\n",
    "$$\n",
    "  Z |1\\rangle = -|1\\rangle \n",
    "$$\n",
    "\n",
    "The Pauli $Z$ gate is represented by the matrix:\n",
    "\n",
    "$$\n",
    "Z = \\begin{pmatrix} 1 & 0 \\\\ 0 & -1 \\end{pmatrix}\n",
    "$$"
   ]
  },
  {
   "cell_type": "markdown",
   "id": "174eef2fc3a4de67",
   "metadata": {},
   "source": [
    "### 4.2 Bloch Sphere Effect\n",
    "The Z gate performs a rotation about the $z$-axis by 180$^\\circ$ or $\\pi$ radians on the Bloch sphere."
   ]
  },
  {
   "cell_type": "markdown",
   "id": "3e643d92661d2736",
   "metadata": {},
   "source": [
    "<img src='common_gates_images/z_gate.jpeg'></img>"
   ]
  },
  {
   "cell_type": "markdown",
   "id": "acf6ee5f7766e6e4",
   "metadata": {},
   "source": [
    "### 4.3 IBM Quantum Composer\n",
    "Using IBM Quantum Composer, we apply the $Z$ gate on:\n",
    "\n",
    "$\\underline{\\ket{0}}$\n",
    "\n",
    "<img src=\"common_gates_images/z_zero.png\"></img>\n",
    "\n",
    "$\\underline{\\ket{1}}$\n",
    "\n",
    "<img src=\"common_gates_images/z_one.png\"></img>"
   ]
  },
  {
   "cell_type": "markdown",
   "id": "6b030e8abe3bb67c",
   "metadata": {},
   "source": [
    "<a id=\"h\"></a>\n",
    "## 5. Hadamard $H$ Gate"
   ]
  },
  {
   "cell_type": "markdown",
   "id": "ab0b87e70682e5c4",
   "metadata": {},
   "source": [
    "### 5.1 Definition and Matrix Representation\n",
    "The Hadamard $H$ gate turns $\\ket{0}$ into $\\ket{+}$ and $\\ket{1}$ into $\\ket{-}$:\n",
    "\n",
    "$$\n",
    "H|0\\rangle = \\frac{1}{\\sqrt{2}} (|0\\rangle + |1\\rangle) = |+\\rangle\n",
    "$$\n",
    "\n",
    "$$\n",
    "H|1\\rangle = \\frac{1}{\\sqrt{2}} (|0\\rangle - |1\\rangle) = |-\\rangle\n",
    "$$\n",
    "\n",
    "The Hadamard gate is represented by the matrix:\n",
    "\n",
    "$$\n",
    "H = \\frac{1}{\\sqrt{2}} \\begin{pmatrix} 1 & 1 \\\\ 1 & -1 \\end{pmatrix}\n",
    "$$"
   ]
  },
  {
   "cell_type": "markdown",
   "id": "a2d17fae53da4393",
   "metadata": {},
   "source": [
    "### 5.2 Bloch Sphere Effect\n",
    "The H gate performs a rotation about the $x+z$-axis by 180$^\\circ$ or $\\pi$ radians on the Bloch sphere."
   ]
  },
  {
   "cell_type": "markdown",
   "id": "d81161d1657af25a",
   "metadata": {},
   "source": [
    "<img src=\"common_gates_images/h_gate.jpeg\"></img>"
   ]
  },
  {
   "cell_type": "markdown",
   "id": "da7b92985a93449d",
   "metadata": {},
   "source": [
    "### 5.3 IBM Quantum Composer\n",
    "Using IBM Quantum Composer, we apply the Hadamard gate on:\n",
    "\n",
    "$\\underline{\\ket{0}}$\n",
    "\n",
    "<img src=\"common_gates_images/h_zero.png\"></img>\n",
    "\n",
    "$\\underline{\\ket{1}}$\n",
    "\n",
    "<img src=\"common_gates_images/h_one.png\"></img>"
   ]
  },
  {
   "cell_type": "markdown",
   "id": "8094d935dd5c188c",
   "metadata": {},
   "source": [
    "<a id=\"s\"></a>\n",
    "## 6. $S$ Gate"
   ]
  },
  {
   "cell_type": "markdown",
   "id": "76dadaab0e96586b",
   "metadata": {},
   "source": [
    "<p>Description: The S gate is a phase gate that applies a phase shift of π/2 (90 degrees) to the ∣1⟩ state. It leaves the ∣0⟩ state unchanged but adds a phase of π/2 to the ∣1⟩ state.</p>\n",
    "\n",
    "### 6.1 Definition and Matrix Representation\n",
    "The $S$ gate, also known as the Phase gate, is the square root of the $Z$ gate (i.e. $S^2 = Z$):\n",
    "\n",
    "$$\n",
    "   S |0\\rangle = |0\\rangle \n",
    "$$\n",
    "$$\n",
    "   S |1\\rangle = i|1\\rangle \n",
    "$$\n",
    "\n",
    "The S gate is represented by the matrix:\n",
    "\n",
    "$$\n",
    "S =  \\begin{pmatrix} 1 & 0 \\\\ 0 & i \\end{pmatrix}\n",
    "$$"
   ]
  },
  {
   "cell_type": "markdown",
   "id": "4ae6998376dd4e57",
   "metadata": {},
   "source": [
    "### 6.2 Bloch Sphere Effect\n",
    "The S gate performs a rotation about the $z$-axis by 90$^\\circ$ or $\\frac{\\pi}{2}$ on the Bloch sphere.\n",
    "\n"
   ]
  },
  {
   "cell_type": "markdown",
   "id": "be9c4d1759dd3032",
   "metadata": {},
   "source": [
    "<img src=\"common_gates_images/s_gate.jpeg\"></img>"
   ]
  },
  {
   "cell_type": "markdown",
   "id": "356b0e7097599283",
   "metadata": {},
   "source": [
    "### 6.3 IBM Quantum Composer\n",
    "Using IBM Quantum Composer, we apply the $S$ gate on:\n",
    "\n",
    "$\\underline{\\ket{0}}$\n",
    "\n",
    "<img src=\"common_gates_images/s_zero.png\"></img>\n",
    "\n",
    "$\\underline{\\ket{1}}$\n",
    "\n",
    "<img src=\"common_gates_images/s_one.png\"></img>"
   ]
  },
  {
   "cell_type": "markdown",
   "id": "1cccffb2719e5e0f",
   "metadata": {},
   "source": [
    "<a id=\"t\"></a>\n",
    "## 7. $T$ Gate"
   ]
  },
  {
   "cell_type": "markdown",
   "id": "3e6816740c69c09f",
   "metadata": {},
   "source": [
    "### 7.1 Definition and Matrix Representation\n",
    "The $T$ gate, also called the $\\frac{\\pi}{8}$ gate, is the square root of the $S$ gate (i.e. $T^2 = S$) or fourth root of the $Z$ gate. It turns $\\ket{0}$ into $\\ket{0}$ and $\\ket{1}$ into $e^{\\frac{i\\pi}{4}}\\ket{1}$:\n",
    "$$\n",
    " T |0\\rangle = |0\\rangle \n",
    "$$\n",
    "$$\n",
    " T |1\\rangle = e^{\\frac{i\\pi}{4}}|1\\rangle \n",
    "$$\n",
    "\n",
    "The T gate is represented by the matrix:\n",
    "\n",
    "$$\n",
    "T =  \\begin{pmatrix} 1 & 0 \\\\ 0 & e^{\\frac{i\\pi}{4}} \\end{pmatrix} = \\begin{pmatrix} 1 & 0 \\\\ 0 & \\frac{i+1}{\\sqrt{2}} \\end{pmatrix}\n",
    "$$\n"
   ]
  },
  {
   "cell_type": "markdown",
   "id": "2d02e164c357ad42",
   "metadata": {},
   "source": [
    "### 7.2 Bloch Sphere Effect\n",
    "The T gate performs a rotation about the $z$-axis by 45$^\\circ$ or $\\frac{\\pi}{4}$ on the Bloch sphere."
   ]
  },
  {
   "cell_type": "markdown",
   "id": "c98f396513ada17a",
   "metadata": {},
   "source": [
    "<img src='common_gates_images/t_gate.jpeg'></img>"
   ]
  },
  {
   "cell_type": "markdown",
   "id": "143f078ce2c0c2a1",
   "metadata": {},
   "source": [
    "### 7.3 IBM Quantum Composer\n",
    "Using IBM Quantum Composer, we apply the $T$ gate on:\n",
    "\n",
    "$\\underline{\\ket{0}}$\n",
    "\n",
    "<img src=\"common_gates_images/t_zero.png\"></img>\n",
    "\n",
    "$\\underline{\\ket{1}}$\n",
    "\n",
    "<img src=\"common_gates_images/t_one.png\"></img>"
   ]
  },
  {
   "cell_type": "markdown",
   "id": "bfcbc6119df44b68",
   "metadata": {},
   "source": [
    "<a id=\"summary\"></a>\n",
    "## 8. Summary\n",
    "<img src=\"common_gates_images/quick_summary.jpeg\"></img>"
   ]
  },
  {
   "cell_type": "markdown",
   "id": "129a70d29b1fb2e0",
   "metadata": {},
   "source": [
    "<a id=\"more\"></a>\n",
    "## 9. More Quantum Computing Gate Notes\n",
    "<img src=\"common_gates_images/Quantum_Logic_Gates.png\"></img>"
   ]
  }
 ],
 "metadata": {
  "kernelspec": {
   "display_name": "Python 3 (ipykernel)",
   "language": "python",
   "name": "python3"
  },
  "language_info": {
   "codemirror_mode": {
    "name": "ipython",
    "version": 3
   },
   "file_extension": ".py",
   "mimetype": "text/x-python",
   "name": "python",
   "nbconvert_exporter": "python",
   "pygments_lexer": "ipython3",
   "version": "3.11.9"
  }
 },
 "nbformat": 4,
 "nbformat_minor": 5
}
