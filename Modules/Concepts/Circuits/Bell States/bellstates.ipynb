{
 "cells": [
  {
   "cell_type": "markdown",
   "id": "4da2cbfeac6e1297",
   "metadata": {},
   "source": [
    "# Bell States\n",
    "\n",
    "The Bell states are four states that can be created when two qubits are maximally entangled. The four states are:\n",
    "\n",
    "1. [Phi Plus State](#1.-Phi-Plus-State)\n",
    "2. [Phi Minus State](#2.-Phi-Minus-State)\n",
    "3. [Psi Plus State](#3.-Psi-Plus-State)\n",
    "4. [Psi Minus State](#4.-Psi-Minus-State)\n",
    "\n",
    "IBM Quantum Composer: https://quantum.ibm.com/composer/"
   ]
  },
  {
   "cell_type": "markdown",
   "id": "1d0db6d8ebf2e214",
   "metadata": {},
   "source": [
    "## 1. Phi Plus State\n",
    "\n",
    "### $\\ket{\\Phi^+} = \\frac{\\ket{00} + \\ket{11}}{\\sqrt{2}}$\n",
    "\n",
    "<img src=\"bell_states_images/composer_phi_plus.png\"></img>"
   ]
  },
  {
   "cell_type": "markdown",
   "id": "989fe482a5755546",
   "metadata": {},
   "source": [
    "## 2. Phi Minus State\n",
    "\n",
    "### $\\ket{\\Phi^-} = \\frac{\\ket{00} - \\ket{11}}{\\sqrt{2}}$\n",
    "    \n",
    "<img src=\"bell_states_images/composer_phi_minus.png\"></img>"
   ]
  },
  {
   "cell_type": "markdown",
   "id": "383405fe93329ca5",
   "metadata": {},
   "source": [
    "## 3. Psi Plus State\n",
    "\n",
    "### $\\ket{\\Psi^+} = \\frac{\\ket{01} + \\ket{10}}{\\sqrt{2}}$\n",
    "    \n",
    "<img src=\"bell_states_images/composer_psi_plus.png\"></img>"
   ]
  },
  {
   "cell_type": "markdown",
   "id": "a5f4d7615f4009c2",
   "metadata": {},
   "source": [
    "## 4. Psi Minus State\n",
    "\n",
    "### $\\ket{\\Psi^-} = \\frac{\\ket{01} - \\ket{10}}{\\sqrt{2}}$\n",
    "\n",
    "<img src=\"bell_states_images/composer_psi_minus.png\"></img>"
   ]
  }
 ],
 "metadata": {
  "kernelspec": {
   "display_name": "Python 3 (ipykernel)",
   "language": "python",
   "name": "python3"
  },
  "language_info": {
   "codemirror_mode": {
    "name": "ipython",
    "version": 3
   },
   "file_extension": ".py",
   "mimetype": "text/x-python",
   "name": "python",
   "nbconvert_exporter": "python",
   "pygments_lexer": "ipython3",
   "version": "3.11.9"
  }
 },
 "nbformat": 4,
 "nbformat_minor": 5
}
