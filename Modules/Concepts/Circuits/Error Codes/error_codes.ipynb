{
 "cells": [
  {
   "cell_type": "markdown",
   "id": "3d2991b0-1364-4dd7-863a-fd65ca27baa8",
   "metadata": {},
   "source": [
    "<h1>Error Codes</h1>\n",
    "\n",
    "In classical devices, high energy particles (cosmic rays, neutrons produced in the earth’s atmosphere,\n",
    "radiation from nuclear testind radiation from particle accelerator) can strike computers and cause bits to flip from $0$ to $1$ or from $1$ to $0$. Some bits may also become corrupted when transmitted through the internet.\n",
    "\n",
    "Similarly, quantum devices face errors due to noise (thermal fluctuations, electromagnetic interference, stray atoms, etc.), decoherence, and more. In this demonstration, we illustrate the concept of quantum error detection.\n",
    "\n",
    "1. [Quantum Error](#error)\n",
    "2. [Quantum Error Detection](#detect)\n",
    "3. [Qiskit Implementation](#qiskit)\n",
    "\n",
    "IBM Quantum Composer: https://quantum.ibm.com/composer/"
   ]
  },
  {
   "cell_type": "markdown",
   "id": "52d188ba-fea6-4b60-87bf-4893053040f4",
   "metadata": {},
   "source": [
    "<a id=\"error\"></a>\n",
    "## 1. Quantum Error\n",
    "We will begin with the $\\ket{00}$ state. To simulate an simple bit flip error, we can simply apply an $X$ gate to the second qubit. In more complicated cases, the qubit may experience partial bit flips or phase flips.\n",
    "\n",
    "<img src=\"images/bitflip.png\"></img>"
   ]
  },
  {
   "cell_type": "markdown",
   "id": "605d2328-a67b-4f91-b32d-c96823975e22",
   "metadata": {},
   "source": [
    "<a id=\"detect\"></a>\n",
    "## 2. Quantum Error Detection\n",
    "Given that we know that the original error-free state, we can detect if any changes in the state had occurred with **parity checking**. **Parity** refers to whether the bit string has an even or odd number of $1$’s. If there is an even number of $1$'s, the output is $0$. If there is an odd number of $1$'s, the output is $1$.\n",
    "\n",
    "In this case, our original state is $\\ket{00}$. The **parity** of this state is $0$. \n",
    "\n",
    "To measure the parity without collapsing the original state, we add an **ancilla** qubit to store the parity. We apply $\\text{CNOT}$ gates to the circuit for every qubit as the control and the **ancilla** qubit as the target."
   ]
  },
  {
   "cell_type": "markdown",
   "id": "b0f7c23eab630336",
   "metadata": {},
   "source": [
    "<img src=\"images/error_codes.png\"></img>"
   ]
  },
  {
   "cell_type": "markdown",
   "id": "7fa214e8-c4b4-4a33-927d-15e429d84d69",
   "metadata": {},
   "source": [
    "Measuring the **ancilla** qubit, we see the result to be $\\ket{1}$. This differs from our original known parity, $0$. That means an error must have occurred."
   ]
  },
  {
   "cell_type": "markdown",
   "id": "d206e20cb3979a4e",
   "metadata": {},
   "source": [
    "<img src=\"images/error_codes_measurement.png\"></img>"
   ]
  },
  {
   "cell_type": "markdown",
   "id": "8a1c1dfa-d9c1-401a-b19d-d55ba6ed13f3",
   "metadata": {},
   "source": [
    "<a id=\"qiskit\"></a>\n",
    "## 3. Qiskit Implementation\n",
    "We implement this in Qiskit."
   ]
  },
  {
   "cell_type": "code",
   "execution_count": 3,
   "id": "6a9b8ac0ee51601e",
   "metadata": {
    "ExecuteTime": {
     "end_time": "2024-11-22T18:22:11.364677Z",
     "start_time": "2024-11-22T18:22:11.255635Z"
    }
   },
   "outputs": [
    {
     "data": {
      "image/png": "[encoded data removed]",
      "text/plain": [
       "<Figure size 454.719x367.889 with 1 Axes>"
      ]
     },
     "execution_count": 3,
     "metadata": {},
     "output_type": "execute_result"
    }
   ],
   "source": [
    "from qiskit import QuantumCircuit\n",
    "\n",
    "# Create a quantum circuit with 3 qubits and 1 classical bit for measurement\n",
    "qc = QuantumCircuit(3, 1)\n",
    "\n",
    "# Step 1: Showcase simple error\n",
    "# Initialize the qubits in the |00⟩ state \n",
    "\n",
    "# Apply X gate to the second qubit to simulate a bit flip error\n",
    "qc.x(1)  # Apply X gate to qubit 1 (second qubit)\n",
    "\n",
    "# Step 2: Construct simple error detection (parity checking)\n",
    "# Add parity checking using a third qubit (ancilla)\n",
    "\n",
    "# Apply CNOT with qubit 0 (first qubit) as control and qubit 2 (third qubit) as target\n",
    "qc.cx(0, 2)  \n",
    "\n",
    "# Apply CNOT with qubit 1 (second qubit) as control and qubit 2 (third qubit) as target\n",
    "qc.cx(1, 2)  \n",
    "\n",
    "#Measure the ancilla qubit and store result in the classical bit\n",
    "qc.measure(2, 0)  \n",
    "\n",
    "# Visualize the circuit\n",
    "qc.draw(output='mpl')"
   ]
  },
  {
   "cell_type": "code",
   "execution_count": 4,
   "id": "0851c706-d28b-4e28-8687-7d474d5139f9",
   "metadata": {},
   "outputs": [
    {
     "name": "stdout",
     "output_type": "stream",
     "text": [
      "Measurement results: {'1': 1000}\n"
     ]
    }
   ],
   "source": [
    "from qiskit_aer import AerSimulator\n",
    "\n",
    "simulator = AerSimulator()\n",
    "job = simulator.run(qc, shots=1000) # How many copies of the circuit are executed\n",
    "\n",
    "# Get the result and count the occurrences of each outcome\n",
    "result = job.result()\n",
    "counts = result.get_counts(qc)\n",
    "\n",
    "print(\"Measurement results:\", counts)"
   ]
  }
 ],
 "metadata": {
  "kernelspec": {
   "display_name": "Python 3 (ipykernel)",
   "language": "python",
   "name": "python3"
  },
  "language_info": {
   "codemirror_mode": {
    "name": "ipython",
    "version": 3
   },
   "file_extension": ".py",
   "mimetype": "text/x-python",
   "name": "python",
   "nbconvert_exporter": "python",
   "pygments_lexer": "ipython3",
   "version": "3.11.9"
  }
 },
 "nbformat": 4,
 "nbformat_minor": 5
}
