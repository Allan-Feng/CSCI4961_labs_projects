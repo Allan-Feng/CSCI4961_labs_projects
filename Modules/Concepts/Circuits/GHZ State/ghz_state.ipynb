{
 "cells": [
  {
   "cell_type": "markdown",
   "id": "8ff517573e182474",
   "metadata": {},
   "source": [
    "# GHZ State\n",
    "\n",
    "The Greenberger-Horne-Zeilinger (GHZ) state is a maximally entangled state, just like the Bell states. It represents one of the simplest examples of entanglement with more than $2$ qubits in quantum mechanics.\n",
    "\n",
    "1. [IBM Quantum Composer](#1.-IBM-Quantum-Composer)\n",
    "2. [Circuit Measurement](#2.-Circuit-Measurement)\n",
    "\n",
    "IBM Quantum Composer: https://quantum.ibm.com/composer/"
   ]
  },
  {
   "cell_type": "markdown",
   "id": "43cada56-c466-4f0b-858d-90e5f913823f",
   "metadata": {},
   "source": [
    "## 1. IBM Quantum Composer\n",
    "\n",
    "### $\\ket{GHZ} = \\frac{\\ket{000} + \\ket{111}}{\\sqrt{2}}$\n",
    "\n",
    "<img src='ghz_state_images/composer_ghz_state.png'></img>"
   ]
  },
  {
   "cell_type": "markdown",
   "id": "73ff7098-4dd5-4c40-9fc7-9ac9a218efb9",
   "metadata": {},
   "source": [
    "## 2. Circuit Measurement\n",
    "\n",
    "Apply measurements to each qubit in the circuit. Then set up and run the circuit using the blue button in the top right of the IBM Quantum Composer. \n",
    "\n",
    "The probability distribution will show that measuring this circuit will give $\\ket{000}$ and $\\ket{111}$ with $\\frac{1}{2}$ probability.\n",
    "\n",
    "<img src='ghz_state_images/ghz_measurement.png'></img>"
   ]
  }
 ],
 "metadata": {
  "kernelspec": {
   "display_name": "Python 3 (ipykernel)",
   "language": "python",
   "name": "python3"
  },
  "language_info": {
   "codemirror_mode": {
    "name": "ipython",
    "version": 3
   },
   "file_extension": ".py",
   "mimetype": "text/x-python",
   "name": "python",
   "nbconvert_exporter": "python",
   "pygments_lexer": "ipython3",
   "version": "3.11.9"
  }
 },
 "nbformat": 4,
 "nbformat_minor": 5
}
