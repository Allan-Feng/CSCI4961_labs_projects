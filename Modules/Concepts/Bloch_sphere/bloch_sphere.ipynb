{
 "cells": [
  {
   "cell_type": "markdown",
   "metadata": {},
   "source": [
    "# Bloch Sphere"
   ]
  },
  {
   "cell_type": "markdown",
   "metadata": {},
   "source": [
    "<span style=\"font-size: 16px;\">\n",
    "The Bloch sphere is a geometric representation used in quantum mechanics to visualize the state of a single qubit, which is the fundamental unit of quantum information. It represents qubit states as points on the surface of a unit sphere, where each point on the sphere corresponds to a specific quantum state. We will demonstrate these states using qiskit.\n",
    "\n",
    "</span></span>\n",
    "1. [General Representation](#general-representation)  \n",
    "1.1 [Qiskit Representation](#qiskit-representation)  \n",
    "2. [Computational Basis States (Z-basis)](#computational-basis-states)  \n",
    "3. [Superposition States (X-basis)](#superposition-states-x-axis)  \n",
    "4. [Superposition States (Y-basis)](#superposition-states-y-axis)\n"
   ]
  },
  {
   "cell_type": "markdown",
   "metadata": {},
   "source": [
    "  <img src=\"bloch_sphere_images/general_representation.png\" alt=\"Image 1\" width=\"700\" height=\"500\" style=\"display: inline-block; margin: 10px;\">"
   ]
  },
  {
   "cell_type": "markdown",
   "metadata": {},
   "source": [
    "<a id=\"general-representation\"></a>\n",
    "## 1. General Representation of a Qubit on the Bloch Sphere\n",
    "\n",
    "<span style=\"font-size: 16px;\">\n",
    "A general single-qubit state $\\ket{\\psi}$ can be written as:\n",
    "\n",
    "$$\n",
    "|\\psi\\rangle = \\cos \\left( \\frac{\\theta}{2} \\right) |0\\rangle + e^{i\\phi} \\sin \\left( \\frac{\\theta}{2} \\right) |1\\rangle\n",
    "$$\n",
    "\n",
    "\n",
    "</span></span>\n",
    "\n"
   ]
  },
  {
   "cell_type": "markdown",
   "metadata": {},
   "source": [
    "<a id=\"qiskit-representation\"></a>\n",
    "### 1.1 Utilizing Qiskit - IBM Quantum Documentation\n",
    "\n",
    "#### Function\n",
    "<span style=\"font-size: 16px;\">\n",
    "qiskit.visualization.plot_bloch_vector(bloch, title='', ax=None, figsize=None, coord_type='cartesian', font_size=None)\n",
    "\n",
    "</span></span>\n",
    "\n",
    "<span style=\"font-size: 14px;\">\n",
    "\n",
    "**bloch** (list[double]) – array of three elements where [\\<x\\>, \\<y\\>, \\<z\\>] (Cartesian) or [\\<r\\>, \\<theta\\>, \\<phi\\>] (spherical in radians) \\<theta\\> is inclination angle from +z direction \\<phi\\> is azimuth from +x direction\n",
    "**title** (str) – a string that represents the plot title\n",
    "\n",
    "**ax** (matplotlib.axes.Axes) – An Axes to use for rendering the bloch sphere\n",
    "\n",
    "**figsize** (tuple) – Figure size in inches. Has no effect is passing ax.\n",
    "\n",
    "**coord_type** (str) – a string that specifies coordinate type for bloch (Cartesian or spherical), default is Cartesian\n",
    "\n",
    "**font_size** (float) – Font size.\n",
    "\n",
    "\n",
    "</span></span>"
   ]
  },
  {
   "cell_type": "markdown",
   "metadata": {},
   "source": [
    "#### Imports"
   ]
  },
  {
   "cell_type": "code",
   "execution_count": null,
   "metadata": {},
   "outputs": [],
   "source": [
    "%pip install qiskit\n",
    "%pip install numpy"
   ]
  },
  {
   "cell_type": "code",
   "execution_count": null,
   "metadata": {},
   "outputs": [],
   "source": [
    "from qiskit.visualization import plot_bloch_vector\n",
    "import numpy as np"
   ]
  },
  {
   "cell_type": "markdown",
   "metadata": {},
   "source": [
    "<a id=\"computational-basis-states\"></a>\n",
    "## 2. Computational Basis States (Z-basis)\n",
    "\n",
    "<span style=\"font-size: 16px;\">\n",
    "The computational basis states $\\ket{0}$ and $\\ket{1}$ are represented at the North and South poles of the Bloch Sphere, respectively.</span></span>\n",
    "\n"
   ]
  },
  {
   "cell_type": "markdown",
   "metadata": {},
   "source": [
    "## $\\ket{0}$\n",
    "\n",
    "<span style=\"font-size: 16px;\">\n",
    "Using qiskit, we can plot the qubit state $\\ket{0}$ in cartesian coordinates and polar coordinates. \n",
    "</span></span>\n"
   ]
  },
  {
   "cell_type": "code",
   "execution_count": null,
   "metadata": {},
   "outputs": [],
   "source": [
    "#cartesian coordinates\n",
    "plot_bloch_vector([0, 0, 1], coord_type='cartesian')"
   ]
  },
  {
   "cell_type": "code",
   "execution_count": null,
   "metadata": {},
   "outputs": [],
   "source": [
    "#polar coordinates\n",
    "plot_bloch_vector([1, 0, np.pi], coord_type='spherical')"
   ]
  },
  {
   "cell_type": "markdown",
   "metadata": {},
   "source": [
    "  <img src=\"bloch_sphere_images/north_state.png\" alt=\"Image 1\" width=\"300\" height=\"300\" style=\"display: inline-block; margin: 10px;\">\n",
    "    <img src=\"bloch_sphere_images/Picture4.png\" alt=\"Image 1\" width=\"400\" height=\"300\" style=\"display: inline-block; margin: 10px;\">"
   ]
  },
  {
   "cell_type": "markdown",
   "metadata": {},
   "source": [
    "## $\\ket{1}$\n",
    "<span style=\"font-size: 16px;\">\n",
    "Using qiskit, we can plot the qubit state $\\ket{1}$ in cartesian coordinates and polar coordinates.\n",
    "\n",
    "</span></span>\n"
   ]
  },
  {
   "cell_type": "code",
   "execution_count": null,
   "metadata": {},
   "outputs": [],
   "source": [
    "#cartiesian coordinates\n",
    "plot_bloch_vector([0, 0, -1], coord_type='cartesian')"
   ]
  },
  {
   "cell_type": "code",
   "execution_count": null,
   "metadata": {},
   "outputs": [],
   "source": [
    "#polar coordinates\n",
    "plot_bloch_vector([1, np.pi, 0], coord_type='spherical')"
   ]
  },
  {
   "cell_type": "markdown",
   "metadata": {},
   "source": [
    "  <img src=\"bloch_sphere_images/north_2state.png\" alt=\"Image 1\" width=\"300\" height=\"300\" style=\"display: inline-block; margin: 10px;\">\n",
    "    <img src=\"bloch_sphere_images/Picture6.png\" alt=\"Image 1\" width=\"400\" height=\"300\" style=\"display: inline-block; margin: 10px;\">\n",
    "\n"
   ]
  },
  {
   "cell_type": "markdown",
   "metadata": {},
   "source": [
    "<a id=\"superposition-states-x-axis\"></a>\n",
    "## 3. Superposition States (X-basis)\n",
    "\n",
    "<span style=\"font-size: 16px;\">\n",
    "$\\ket{+}$ and $\\ket{-}$ are the superposition states located on the x-axis of the Bloch Sphere. \n",
    "\n",
    "</span></span>\n"
   ]
  },
  {
   "cell_type": "markdown",
   "metadata": {},
   "source": [
    "## $\\ket{+}$\n",
    "<span style=\"font-size: 16px;\">\n",
    "\n",
    "</span></span>\n",
    "\n",
    "The $\\ket{+}$ state corresponds to the \"plus\" state in the positive x-axis direction, and is defined as:\n",
    "\n",
    "$$\n",
    "|+\\rangle = \\frac{1}{\\sqrt{2}}(|0\\rangle + |1\\rangle)\n",
    "$$\n",
    "\n",
    "Using qiskit, we can plot the qubit state $\\ket{+}$ in cartesian and polar coordinates."
   ]
  },
  {
   "cell_type": "code",
   "execution_count": null,
   "metadata": {},
   "outputs": [],
   "source": [
    "#cartesian coordinates\n",
    "plot_bloch_vector([1, 0, 0], coord_type='cartesian')"
   ]
  },
  {
   "cell_type": "code",
   "execution_count": null,
   "metadata": {},
   "outputs": [],
   "source": [
    "#polar coordinates\n",
    "plot_bloch_vector([1, np.pi/2, 0], coord_type='spherical')"
   ]
  },
  {
   "cell_type": "markdown",
   "metadata": {},
   "source": [
    "\n",
    "  <img src=\"bloch_sphere_images/x-positive.png\" alt=\"Image 1\" width=\"300\" height=\"300\" style=\"display: inline-block; margin: 10px;\">\n",
    "\n",
    "  \n",
    "  <img src=\"bloch_sphere_images/Picture5.png\" alt=\"Image 1\" width=\"400\" height=\"300\" style=\"display: inline-block; margin: 10px;\">\n",
    "\n"
   ]
  },
  {
   "cell_type": "markdown",
   "metadata": {},
   "source": [
    "## $\\ket{-}$\n",
    "\n",
    "\n",
    "<span style=\"font-size: 16px;\">\n",
    "\n",
    "\n",
    "</span></span>\n",
    "\n",
    "The $\\ket{-}$ state corresponds to the \"negative\" state in the negative x-axis direction, and is defined as:\n",
    "\n",
    "$$\n",
    "|-\\rangle = \\frac{1}{\\sqrt{2}}(|0\\rangle - |1\\rangle)\n",
    "$$\n",
    "\n",
    "Using qiskit, we can plot the qubit state $\\ket{-}$ in cartesian and polar coordinates.\n"
   ]
  },
  {
   "cell_type": "code",
   "execution_count": null,
   "metadata": {},
   "outputs": [],
   "source": [
    "# cartesian coordinates\n",
    "plot_bloch_vector([-1, 0, 0], coord_type='cartesian')"
   ]
  },
  {
   "cell_type": "code",
   "execution_count": null,
   "metadata": {},
   "outputs": [],
   "source": [
    "# polar coordinates\n",
    "plot_bloch_vector([1, -np.pi/2, 0], coord_type='spherical')"
   ]
  },
  {
   "cell_type": "markdown",
   "metadata": {},
   "source": [
    "\n",
    "  <img src=\"bloch_sphere_images/x-negative.png\" alt=\"Image 1\" width=\"300\" height=\"300\" style=\"display: inline-block; margin: 10px;\">\n",
    "\n",
    "  <img src=\"bloch_sphere_images/Picture7.png\" alt=\"Image 1\" width=\"400\" height=\"300\" style=\"display: inline-block; margin: 10px;\">\n",
    "\n",
    "  \n",
    "\n",
    "\n",
    "\n",
    "  \n",
    "\n",
    "\n"
   ]
  },
  {
   "cell_type": "markdown",
   "metadata": {},
   "source": [
    "<a id=\"superposition-states-y-axis\"></a>\n",
    "## 4. Superposition States (Y-axis)\n",
    "\n",
    "<span style=\"font-size: 16px;\">\n",
    "$\\ket{+i}$ and $\\ket{-i}$ are the superposition states located on the y-axis of the Bloch Sphere. \n",
    "\n",
    "</span></span>\n",
    "\n",
    "\n"
   ]
  },
  {
   "cell_type": "markdown",
   "metadata": {},
   "source": [
    "## $\\ket{+i}$\n",
    "<span style=\"font-size: 16px;\">\n",
    "\n",
    "The $\\ket{+i}$ state corresponds to the \"plus\" state in the positive y-axis direction, and is defined as:\n",
    "\n",
    "$$\n",
    "|+i\\rangle = \\frac{1}{\\sqrt{2}}(|0\\rangle + i|1\\rangle)\n",
    "$$\n",
    "\n",
    "Using qiskit, we can plot the qubit state $\\ket{+i}$ in cartesian and polar coordinates.\n",
    "</span></span>\n"
   ]
  },
  {
   "cell_type": "code",
   "execution_count": null,
   "metadata": {},
   "outputs": [],
   "source": [
    "# cartesian coordinates\n",
    "plot_bloch_vector([0, 1, 0], coord_type='cartesian')"
   ]
  },
  {
   "cell_type": "code",
   "execution_count": null,
   "metadata": {},
   "outputs": [],
   "source": [
    "# polar coordinates\n",
    "plot_bloch_vector([1, np.pi/2, np.pi/2], coord_type='spherical')"
   ]
  },
  {
   "cell_type": "markdown",
   "metadata": {},
   "source": [
    "  <img src=\"bloch_sphere_images/y-positive.png\" alt=\"Image 1\" width=\"300\" height=\"300\" style=\"display: inline-block; margin: 10px;\">\n",
    "  <img src=\"bloch_sphere_images/Picture2.png\" alt=\"Image 1\" width=\"400\" height=\"300\" style=\"display: inline-block; margin: 10px;\">"
   ]
  },
  {
   "cell_type": "markdown",
   "metadata": {},
   "source": [
    "## $\\ket{-i}$\n",
    "\n",
    "\n",
    "<span style=\"font-size: 16px;\">\n",
    "\n",
    "\n",
    "</span></span>\n",
    "\n",
    "The $\\ket{-i}$ state corresponds to the \"negative\" state in the negative y-axis direction, and is defined as:\n",
    "\n",
    "$$\n",
    "|-i\\rangle = \\frac{1}{\\sqrt{2}}(|0\\rangle - i|1\\rangle)\n",
    "$$\n",
    "\n",
    "Using qiskit, we can plot the qubit state $\\ket{-i}$ in cartesian and polar coordinates.\n"
   ]
  },
  {
   "cell_type": "code",
   "execution_count": null,
   "metadata": {},
   "outputs": [],
   "source": [
    "# cartesian coordinates\n",
    "plot_bloch_vector([0, -1, 0], coord_type='cartesian')"
   ]
  },
  {
   "cell_type": "code",
   "execution_count": null,
   "metadata": {},
   "outputs": [],
   "source": [
    "# polar coordinates\n",
    "plot_bloch_vector([1, -np.pi/2, np.pi/2], coord_type='spherical')"
   ]
  },
  {
   "cell_type": "markdown",
   "metadata": {},
   "source": [
    "  <img src=\"bloch_sphere_images/y-negative.png\" alt=\"Image 1\" width=\"300\" height=\"300\" style=\"display: inline-block; margin: 10px;\">\n",
    "  <img src=\"bloch_sphere_images/Picture8.png\" alt=\"Image 1\" width=\"400\" height=\"300\" style=\"display: inline-block; margin: 10px;\">"
   ]
  }
 ],
 "metadata": {
  "kernelspec": {
   "display_name": "Python 3 (ipykernel)",
   "language": "python",
   "name": "python3"
  },
  "language_info": {
   "codemirror_mode": {
    "name": "ipython",
    "version": 3
   },
   "file_extension": ".py",
   "mimetype": "text/x-python",
   "name": "python",
   "nbconvert_exporter": "python",
   "pygments_lexer": "ipython3",
   "version": "3.11.9"
  }
 },
 "nbformat": 4,
 "nbformat_minor": 4
}
