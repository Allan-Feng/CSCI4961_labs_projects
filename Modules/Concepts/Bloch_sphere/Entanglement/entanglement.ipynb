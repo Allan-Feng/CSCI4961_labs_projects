{
 "cells": [
  {
   "cell_type": "markdown",
   "metadata": {},
   "source": [
    "# Entanglement\n",
    "\n",
    "https://quantum.ibm.com/composer/\n",
    "\n",
    "<span style=\"font-size: 16px;\">\n",
    "\n",
    "When a qubit is measured, its quantum state collapses into one of the basis states, ∣0⟩ or ∣1⟩, with specific probabilities, rather than remaining in a superposition. Once collapsed, repeated measurements yield the same outcome with certainty. \n",
    "\n",
    "In this demonstration, we will explore qubit measurement using IBM Quantum Composer and Qiskit.\n",
    "\n",
    "</span></span>\n",
    "1. [General Representation](#general-representation)  \n",
    "2. [Qiskit Representation](#qiskit-representation)  \n",
    "3. [Calculating Measurement](#calculate)  \n",
    "\n",
    "\n",
    "\n"
   ]
  },
  {
   "cell_type": "markdown",
   "metadata": {},
   "source": [
    "<a id=\"general-representation\"></a>\n",
    "## 1. General Representation of Measurement\n",
    "\n",
    "### Start with ∣0⟩ state\n",
    "\n",
    "</span></span>"
   ]
  },
  {
   "cell_type": "markdown",
   "metadata": {},
   "source": [
    "### Use Hadamard Gate on the first qubit to generate superposition state"
   ]
  },
  {
   "cell_type": "markdown",
   "metadata": {},
   "source": [
    "### Apply CNOT gate, with first qubit as control and second qubit as target."
   ]
  },
  {
   "cell_type": "markdown",
   "metadata": {},
   "source": [
    "### Measure both qubits."
   ]
  },
  {
   "cell_type": "markdown",
   "metadata": {},
   "source": [
    "### Set up and run the circuit."
   ]
  }
 ],
 "metadata": {
  "language_info": {
   "name": "python"
  }
 },
 "nbformat": 4,
 "nbformat_minor": 2
}
