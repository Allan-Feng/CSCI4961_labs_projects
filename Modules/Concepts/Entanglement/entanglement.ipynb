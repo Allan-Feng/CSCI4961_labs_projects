{
 "cells": [
  {
   "cell_type": "markdown",
   "metadata": {},
   "source": [
    "# Entanglement\n",
    "\n",
    "https://quantum.ibm.com/composer/\n",
    "\n",
    "<span style=\"font-size: 16px;\">\n",
    "\n",
    "When a qubit is measured, its quantum state collapses into one of the basis states, ∣0⟩ or ∣1⟩, with specific probabilities, rather than remaining in a superposition. Once collapsed, repeated measurements yield the same outcome with certainty. \n",
    "\n",
    "In this demonstration, we will explore qubit measurement using IBM Quantum Composer and Qiskit.\n",
    "\n",
    "</span></span>\n",
    "1. [IBM Quantum Composer](#general-representation)  \n",
    "2. [Qiskit Representation](#qiskit-representation)  \n",
    "3. [Calculating Measurement](#calculate)  \n",
    "\n",
    "\n",
    "\n"
   ]
  },
  {
   "cell_type": "markdown",
   "metadata": {},
   "source": [
    "<a id=\"general-representation\"></a>\n",
    "## 1. IBM Quantum Composer\n",
    "\n",
    "### Start with ∣00⟩ state\n",
    "The initial state $\\ket{00}$ represents two qubits both in the $\\ket{0}$ state, with no entanglement. This is the baseline from which we build the entangled state by applying quantum gates.\n",
    "\n",
    "  <img src=\"entanglement_images/Picture1.png\" alt=\"Image 1\" width=\"700\" height=\"100\" style=\"display: inline-block; margin: 10px;\">\n",
    "    <img src=\"entanglement_images/Picture7.png\" alt=\"Image 1\" width=\"600\" height=\"300\" style=\"display: inline-block; margin: 10px;\">\n"
   ]
  },
  {
   "cell_type": "markdown",
   "metadata": {},
   "source": [
    "### Use Hadamard Gate on the first qubit to generate superposition state\n",
    "\n",
    "The Hadamard gate transforms the first qubit from the $\\ket{0}$ state into a superposition state: \n",
    "$H\\ket{0} = \\frac{\\ket{0} + \\ket{1}}{\\sqrt{2}}$.\n",
    "\n",
    "This results in the overall quantum state of the system: \n",
    "$\\frac{\\ket{00} + \\ket{10}}{\\sqrt{2}}$.\n",
    "\n",
    "\n",
    "At this stage, the qubits are not yet entangled, but the first qubit's superposition begins establishing a correlation between the two qubits.\n",
    "\n",
    "  <img src=\"entanglement_images/Picture4.png\" alt=\"Image 1\" width=\"700\" height=\"100\" style=\"display: inline-block; margin: 10px;\">\n",
    "    <img src=\"entanglement_images/Picture8.png\" alt=\"Image 1\" width=\"600\" height=\"300\" style=\"display: inline-block; margin: 10px;\">\n"
   ]
  },
  {
   "cell_type": "markdown",
   "metadata": {},
   "source": [
    "### Apply CNOT gate, with first qubit as control and second qubit as target.\n",
    "\n",
    "The CNOT gate entangles the qubits by flipping the state of the second qubit if the first qubit is in $|1\\rangle$. This operation transforms the state into the Bell state:\n",
    "$\\frac{|00\\rangle + |11\\rangle}{\\sqrt{2}}$.\n",
    "At this point, the qubits are fully entangled, meaning their states are interdependent.\n",
    "\n",
    "\n",
    "  <img src=\"entanglement_images/Picture5.png\" alt=\"Image 1\" width=\"700\" height=\"100\" style=\"display: inline-block; margin: 10px;\">\n",
    "    <img src=\"entanglement_images/Picture9.png\" alt=\"Image 1\" width=\"600\" height=\"300\" style=\"display: inline-block; margin: 10px;\">\n"
   ]
  },
  {
   "cell_type": "markdown",
   "metadata": {},
   "source": [
    "### Measure both qubits.\n",
    "When measured, the entangled state collapses to either $|0\\rangle$ or $|1\\rangle$, each with 50% probability.\n",
    "The measurement of the first qubit directly determines the measurement of the second qubit due to their perfect correlation caused by entanglement.\n",
    "\n",
    "  <img src=\"entanglement_images/Picture6.png\" alt=\"Image 1\" width=\"700\" height=\"100\" style=\"display: inline-block; margin: 10px;\">\n",
    "    <img src=\"entanglement_images/Picture10.png\" alt=\"Image 1\" width=\"600\" height=\"300\" style=\"display: inline-block; margin: 10px;\">\n"
   ]
  },
  {
   "cell_type": "markdown",
   "metadata": {},
   "source": [
    "### Set up and run the circuit.\n",
    "  <img src=\"entanglement_images/Picture11.png\" alt=\"Image 1\" width=\"400\" height=\"450\" style=\"display: inline-block; margin: 10px;\">"
   ]
  },
  {
   "cell_type": "markdown",
   "metadata": {},
   "source": [
    "## 2. Qiskit Implementation\n",
    "\n",
    "### Imports:\n"
   ]
  },
  {
   "cell_type": "code",
   "execution_count": null,
   "metadata": {},
   "outputs": [],
   "source": [
    "%pip install qiskit\n",
    "%pip install qiskit-aer"
   ]
  },
  {
   "cell_type": "code",
   "execution_count": null,
   "metadata": {},
   "outputs": [],
   "source": [
    "from qiskit import QuantumCircuit\n",
    "# Initialize 2 qubit circuit\n",
    "qc = QuantumCircuit(2,2)\n",
    "# Apply Hadamard on first qubit\n",
    "qc.h(0)\n",
    "\n",
    "#Apply CNOT gate (control: qubit 0, target: qubit 1)\n",
    "qc.cx(0, 1)\n",
    "\n",
    "# Measure both qubits\n",
    "qc.measure(0, 0)  \n",
    "qc.measure(1, 1) \n",
    "\n",
    "qc.draw(output=\"mpl\")"
   ]
  },
  {
   "cell_type": "markdown",
   "metadata": {},
   "source": [
    "  <img src=\"entanglement_images/Picture13.png\" alt=\"Image 1\" width=\"270\" height=\"200\" style=\"display: inline-block; margin: 10px;\">"
   ]
  },
  {
   "cell_type": "code",
   "execution_count": null,
   "metadata": {},
   "outputs": [],
   "source": [
    "from qiskit_aer import AerSimulator\n",
    "simulator = AerSimulator()\n",
    "job = simulator.run(qc, shots=1000) # How many copies of the circuit are executed\n",
    "\n",
    "# Get the result and count the occurrences of each outcome\n",
    "result = job.result()\n",
    "counts = result.get_counts(qc)\n",
    "\n",
    "print(\"Measurement results:\", counts)"
   ]
  },
  {
   "cell_type": "markdown",
   "metadata": {},
   "source": [
    "Measurement results: {'1': 507, '0': 517}"
   ]
  }
 ],
 "metadata": {
  "kernelspec": {
   "display_name": "cwq",
   "language": "python",
   "name": "python3"
  },
  "language_info": {
   "name": "python",
   "version": "3.12.4"
  }
 },
 "nbformat": 4,
 "nbformat_minor": 2
}
