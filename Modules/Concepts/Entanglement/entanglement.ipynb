{
 "cells": [
  {
   "cell_type": "markdown",
   "metadata": {},
   "source": [
    "# Entanglement\n",
    "\n",
    "https://quantum.ibm.com/composer/\n",
    "\n",
    "<span style=\"font-size: 16px;\">\n",
    "\n",
    "When two qubits are entangled, measuring one qubit collapses its state and simultaneously determines the state of the other, regardless of distance. Before measurement, the qubits exist in a shared superposition, with their outcomes correlated. Once measured, the states of the entangled qubits are fixed, and repeated measurements yield consistent results.\n",
    "\n",
    "In this demonstration, we will explore qubit measurement using IBM Quantum Composer and Qiskit.\n",
    "\n",
    "</span></span>\n",
    "1. [IBM Quantum Composer](#general-representation)  \n",
    "2. [Qiskit Representation](#qiskit-representation)  \n",
    "3. [Measuring Entangled States](#calculate)  \n",
    "\n",
    "\n",
    "\n"
   ]
  },
  {
   "cell_type": "markdown",
   "metadata": {},
   "source": [
    "<a id=\"general-representation\"></a>\n",
    "## 1. IBM Quantum Composer\n",
    "\n",
    "### Start with ∣00⟩ state\n",
    "The initial state $\\ket{00}$ represents two qubits both in the $\\ket{0}$ state, with no entanglement. This is the baseline from which we build the entangled state by applying quantum gates.\n",
    "\n",
    "  <img src=\"entanglement_images/Picture1.png\" alt=\"Image 1\" width=\"700\" height=\"100\" style=\"display: inline-block; margin: 10px;\">\n",
    "    <img src=\"entanglement_images/Picture7.png\" alt=\"Image 1\" width=\"600\" height=\"300\" style=\"display: inline-block; margin: 10px;\">\n"
   ]
  },
  {
   "cell_type": "markdown",
   "metadata": {},
   "source": [
    "### Use Hadamard Gate on the first qubit to generate superposition state\n",
    "\n",
    "The Hadamard gate transforms the first qubit from the $\\ket{0}$ state into a superposition state: \n",
    "$H\\ket{0} = \\frac{\\ket{0} + \\ket{1}}{\\sqrt{2}}$.\n",
    "\n",
    "This results in the overall quantum state of the system: \n",
    "$\\frac{\\ket{00} + \\ket{10}}{\\sqrt{2}}$.\n",
    "\n",
    "\n",
    "At this stage, the qubits are not yet entangled, but the first qubit's superposition begins establishing a correlation between the two qubits.\n",
    "\n",
    "  <img src=\"entanglement_images/Picture4.png\" alt=\"Image 1\" width=\"700\" height=\"100\" style=\"display: inline-block; margin: 10px;\">\n",
    "    <img src=\"entanglement_images/Picture8.png\" alt=\"Image 1\" width=\"600\" height=\"300\" style=\"display: inline-block; margin: 10px;\">\n"
   ]
  },
  {
   "cell_type": "markdown",
   "metadata": {},
   "source": [
    "### Apply CNOT gate, with first qubit as control and second qubit as target.\n",
    "\n",
    "The CNOT gate entangles the qubits by flipping the state of the second qubit if the first qubit is in $|1\\rangle$. This operation transforms the state into the Bell state:\n",
    "$\\frac{|00\\rangle + |11\\rangle}{\\sqrt{2}}$.\n",
    "At this point, the qubits are fully entangled, meaning their states are interdependent.\n",
    "\n",
    "\n",
    "  <img src=\"entanglement_images/Picture5.png\" alt=\"Image 1\" width=\"700\" height=\"100\" style=\"display: inline-block; margin: 10px;\">\n",
    "    <img src=\"entanglement_images/Picture9.png\" alt=\"Image 1\" width=\"600\" height=\"300\" style=\"display: inline-block; margin: 10px;\">\n"
   ]
  },
  {
   "cell_type": "markdown",
   "metadata": {},
   "source": [
    "### Measure both qubits.\n",
    "When measured, the entangled state collapses to either $|0\\rangle$ or $|1\\rangle$, each with 50% probability.\n",
    "The measurement of the first qubit directly determines the measurement of the second qubit due to their perfect correlation caused by entanglement.\n",
    "\n",
    "  <img src=\"entanglement_images/Picture6.png\" alt=\"Image 1\" width=\"700\" height=\"100\" style=\"display: inline-block; margin: 10px;\">\n",
    "    <img src=\"entanglement_images/Picture10.png\" alt=\"Image 1\" width=\"600\" height=\"300\" style=\"display: inline-block; margin: 10px;\">\n"
   ]
  },
  {
   "cell_type": "markdown",
   "metadata": {},
   "source": [
    "### Set up and run the circuit.\n",
    "  <img src=\"entanglement_images/Picture11.png\" alt=\"Image 1\" width=\"400\" height=\"450\" style=\"display: inline-block; margin: 10px;\">"
   ]
  },
  {
   "cell_type": "markdown",
   "metadata": {},
   "source": [
    "## 2. Qiskit Implementation\n",
    "\n",
    "### Imports:\n"
   ]
  },
  {
   "cell_type": "code",
   "execution_count": null,
   "metadata": {},
   "outputs": [],
   "source": [
    "%pip install qiskit\n",
    "%pip install qiskit-aer"
   ]
  },
  {
   "cell_type": "code",
   "execution_count": null,
   "metadata": {},
   "outputs": [],
   "source": [
    "from qiskit import QuantumCircuit\n",
    "# Initialize 2 qubit circuit\n",
    "qc = QuantumCircuit(2,2)\n",
    "# Apply Hadamard on first qubit\n",
    "qc.h(0)\n",
    "\n",
    "#Apply CNOT gate (control: qubit 0, target: qubit 1)\n",
    "qc.cx(0, 1)\n",
    "\n",
    "# Measure both qubits\n",
    "qc.measure(0, 0)  \n",
    "qc.measure(1, 1) \n",
    "\n",
    "qc.draw(output=\"mpl\")"
   ]
  },
  {
   "cell_type": "markdown",
   "metadata": {},
   "source": [
    "  <img src=\"entanglement_images/Picture13.png\" alt=\"Image 1\" width=\"270\" height=\"200\" style=\"display: inline-block; margin: 10px;\">"
   ]
  },
  {
   "cell_type": "code",
   "execution_count": null,
   "metadata": {},
   "outputs": [],
   "source": [
    "from qiskit_aer import AerSimulator\n",
    "simulator = AerSimulator()\n",
    "job = simulator.run(qc, shots=1000) # How many copies of the circuit are executed\n",
    "\n",
    "# Get the result and count the occurrences of each outcome\n",
    "result = job.result()\n",
    "counts = result.get_counts(qc)\n",
    "\n",
    "print(\"Measurement results:\", counts)"
   ]
  },
  {
   "cell_type": "markdown",
   "metadata": {},
   "source": [
    "Measurement results: {'1': 507, '0': 517}"
   ]
  },
  {
   "cell_type": "markdown",
   "metadata": {},
   "source": [
    "## Measuring Entangled States\n",
    "Another way of identifying entanglement is by measuring qubits mathematically.\n",
    "\n",
    "### Maximally Entangled States\n",
    "Maximally entangled states means there are maximal amount of entanglement. Measuring one qubit will determine the measurment of the other qubit.\n",
    "With two qubits, there are four maximally entangled states, called the Bell States. \n",
    "\n",
    "$|\\Phi^+\\rangle = \\frac{1}{\\sqrt{2}}(|00\\rangle + |11\\rangle),$\n",
    "\n",
    "$|\\Phi^-\\rangle = \\frac{1}{\\sqrt{2}}(|00\\rangle - |11\\rangle),$\n",
    "\n",
    "$|\\Psi^+\\rangle = \\frac{1}{\\sqrt{2}}(|01\\rangle + |10\\rangle),$\n",
    "\n",
    "$|\\Psi^-\\rangle = \\frac{1}{\\sqrt{2}}(|01\\rangle - |10\\rangle).$\n",
    "\n",
    "\n",
    "### Partially Entangled States\n",
    "Partially entangled states cannot be factored into tensor product of a single qubit. \n",
    "\n",
    "##### Example:\n",
    "$\\frac{\\sqrt{3}}{2\\sqrt{2}}|00\\rangle + \\frac{\\sqrt{3}}{2\\sqrt{2}}|01\\rangle + \\frac{\\sqrt{3}}{4}|10\\rangle + \\frac{1}{4}|11\\rangle.$\n",
    "\n",
    "If we measure only the left qubit:\n",
    "\n",
    "The outcome is 0 with probability $3/4$, collapsing the state to $\\lvert 0 \\rangle \\frac{1}{\\sqrt{2}}(\\lvert 0 \\rangle + \\lvert 1 \\rangle)$.\n",
    "\n",
    "The outcome is 1 with probability $1/4$, collapsing the state to $\\lvert 1 \\rangle \\left(\\frac{\\sqrt{3}}{2}\\lvert 0 \\rangle + \\frac{1}{2}\\lvert 1 \\rangle\\right)$.\n"
   ]
  }
 ],
 "metadata": {
  "kernelspec": {
   "display_name": "cwq",
   "language": "python",
   "name": "python3"
  },
  "language_info": {
   "name": "python",
   "version": "3.12.4"
  }
 },
 "nbformat": 4,
 "nbformat_minor": 2
}
