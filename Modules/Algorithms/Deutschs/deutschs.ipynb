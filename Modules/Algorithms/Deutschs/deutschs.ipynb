{
 "cells": [
  {
   "cell_type": "markdown",
   "metadata": {},
   "source": [
    "# DEUTSCH'S ALGORITHM\n",
    "\n",
    "### Parity Problem:\n",
    "\n",
    "Deutsch's algorithm is used to solve the **parity problem**: $Parity = f(0) \\oplus f(1)$. \n",
    "Here, $\\oplus$ denotes the XOR operator. For example:\n",
    "\n",
    "- $f(0) = f(1), Parity = 0$ (even parity, constant function)\n",
    "- $f(0) \\neq f(1), Parity = 1$ (odd parity, balanced function)"
   ]
  },
  {
   "cell_type": "markdown",
   "metadata": {},
   "source": [
    "### DEUTSCH'S ALGORITHM CIRCUIT\n",
    "![title](deutschs_images/Deutsch-solution.png)"
   ]
  },
  {
   "cell_type": "markdown",
   "metadata": {},
   "source": [
    "The circuit starts with:\n",
    "$$\\ket{\\pi_0} = \\ket{01}$$\n",
    "After the Hadamard gate is applied, it transforms $\\ket{0} \\to \\ket{+}$ and $\\ket{1} \\to \\ket{-}$. Therefore, $\\ket{\\pi_0} = \\ket{+-}$.<br> \n",
    "To simplify, rewrite the plus state and distribute the negative state: $$\\ket{pi_1}=\\frac{1}{\\sqrt{2}}(\\ket{0} \\ket{-} + \\ket{1}\\ket{-})$$\n",
    "\n",
    "Now, query the oracle $U_f$. \n",
    "$$\n",
    "\\ket{\\pi_1}=\\frac{1}{\\sqrt{2}}U_f(\\ket{0} \\ket{-} + \\ket{1}\\ket{-})\n",
    "\\\\\n",
    "\\ket{\\pi_1}=\\frac{1}{\\sqrt{2}}(U_f\\ket{0} \\ket{-} + U_f\\ket{1}\\ket{-})$$\n",
    "\n",
    "As per definition of phase oracles: $ U_f\\ket{x}\\ket{-} = (-1)^{f(x)}=\\ket{x}\\ket{-}$, plug it into the equation:\n",
    "$$\n",
    "\\ket{\\pi_2}=\\frac{1}{\\sqrt{2}}((-1)^{f(0)}\\ket{0}) + (-1)^{f(1)}\\ket{1}))\n",
    "$$\n",
    "\n",
    "Back to the parity equation:\n",
    "$$\n",
    "\\\\\n",
    "f(0) = f(1):\\\\ \\pm\\frac{1}{\\sqrt{2}}(\\ket{0}+\\ket{1}) \\\\ \\\\\\pm \\ket{+}\n",
    "\\\\~\\\\\n",
    "f(0) \\neq f(1):\\\\ \\pm\\frac{1}{\\sqrt{2}}(\\ket{0}-\\ket{1}) \\\\\\pm \\ket{-}\n",
    "$$\n",
    "\n",
    "Appying last Hadamard gate flips the plus state to zero, and minus state to one:\n",
    "$$\n",
    "f(0) = f(1):\\\\ \\\\\\pm \\ket{0}\n",
    "\\\\~\\\\\n",
    "f(0) \\neq f(1):\\\\ \\\\\\pm \\ket{1}\n",
    "\n",
    "$$\n",
    "\n",
    "Finally, we measure the first qubit. This matches the parity problem, where:\n",
    "* If we measure 0, then the function is constant: $f(0) = f(1)$\n",
    "* If we measure 1, then the function is constant: $f(0) \\neq f(1)$\n",
    "\n"
   ]
  }
 ],
 "metadata": {
  "language_info": {
   "name": "python"
  }
 },
 "nbformat": 4,
 "nbformat_minor": 2
}
