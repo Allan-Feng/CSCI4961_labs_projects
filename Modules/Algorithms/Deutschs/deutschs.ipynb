{
 "cells": [
  {
   "cell_type": "markdown",
   "metadata": {},
   "source": [
    "# DEUTSCH'S ALGORITHM\n",
    "\n",
    "### Parity Problem:\n",
    "\n",
    "Deutsch's algorithm is used to solve the **parity problem**: $Parity = f(0) \\oplus f(1)$. \n",
    "Here, $\\oplus$ denotes the XOR operator. For example:\n",
    "\n",
    "- $f(0) = f(1), Parity = 0$ (even parity, constant function)\n",
    "- $f(0) \\neq f(1), Parity = 1$ (odd parity, balanced function)"
   ]
  },
  {
   "cell_type": "markdown",
   "metadata": {},
   "source": [
    "### DEUTSCH'S ALGORITHM CIRCUIT\n",
    "![title](images/Deutsch-circuit.png)"
   ]
  },
  {
   "cell_type": "markdown",
   "metadata": {},
   "source": [
    "The circuit starts with:\n",
    "$$\\left|\\pi_0\\right\\rangle = \\left|01\\right\\rangle$$\n",
    "After the Hadamard gate is applied, it transforms $\\left|0\\right\\rangle \\to \\left|+\\right\\rangle$ and $\\left|1\\right\\rangle \\to \\left|-\\right\\rangle$. Therefore, $\\left|\\pi_0\\right\\rangle = \\left|+-\\right\\rangle$.<br> \n",
    "To simplify, rewrite the plus state and distribute the negative state: $$\\left|\\pi_1\\right\\rangle=\\frac{1}{\\sqrt{2}}(\\left|0\\right\\rangle \\left|-\\right\\rangle + \\left|1\\right\\rangle\\left|-\\right\\rangle)$$\n",
    "\n",
    "Now, query the oracle $U_f$. \n",
    "$$\n",
    "\\left|\\pi_1\\right\\rangle=\\frac{1}{\\sqrt{2}}U_f(\\left|0\\right\\rangle \\left|-\\right\\rangle + \\left|1\\right\\rangle\\left|-\\right\\rangle)\n",
    "\\\\\n",
    "\\left|\\pi_1\\right\\rangle=\\frac{1}{\\sqrt{2}}(U_f\\left|0\\right\\rangle \\left|-\\right\\rangle + U_f\\left|1\\right\\rangle\\left|-\\right\\rangle)\n",
    "$$\n",
    "\n",
    "As per definition of phase oracles: $ U_f\\left|x\\right\\rangle\\left|-\\right\\rangle = (-1)^{f(x)}=\\left|x\\right\\rangle\\left|-\\right\\rangle$, plug it into the equation:\n",
    "$$\n",
    "\\left|\\pi_2\\right\\rangle=\\frac{1}{\\sqrt{2}}((-1)^{f(0)}\\left|0\\right\\rangle) + (-1)^{f(1)}\\left|1\\right\\rangle))\n",
    "$$\n",
    "\n",
    "Back to the parity equation:\n",
    "$$\n",
    "\\\\\n",
    "f(0) = f(1):\\\\ \\pm\\frac{1}{\\sqrt{2}}(\\left|0\\right\\rangle+\\left|1\\right\\rangle)\n",
    "\\\\~\\\\\n",
    "f(0) \\neq f(1):\\\\ \\pm\\frac{1}{\\sqrt{2}}(\\left|0\\right\\rangle-\\left|1\\right\\rangle)\n",
    "$$\n",
    "\n",
    "https://www.youtube.com/watch?v=7MdEHsRZxvo"
   ]
  }
 ],
 "metadata": {
  "language_info": {
   "name": "python"
  }
 },
 "nbformat": 4,
 "nbformat_minor": 2
}
