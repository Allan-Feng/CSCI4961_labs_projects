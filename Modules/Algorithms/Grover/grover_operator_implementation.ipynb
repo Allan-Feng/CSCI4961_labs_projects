{
 "cells": [
  {
   "cell_type": "code",
   "execution_count": 1,
   "metadata": {},
   "outputs": [
    {
     "name": "stdout",
     "output_type": "stream",
     "text": [
      "<IBMBackend('ibm_rensselaer')>\n"
     ]
    }
   ],
   "source": [
    "# Built-in modules\n",
    "import math\n",
    "\n",
    "# Imports from Qiskit\n",
    "from qiskit import QuantumCircuit\n",
    "from qiskit.circuit.library import GroverOperator, MCMT, ZGate\n",
    "from qiskit.visualization import plot_distribution\n",
    "\n",
    "# Imports from Qiskit Runtime\n",
    "from qiskit_ibm_runtime import QiskitRuntimeService\n",
    "from qiskit_ibm_runtime import SamplerV2 as Sampler\n",
    "from qiskit_aer import AerSimulator\n",
    "\n",
    "service = QiskitRuntimeService()\n",
    "backend = service.backend(\"ibm_rensselaer\")\n",
    "fake_backend = AerSimulator.from_backend(backend)\n",
    "print(backend)"
   ]
  },
  {
   "cell_type": "code",
   "execution_count": null,
   "metadata": {},
   "outputs": [],
   "source": [
    "from qiskit import QuantumCircuit\n",
    "from qiskit.circuit.library import ZGate, HGate\n",
    "from qiskit.quantum_info import Statevector\n",
    "\n",
    "def custom_grover_operator(oracle: QuantumCircuit, num_qubits: int) -> QuantumCircuit:\n",
    "\n",
    "    # Initialize a quantum circuit with the given number of qubits\n",
    "    grover_op = QuantumCircuit(num_qubits)\n",
    "\n",
    "    # Apply the oracle circuit\n",
    "    grover_op.append(oracle.to_instruction(), range(num_qubits))\n",
    "\n",
    "    # Apply Hadamard on all qubits\n",
    "    grover_op.h(range(num_qubits))\n",
    "\n",
    "    #Apply X (Pauli-X) gate on all qubits to invert around |0⟩ state\n",
    "    grover_op.x(range(num_qubits))\n",
    "\n",
    "    #Multi-controlled Z gate on all qubits to create a phase flip of |0⟩ state\n",
    "    grover_op.h(num_qubits - 1)\n",
    "\n",
    "    grover_op.mcx(list(range(num_qubits - 1)), num_qubits - 1) \n",
    "\n",
    "    grover_op.h(num_qubits - 1) \n",
    "\n",
    "    #Apply X on all qubits \n",
    "    grover_op.x(range(num_qubits))\n",
    "\n",
    "    #Apply Hadamard \n",
    "    grover_op.h(range(num_qubits))\n",
    "\n",
    "    return grover_op\n",
    "\n",
    "\n"
   ]
  }
 ],
 "metadata": {
  "kernelspec": {
   "display_name": "cwq",
   "language": "python",
   "name": "python3"
  },
  "language_info": {
   "codemirror_mode": {
    "name": "ipython",
    "version": 3
   },
   "file_extension": ".py",
   "mimetype": "text/x-python",
   "name": "python",
   "nbconvert_exporter": "python",
   "pygments_lexer": "ipython3",
   "version": "3.12.4"
  }
 },
 "nbformat": 4,
 "nbformat_minor": 2
}
