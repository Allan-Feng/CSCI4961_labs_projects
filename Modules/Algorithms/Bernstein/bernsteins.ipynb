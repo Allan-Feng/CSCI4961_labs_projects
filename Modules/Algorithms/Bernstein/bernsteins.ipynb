{
 "cells": [
  {
   "cell_type": "markdown",
   "id": "6dce949e-28fc-4a3c-8431-329d8bbecbe9",
   "metadata": {},
   "source": [
    "# Bernstein-Vazirani Algorithm\n",
    "\n",
    "The Bernstein-Vazirani algorithm follows the same procedure as the Deutsch-Josza algorithm but tackles a different problem.\n",
    "\n",
    "1. [Problem Statement](#1.-Problem-Statement)\n",
    "2. [Quantum Solution](#2.-Quantum-Solution)\n",
    "3. [Running on ibm_rensselaer](#3.-Running-on-ibm_rensselaer)"
   ]
  },
  {
   "cell_type": "markdown",
   "id": "a9a165b3-dca8-40ed-b60a-fa47b0f6e5c1",
   "metadata": {},
   "source": [
    "## 1. Problem Statement\n",
    "\n",
    "We want to find a secret $n$-bit string by querying an oracle that takes the dot product of the string with the input. \n",
    "\n",
    "Given a function $f: \\{0,1\\}^n \\to \\{0,1\\}$, we want to find the $n$-bit string $s$ such that $f(x) = s \\cdot x$, where $\\cdot$ denotes the dot product between $s$ and $x$.\n",
    "\n",
    "### 1.1 Classical Solution"
   ]
  },
  {
   "cell_type": "markdown",
   "id": "e7338992-f7f7-4cee-92c7-a70d477a1350",
   "metadata": {},
   "source": [
    "## 2. Quantum Solution\n",
    "\n",
    "<center><img src=\"bernsteins_images/bernstein_circuit.png\"></img></center>"
   ]
  },
  {
   "cell_type": "markdown",
   "id": "eeb86517-e680-4f52-b61a-666af747714a",
   "metadata": {},
   "source": [
    "## 3. Running on ibm_rensselaer"
   ]
  }
 ],
 "metadata": {
  "kernelspec": {
   "display_name": "Python 3 (ipykernel)",
   "language": "python",
   "name": "python3"
  },
  "language_info": {
   "codemirror_mode": {
    "name": "ipython",
    "version": 3
   },
   "file_extension": ".py",
   "mimetype": "text/x-python",
   "name": "python",
   "nbconvert_exporter": "python",
   "pygments_lexer": "ipython3",
   "version": "3.11.9"
  }
 },
 "nbformat": 4,
 "nbformat_minor": 5
}
