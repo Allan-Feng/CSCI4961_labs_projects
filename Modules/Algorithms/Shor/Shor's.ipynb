{
 "cells": [
  {
   "cell_type": "markdown",
   "metadata": {},
   "source": [
    "# Shor's\n",
    "Shor's Algorithm significantly enhances the efficiency of integer factorization, making it exponentially faster than classical methods."
   ]
  },
  {
   "cell_type": "markdown",
   "metadata": {},
   "source": [
    "In this notebook, we demonstrate Shor's Algorithm factoring the integer 15\n",
    "\n",
    "1. [Introduction](#intro)\n",
    "2. [Controlled Modular Exponentiation](#mod)\n",
    "3. [Quantum Fourier Transform](#qft)\n",
    "4. [Circuit Construction](#cc)\n",
    "5. [Execution](#exec)\n",
    "6. [Post Processing](#post)"
   ]
  },
  {
   "cell_type": "markdown",
   "metadata": {},
   "source": [
    "<a id='intro'></a>\n",
    "## 1. Introduction\n",
    "\n",
    "### Imports"
   ]
  },
  {
   "cell_type": "code",
   "execution_count": null,
   "metadata": {},
   "outputs": [],
   "source": [
    "%pip install numpy\n",
    "%pip install qiskit\n",
    "%pip install qiskit_ibm_runtime\n",
    "%pip install qiskit_aer"
   ]
  },
  {
   "cell_type": "code",
   "execution_count": 1,
   "metadata": {},
   "outputs": [],
   "source": [
    "import numpy as np\n",
    "import math\n",
    "from qiskit import QuantumCircuit\n",
    "from qiskit.circuit.library import CUGate\n",
    "from qiskit.transpiler.preset_passmanagers import generate_preset_pass_manager as gppm\n",
    "from qiskit_ibm_runtime import QiskitRuntimeService, SamplerV2 as Sampler\n",
    "from qiskit.visualization import plot_distribution\n",
    "from qiskit_aer import AerSimulator"
   ]
  },
  {
   "cell_type": "markdown",
   "metadata": {},
   "source": [
    "## 2. Controlled Modular Exponentiation Operation\n",
    "As an example, say we want to factor N = 15. We begin Shor’s algorithm by\n",
    " picking a value for $a$ that is greater than 1 but less than N = 15\n",
    " $$N^{x} \\%\\ 15$$"
   ]
  },
  {
   "cell_type": "markdown",
   "metadata": {},
   "source": [
    "### Shor's Algorithm\n",
    "\n",
    "\n",
    "Step 1. Choose a random integer $a$:\n",
    "   - Pick \\( a = 2 \\).\n",
    "   - Compute gcd(a, N) . Since  gcd(2, 15) = 1 , we continue.\n",
    "\n"
   ]
  },
  {
   "cell_type": "markdown",
   "metadata": {},
   "source": [
    "Step 2. Find the period $r$ of $a$ mod N:\n",
    "   - The order $r$ is the smallest integer such that:\n",
    "     \\[\n",
    "     2^r  = mod 15\n",
    "     \\]\n",
    "   - Quantum period-finding determines $r$ = 4."
   ]
  },
  {
   "cell_type": "markdown",
   "metadata": {},
   "source": [
    "Step 3. Check if $r$ is even:\n",
    "   - Since \\( r = 4 \\) is even, we proceed.\n"
   ]
  },
  {
   "cell_type": "markdown",
   "metadata": {},
   "source": [
    "Step 4. Compute potential factors of $N$:\n",
    "   - Compute $a$^{$r$/2} - 1 and $a$^{r/2} + 1 \\):\n",
    "     \\[\n",
    "     2^2 - 1 = 3, \\quad 2^2 + 1 = 5\n",
    "     \\]\n",
    "   - Compute gcd with \\( N = 15 \\):\n",
    "     \\[\n",
    "     p = \\gcd(3, 15) = 3, \\quad q = \\gcd(5, 15) = 5\n",
    "     \\]\n",
    "   - This successfully factors 15 into \\( 3 \\times 5 \\)."
   ]
  },
  {
   "cell_type": "markdown",
   "metadata": {},
   "source": [
    "<img src=\"shor_images/Picture1.png\">"
   ]
  },
  {
   "cell_type": "code",
   "execution_count": 2,
   "metadata": {},
   "outputs": [],
   "source": [
    "def c_amod15(a,power):\n",
    "    U = QuantumCircuit(4)\n",
    "    for iteration in range(power):\n",
    "        U.swap(2, 3)\n",
    "        U.swap(1, 2)\n",
    "        U.swap(0, 1)\n",
    "        for q in range(4):\n",
    "            U.x(q)\n",
    "    U = U.to_gate()\n",
    "    U.name = \"%i^%i mod 15\" %(a,power)\n",
    "    c_U = U.control()\n",
    "    return c_U\n"
   ]
  },
  {
   "cell_type": "markdown",
   "metadata": {},
   "source": [
    "<a id='qft'></a>\n",
    "## 3. Quantum Fourier Transform"
   ]
  },
  {
   "cell_type": "code",
   "execution_count": 3,
   "metadata": {},
   "outputs": [],
   "source": [
    "def qft(n):\n",
    "    #Initialize quantum circuit\n",
    "    qc = QuantumCircuit(n)\n",
    "    for qubit in range(n//2):\n",
    "        qc.swap(qubit, n-qubit-1)\n",
    "    for j in range(n):\n",
    "        for m in range(j):\n",
    "            angle = -(np.pi/float(2**(j-m)))\n",
    "            cu1_gate = CUGate(0,0,0,angle)\n",
    "            qc.append(cu1_gate, [m, j])\n",
    "        qc.h(j)\n",
    "    qc.name = \"QFT\"\n",
    "    return qc"
   ]
  },
  {
   "cell_type": "markdown",
   "metadata": {},
   "source": [
    "<a id='cc'></a>\n",
    "## 4. Circuit Construction"
   ]
  },
  {
   "cell_type": "code",
   "execution_count": 4,
   "metadata": {},
   "outputs": [
    {
     "data": {
      "text/plain": [
       "<qiskit.circuit.instructionset.InstructionSet at 0x23118f6e650>"
      ]
     },
     "execution_count": 4,
     "metadata": {},
     "output_type": "execute_result"
    }
   ],
   "source": [
    "n_count = 8\n",
    "a = 7\n",
    "\n",
    "qc = QuantumCircuit(n_count + 4, n_count)\n",
    "\n",
    "for q in range(n_count):\n",
    "    qc.h(q)\n",
    "\n",
    "qc.x(3+n_count)\n",
    "\n",
    "for q in range(n_count):\n",
    "    qc.append(c_amod15(a,2**q), [q]+[i+n_count for i in range(4)])\n",
    "\n",
    "qc.append(qft(n_count), range(n_count))\n",
    "qc.measure(range(n_count), range(n_count))"
   ]
  },
  {
   "cell_type": "markdown",
   "metadata": {},
   "source": [
    "<a id='exec'></a>\n",
    "## 5. Execution"
   ]
  },
  {
   "cell_type": "code",
   "execution_count": 5,
   "metadata": {},
   "outputs": [],
   "source": [
    "service = QiskitRuntimeService()\n",
    "backend = AerSimulator()\n",
    "pm = gppm(backend=backend, optimization_level = 1)\n",
    "isa_circuit = pm.run(qc)\n",
    "sampler = Sampler(backend)\n",
    "job = sampler.run([isa_circuit], shots = 4096)"
   ]
  },
  {
   "cell_type": "markdown",
   "metadata": {},
   "source": [
    "<a id='post'></a>\n",
    "## 6. Post Processing"
   ]
  },
  {
   "cell_type": "code",
   "execution_count": 6,
   "metadata": {},
   "outputs": [
    {
     "name": "stdout",
     "output_type": "stream",
     "text": [
      "The factors of 15 are 3 and 5\n"
     ]
    },
    {
     "data": {
      "image/png": "[encoded data removed]",
      "text/plain": [
       "<Figure size 700x500 with 1 Axes>"
      ]
     },
     "execution_count": 6,
     "metadata": {},
     "output_type": "execute_result"
    }
   ],
   "source": [
    "nums = job.result()[0].data.c.get_counts()\n",
    "new = {\n",
    "    '00000000':0,\n",
    "    '01000000':0,\n",
    "    '10000000':0,\n",
    "    '11000000':0\n",
    "}\n",
    "\n",
    "denoms = set()\n",
    "for key, value in nums.items():\n",
    "    if(key[:2]=='00'):\n",
    "        new['00000000'] += value\n",
    "    elif(key[:2]=='01'):\n",
    "        new['01000000'] += value\n",
    "    elif(key[:2]=='10'):\n",
    "        new['10000000'] += value\n",
    "    elif(key[:2]=='11'):\n",
    "        new['11000000'] += value\n",
    "\n",
    "for key in new:\n",
    "    gcd = math.gcd(int(key, 2), 2**n_count)\n",
    "    denom = (2**n_count)//gcd\n",
    "    if (denom%2==0 and (a**denom)%15 != 14):\n",
    "        denoms.add((2**n_count)//gcd)\n",
    "        \n",
    "r = max(denoms)\n",
    "p = (math.gcd(a**(r//2)-1, 15))\n",
    "q = (math.gcd(a**(r//2)+1, 15))\n",
    "print(\"The factors of 15 are\", p, \"and\", q)\n",
    "plot_distribution(new)"
   ]
  }
 ],
 "metadata": {
  "kernelspec": {
   "display_name": "cwq",
   "language": "python",
   "name": "python3"
  },
  "language_info": {
   "codemirror_mode": {
    "name": "ipython",
    "version": 3
   },
   "file_extension": ".py",
   "mimetype": "text/x-python",
   "name": "python",
   "nbconvert_exporter": "python",
   "pygments_lexer": "ipython3",
   "version": "3.12.4"
  }
 },
 "nbformat": 4,
 "nbformat_minor": 2
}
