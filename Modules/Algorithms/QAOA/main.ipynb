{
 "cells": [
  {
   "cell_type": "markdown",
   "metadata": {},
   "source": [
    "# MaxCut using QAOA on a 5-Node Graph"
   ]
  },
  {
   "cell_type": "markdown",
   "metadata": {},
   "source": [
    "In this notebook, we demonstrate QAOA solving MaxCut on a 5-node Graph\n",
    "\n",
    "1. [Introduction](#intro)\n",
    "2. [Graph Contruction](#graphmake)\n",
    "3. [Pauli Term Construction](#pauli)\n",
    "4. [Parameter & Circuit Construction](#paramcircuit)\n",
    "5. [Qiskit Initialization & Parameter Setting](#qiskitparam)\n",
    "6. [Measure Circuit Function](#measfunc)\n",
    "7. [MaxCut Objective Functions](#maxcalc)\n",
    "8. [Execution and Post Processing](#exec)\n",
    "9. [Run the Program](#runit)"
   ]
  },
  {
   "cell_type": "markdown",
   "metadata": {},
   "source": [
    "<a id = 'intro'></a>\n",
    "## 1. Introduction\n",
    "\n",
    "### Imports"
   ]
  },
  {
   "cell_type": "code",
   "execution_count": 1,
   "metadata": {},
   "outputs": [
    {
     "name": "stdout",
     "output_type": "stream",
     "text": [
      "Requirement already satisfied: pandas in c:\\users\\macenh\\documents\\rcos\\reinforcementlearning\\maxcut_rl\\venv\\lib\\site-packages (2.2.3)\n",
      "Requirement already satisfied: numpy>=1.22.4 in c:\\users\\macenh\\documents\\rcos\\reinforcementlearning\\maxcut_rl\\venv\\lib\\site-packages (from pandas) (2.0.2)\n",
      "Requirement already satisfied: python-dateutil>=2.8.2 in c:\\users\\macenh\\documents\\rcos\\reinforcementlearning\\maxcut_rl\\venv\\lib\\site-packages (from pandas) (2.9.0.post0)\n",
      "Requirement already satisfied: pytz>=2020.1 in c:\\users\\macenh\\documents\\rcos\\reinforcementlearning\\maxcut_rl\\venv\\lib\\site-packages (from pandas) (2024.2)\n",
      "Requirement already satisfied: tzdata>=2022.7 in c:\\users\\macenh\\documents\\rcos\\reinforcementlearning\\maxcut_rl\\venv\\lib\\site-packages (from pandas) (2024.2)\n",
      "Requirement already satisfied: six>=1.5 in c:\\users\\macenh\\documents\\rcos\\reinforcementlearning\\maxcut_rl\\venv\\lib\\site-packages (from python-dateutil>=2.8.2->pandas) (1.16.0)\n",
      "Note: you may need to restart the kernel to use updated packages.\n"
     ]
    },
    {
     "name": "stderr",
     "output_type": "stream",
     "text": [
      "\n",
      "[notice] A new release of pip is available: 24.2 -> 24.3.1\n",
      "[notice] To update, run: python.exe -m pip install --upgrade pip\n"
     ]
    },
    {
     "name": "stdout",
     "output_type": "stream",
     "text": [
      "Requirement already satisfied: networkx in c:\\users\\macenh\\documents\\rcos\\reinforcementlearning\\maxcut_rl\\venv\\lib\\site-packages (3.2.1)\n",
      "Note: you may need to restart the kernel to use updated packages.\n"
     ]
    },
    {
     "name": "stderr",
     "output_type": "stream",
     "text": [
      "\n",
      "[notice] A new release of pip is available: 24.2 -> 24.3.1\n",
      "[notice] To update, run: python.exe -m pip install --upgrade pip\n"
     ]
    },
    {
     "name": "stdout",
     "output_type": "stream",
     "text": [
      "Requirement already satisfied: matplotlib in c:\\users\\macenh\\documents\\rcos\\reinforcementlearning\\maxcut_rl\\venv\\lib\\site-packages (3.9.2)\n",
      "Requirement already satisfied: contourpy>=1.0.1 in c:\\users\\macenh\\documents\\rcos\\reinforcementlearning\\maxcut_rl\\venv\\lib\\site-packages (from matplotlib) (1.3.0)\n",
      "Requirement already satisfied: cycler>=0.10 in c:\\users\\macenh\\documents\\rcos\\reinforcementlearning\\maxcut_rl\\venv\\lib\\site-packages (from matplotlib) (0.12.1)\n",
      "Requirement already satisfied: fonttools>=4.22.0 in c:\\users\\macenh\\documents\\rcos\\reinforcementlearning\\maxcut_rl\\venv\\lib\\site-packages (from matplotlib) (4.55.0)\n",
      "Requirement already satisfied: kiwisolver>=1.3.1 in c:\\users\\macenh\\documents\\rcos\\reinforcementlearning\\maxcut_rl\\venv\\lib\\site-packages (from matplotlib) (1.4.7)\n",
      "Requirement already satisfied: numpy>=1.23 in c:\\users\\macenh\\documents\\rcos\\reinforcementlearning\\maxcut_rl\\venv\\lib\\site-packages (from matplotlib) (2.0.2)\n",
      "Requirement already satisfied: packaging>=20.0 in c:\\users\\macenh\\documents\\rcos\\reinforcementlearning\\maxcut_rl\\venv\\lib\\site-packages (from matplotlib) (24.2)\n",
      "Requirement already satisfied: pillow>=8 in c:\\users\\macenh\\documents\\rcos\\reinforcementlearning\\maxcut_rl\\venv\\lib\\site-packages (from matplotlib) (11.0.0)\n",
      "Requirement already satisfied: pyparsing>=2.3.1 in c:\\users\\macenh\\documents\\rcos\\reinforcementlearning\\maxcut_rl\\venv\\lib\\site-packages (from matplotlib) (3.2.0)\n",
      "Requirement already satisfied: python-dateutil>=2.7 in c:\\users\\macenh\\documents\\rcos\\reinforcementlearning\\maxcut_rl\\venv\\lib\\site-packages (from matplotlib) (2.9.0.post0)\n",
      "Requirement already satisfied: importlib-resources>=3.2.0 in c:\\users\\macenh\\documents\\rcos\\reinforcementlearning\\maxcut_rl\\venv\\lib\\site-packages (from matplotlib) (6.4.5)\n",
      "Requirement already satisfied: zipp>=3.1.0 in c:\\users\\macenh\\documents\\rcos\\reinforcementlearning\\maxcut_rl\\venv\\lib\\site-packages (from importlib-resources>=3.2.0->matplotlib) (3.21.0)\n",
      "Requirement already satisfied: six>=1.5 in c:\\users\\macenh\\documents\\rcos\\reinforcementlearning\\maxcut_rl\\venv\\lib\\site-packages (from python-dateutil>=2.7->matplotlib) (1.16.0)\n",
      "Note: you may need to restart the kernel to use updated packages.\n"
     ]
    },
    {
     "name": "stderr",
     "output_type": "stream",
     "text": [
      "\n",
      "[notice] A new release of pip is available: 24.2 -> 24.3.1\n",
      "[notice] To update, run: python.exe -m pip install --upgrade pip\n"
     ]
    },
    {
     "name": "stdout",
     "output_type": "stream",
     "text": [
      "Requirement already satisfied: numpy in c:\\users\\macenh\\documents\\rcos\\reinforcementlearning\\maxcut_rl\\venv\\lib\\site-packages (2.0.2)\n",
      "Note: you may need to restart the kernel to use updated packages.\n"
     ]
    },
    {
     "name": "stderr",
     "output_type": "stream",
     "text": [
      "\n",
      "[notice] A new release of pip is available: 24.2 -> 24.3.1\n",
      "[notice] To update, run: python.exe -m pip install --upgrade pip\n"
     ]
    },
    {
     "name": "stdout",
     "output_type": "stream",
     "text": [
      "Requirement already satisfied: qiskit in c:\\users\\macenh\\documents\\rcos\\reinforcementlearning\\maxcut_rl\\venv\\lib\\site-packages (1.2.4)\n",
      "Requirement already satisfied: rustworkx>=0.15.0 in c:\\users\\macenh\\documents\\rcos\\reinforcementlearning\\maxcut_rl\\venv\\lib\\site-packages (from qiskit) (0.15.1)\n",
      "Requirement already satisfied: numpy<3,>=1.17 in c:\\users\\macenh\\documents\\rcos\\reinforcementlearning\\maxcut_rl\\venv\\lib\\site-packages (from qiskit) (2.0.2)\n",
      "Requirement already satisfied: scipy>=1.5 in c:\\users\\macenh\\documents\\rcos\\reinforcementlearning\\maxcut_rl\\venv\\lib\\site-packages (from qiskit) (1.13.1)\n",
      "Requirement already satisfied: sympy>=1.3 in c:\\users\\macenh\\documents\\rcos\\reinforcementlearning\\maxcut_rl\\venv\\lib\\site-packages (from qiskit) (1.13.1)\n",
      "Requirement already satisfied: dill>=0.3 in c:\\users\\macenh\\documents\\rcos\\reinforcementlearning\\maxcut_rl\\venv\\lib\\site-packages (from qiskit) (0.3.9)\n",
      "Requirement already satisfied: python-dateutil>=2.8.0 in c:\\users\\macenh\\documents\\rcos\\reinforcementlearning\\maxcut_rl\\venv\\lib\\site-packages (from qiskit) (2.9.0.post0)\n",
      "Requirement already satisfied: stevedore>=3.0.0 in c:\\users\\macenh\\documents\\rcos\\reinforcementlearning\\maxcut_rl\\venv\\lib\\site-packages (from qiskit) (5.4.0)\n",
      "Requirement already satisfied: typing-extensions in c:\\users\\macenh\\documents\\rcos\\reinforcementlearning\\maxcut_rl\\venv\\lib\\site-packages (from qiskit) (4.12.2)\n",
      "Requirement already satisfied: symengine<0.14,>=0.11 in c:\\users\\macenh\\documents\\rcos\\reinforcementlearning\\maxcut_rl\\venv\\lib\\site-packages (from qiskit) (0.13.0)\n",
      "Requirement already satisfied: six>=1.5 in c:\\users\\macenh\\documents\\rcos\\reinforcementlearning\\maxcut_rl\\venv\\lib\\site-packages (from python-dateutil>=2.8.0->qiskit) (1.16.0)\n",
      "Requirement already satisfied: pbr>=2.0.0 in c:\\users\\macenh\\documents\\rcos\\reinforcementlearning\\maxcut_rl\\venv\\lib\\site-packages (from stevedore>=3.0.0->qiskit) (6.1.0)\n",
      "Requirement already satisfied: mpmath<1.4,>=1.1.0 in c:\\users\\macenh\\documents\\rcos\\reinforcementlearning\\maxcut_rl\\venv\\lib\\site-packages (from sympy>=1.3->qiskit) (1.3.0)\n",
      "Note: you may need to restart the kernel to use updated packages.\n"
     ]
    },
    {
     "name": "stderr",
     "output_type": "stream",
     "text": [
      "\n",
      "[notice] A new release of pip is available: 24.2 -> 24.3.1\n",
      "[notice] To update, run: python.exe -m pip install --upgrade pip\n"
     ]
    },
    {
     "name": "stdout",
     "output_type": "stream",
     "text": [
      "Requirement already satisfied: qiskit_ibm_runtime in c:\\users\\macenh\\documents\\rcos\\reinforcementlearning\\maxcut_rl\\venv\\lib\\site-packages (0.33.2)\n",
      "Requirement already satisfied: requests>=2.19 in c:\\users\\macenh\\documents\\rcos\\reinforcementlearning\\maxcut_rl\\venv\\lib\\site-packages (from qiskit_ibm_runtime) (2.32.3)\n",
      "Requirement already satisfied: requests-ntlm>=1.1.0 in c:\\users\\macenh\\documents\\rcos\\reinforcementlearning\\maxcut_rl\\venv\\lib\\site-packages (from qiskit_ibm_runtime) (1.3.0)\n",
      "Requirement already satisfied: numpy>=1.13 in c:\\users\\macenh\\documents\\rcos\\reinforcementlearning\\maxcut_rl\\venv\\lib\\site-packages (from qiskit_ibm_runtime) (2.0.2)\n",
      "Requirement already satisfied: urllib3>=1.21.1 in c:\\users\\macenh\\documents\\rcos\\reinforcementlearning\\maxcut_rl\\venv\\lib\\site-packages (from qiskit_ibm_runtime) (2.2.3)\n",
      "Requirement already satisfied: python-dateutil>=2.8.0 in c:\\users\\macenh\\documents\\rcos\\reinforcementlearning\\maxcut_rl\\venv\\lib\\site-packages (from qiskit_ibm_runtime) (2.9.0.post0)\n",
      "Requirement already satisfied: websocket-client>=1.5.1 in c:\\users\\macenh\\documents\\rcos\\reinforcementlearning\\maxcut_rl\\venv\\lib\\site-packages (from qiskit_ibm_runtime) (1.8.0)\n",
      "Requirement already satisfied: ibm-platform-services>=0.22.6 in c:\\users\\macenh\\documents\\rcos\\reinforcementlearning\\maxcut_rl\\venv\\lib\\site-packages (from qiskit_ibm_runtime) (0.59.0)\n",
      "Requirement already satisfied: pydantic>=2.5.0 in c:\\users\\macenh\\documents\\rcos\\reinforcementlearning\\maxcut_rl\\venv\\lib\\site-packages (from qiskit_ibm_runtime) (2.10.1)\n",
      "Requirement already satisfied: qiskit>=1.1.0 in c:\\users\\macenh\\documents\\rcos\\reinforcementlearning\\maxcut_rl\\venv\\lib\\site-packages (from qiskit_ibm_runtime) (1.2.4)\n",
      "Requirement already satisfied: ibm-cloud-sdk-core<4.0.0,>=3.22.0 in c:\\users\\macenh\\documents\\rcos\\reinforcementlearning\\maxcut_rl\\venv\\lib\\site-packages (from ibm-platform-services>=0.22.6->qiskit_ibm_runtime) (3.22.0)\n",
      "Requirement already satisfied: annotated-types>=0.6.0 in c:\\users\\macenh\\documents\\rcos\\reinforcementlearning\\maxcut_rl\\venv\\lib\\site-packages (from pydantic>=2.5.0->qiskit_ibm_runtime) (0.7.0)\n",
      "Requirement already satisfied: pydantic-core==2.27.1 in c:\\users\\macenh\\documents\\rcos\\reinforcementlearning\\maxcut_rl\\venv\\lib\\site-packages (from pydantic>=2.5.0->qiskit_ibm_runtime) (2.27.1)\n",
      "Requirement already satisfied: typing-extensions>=4.12.2 in c:\\users\\macenh\\documents\\rcos\\reinforcementlearning\\maxcut_rl\\venv\\lib\\site-packages (from pydantic>=2.5.0->qiskit_ibm_runtime) (4.12.2)\n",
      "Requirement already satisfied: six>=1.5 in c:\\users\\macenh\\documents\\rcos\\reinforcementlearning\\maxcut_rl\\venv\\lib\\site-packages (from python-dateutil>=2.8.0->qiskit_ibm_runtime) (1.16.0)\n",
      "Requirement already satisfied: rustworkx>=0.15.0 in c:\\users\\macenh\\documents\\rcos\\reinforcementlearning\\maxcut_rl\\venv\\lib\\site-packages (from qiskit>=1.1.0->qiskit_ibm_runtime) (0.15.1)\n",
      "Requirement already satisfied: scipy>=1.5 in c:\\users\\macenh\\documents\\rcos\\reinforcementlearning\\maxcut_rl\\venv\\lib\\site-packages (from qiskit>=1.1.0->qiskit_ibm_runtime) (1.13.1)\n",
      "Requirement already satisfied: sympy>=1.3 in c:\\users\\macenh\\documents\\rcos\\reinforcementlearning\\maxcut_rl\\venv\\lib\\site-packages (from qiskit>=1.1.0->qiskit_ibm_runtime) (1.13.1)\n",
      "Requirement already satisfied: dill>=0.3 in c:\\users\\macenh\\documents\\rcos\\reinforcementlearning\\maxcut_rl\\venv\\lib\\site-packages (from qiskit>=1.1.0->qiskit_ibm_runtime) (0.3.9)\n",
      "Requirement already satisfied: stevedore>=3.0.0 in c:\\users\\macenh\\documents\\rcos\\reinforcementlearning\\maxcut_rl\\venv\\lib\\site-packages (from qiskit>=1.1.0->qiskit_ibm_runtime) (5.4.0)\n",
      "Requirement already satisfied: symengine<0.14,>=0.11 in c:\\users\\macenh\\documents\\rcos\\reinforcementlearning\\maxcut_rl\\venv\\lib\\site-packages (from qiskit>=1.1.0->qiskit_ibm_runtime) (0.13.0)\n",
      "Requirement already satisfied: charset-normalizer<4,>=2 in c:\\users\\macenh\\documents\\rcos\\reinforcementlearning\\maxcut_rl\\venv\\lib\\site-packages (from requests>=2.19->qiskit_ibm_runtime) (3.4.0)\n",
      "Requirement already satisfied: idna<4,>=2.5 in c:\\users\\macenh\\documents\\rcos\\reinforcementlearning\\maxcut_rl\\venv\\lib\\site-packages (from requests>=2.19->qiskit_ibm_runtime) (3.10)\n",
      "Requirement already satisfied: certifi>=2017.4.17 in c:\\users\\macenh\\documents\\rcos\\reinforcementlearning\\maxcut_rl\\venv\\lib\\site-packages (from requests>=2.19->qiskit_ibm_runtime) (2024.8.30)\n",
      "Requirement already satisfied: cryptography>=1.3 in c:\\users\\macenh\\documents\\rcos\\reinforcementlearning\\maxcut_rl\\venv\\lib\\site-packages (from requests-ntlm>=1.1.0->qiskit_ibm_runtime) (43.0.3)\n",
      "Requirement already satisfied: pyspnego>=0.4.0 in c:\\users\\macenh\\documents\\rcos\\reinforcementlearning\\maxcut_rl\\venv\\lib\\site-packages (from requests-ntlm>=1.1.0->qiskit_ibm_runtime) (0.11.2)\n",
      "Requirement already satisfied: cffi>=1.12 in c:\\users\\macenh\\documents\\rcos\\reinforcementlearning\\maxcut_rl\\venv\\lib\\site-packages (from cryptography>=1.3->requests-ntlm>=1.1.0->qiskit_ibm_runtime) (1.17.1)\n",
      "Requirement already satisfied: PyJWT<3.0.0,>=2.8.0 in c:\\users\\macenh\\documents\\rcos\\reinforcementlearning\\maxcut_rl\\venv\\lib\\site-packages (from ibm-cloud-sdk-core<4.0.0,>=3.22.0->ibm-platform-services>=0.22.6->qiskit_ibm_runtime) (2.10.0)\n",
      "Requirement already satisfied: sspilib>=0.1.0 in c:\\users\\macenh\\documents\\rcos\\reinforcementlearning\\maxcut_rl\\venv\\lib\\site-packages (from pyspnego>=0.4.0->requests-ntlm>=1.1.0->qiskit_ibm_runtime) (0.2.0)\n",
      "Requirement already satisfied: pbr>=2.0.0 in c:\\users\\macenh\\documents\\rcos\\reinforcementlearning\\maxcut_rl\\venv\\lib\\site-packages (from stevedore>=3.0.0->qiskit>=1.1.0->qiskit_ibm_runtime) (6.1.0)\n",
      "Requirement already satisfied: mpmath<1.4,>=1.1.0 in c:\\users\\macenh\\documents\\rcos\\reinforcementlearning\\maxcut_rl\\venv\\lib\\site-packages (from sympy>=1.3->qiskit>=1.1.0->qiskit_ibm_runtime) (1.3.0)\n",
      "Requirement already satisfied: pycparser in c:\\users\\macenh\\documents\\rcos\\reinforcementlearning\\maxcut_rl\\venv\\lib\\site-packages (from cffi>=1.12->cryptography>=1.3->requests-ntlm>=1.1.0->qiskit_ibm_runtime) (2.22)\n",
      "Note: you may need to restart the kernel to use updated packages.\n"
     ]
    },
    {
     "name": "stderr",
     "output_type": "stream",
     "text": [
      "\n",
      "[notice] A new release of pip is available: 24.2 -> 24.3.1\n",
      "[notice] To update, run: python.exe -m pip install --upgrade pip\n"
     ]
    },
    {
     "name": "stdout",
     "output_type": "stream",
     "text": [
      "Requirement already satisfied: qiskit_aer in c:\\users\\macenh\\documents\\rcos\\reinforcementlearning\\maxcut_rl\\venv\\lib\\site-packages (0.15.1)\n",
      "Requirement already satisfied: qiskit>=1.1.0 in c:\\users\\macenh\\documents\\rcos\\reinforcementlearning\\maxcut_rl\\venv\\lib\\site-packages (from qiskit_aer) (1.2.4)\n",
      "Requirement already satisfied: numpy>=1.16.3 in c:\\users\\macenh\\documents\\rcos\\reinforcementlearning\\maxcut_rl\\venv\\lib\\site-packages (from qiskit_aer) (2.0.2)\n",
      "Requirement already satisfied: scipy>=1.0 in c:\\users\\macenh\\documents\\rcos\\reinforcementlearning\\maxcut_rl\\venv\\lib\\site-packages (from qiskit_aer) (1.13.1)\n",
      "Requirement already satisfied: psutil>=5 in c:\\users\\macenh\\documents\\rcos\\reinforcementlearning\\maxcut_rl\\venv\\lib\\site-packages (from qiskit_aer) (6.1.0)\n",
      "Requirement already satisfied: rustworkx>=0.15.0 in c:\\users\\macenh\\documents\\rcos\\reinforcementlearning\\maxcut_rl\\venv\\lib\\site-packages (from qiskit>=1.1.0->qiskit_aer) (0.15.1)\n",
      "Requirement already satisfied: sympy>=1.3 in c:\\users\\macenh\\documents\\rcos\\reinforcementlearning\\maxcut_rl\\venv\\lib\\site-packages (from qiskit>=1.1.0->qiskit_aer) (1.13.1)\n",
      "Requirement already satisfied: dill>=0.3 in c:\\users\\macenh\\documents\\rcos\\reinforcementlearning\\maxcut_rl\\venv\\lib\\site-packages (from qiskit>=1.1.0->qiskit_aer) (0.3.9)\n",
      "Requirement already satisfied: python-dateutil>=2.8.0 in c:\\users\\macenh\\documents\\rcos\\reinforcementlearning\\maxcut_rl\\venv\\lib\\site-packages (from qiskit>=1.1.0->qiskit_aer) (2.9.0.post0)\n",
      "Requirement already satisfied: stevedore>=3.0.0 in c:\\users\\macenh\\documents\\rcos\\reinforcementlearning\\maxcut_rl\\venv\\lib\\site-packages (from qiskit>=1.1.0->qiskit_aer) (5.4.0)\n",
      "Requirement already satisfied: typing-extensions in c:\\users\\macenh\\documents\\rcos\\reinforcementlearning\\maxcut_rl\\venv\\lib\\site-packages (from qiskit>=1.1.0->qiskit_aer) (4.12.2)\n",
      "Requirement already satisfied: symengine<0.14,>=0.11 in c:\\users\\macenh\\documents\\rcos\\reinforcementlearning\\maxcut_rl\\venv\\lib\\site-packages (from qiskit>=1.1.0->qiskit_aer) (0.13.0)\n",
      "Requirement already satisfied: six>=1.5 in c:\\users\\macenh\\documents\\rcos\\reinforcementlearning\\maxcut_rl\\venv\\lib\\site-packages (from python-dateutil>=2.8.0->qiskit>=1.1.0->qiskit_aer) (1.16.0)\n",
      "Requirement already satisfied: pbr>=2.0.0 in c:\\users\\macenh\\documents\\rcos\\reinforcementlearning\\maxcut_rl\\venv\\lib\\site-packages (from stevedore>=3.0.0->qiskit>=1.1.0->qiskit_aer) (6.1.0)\n",
      "Requirement already satisfied: mpmath<1.4,>=1.1.0 in c:\\users\\macenh\\documents\\rcos\\reinforcementlearning\\maxcut_rl\\venv\\lib\\site-packages (from sympy>=1.3->qiskit>=1.1.0->qiskit_aer) (1.3.0)\n",
      "Note: you may need to restart the kernel to use updated packages.\n"
     ]
    },
    {
     "name": "stderr",
     "output_type": "stream",
     "text": [
      "\n",
      "[notice] A new release of pip is available: 24.2 -> 24.3.1\n",
      "[notice] To update, run: python.exe -m pip install --upgrade pip\n"
     ]
    }
   ],
   "source": [
    "%pip install pandas\n",
    "%pip install networkx\n",
    "%pip install matplotlib\n",
    "%pip install numpy\n",
    "%pip install qiskit\n",
    "%pip install qiskit_ibm_runtime\n",
    "%pip install qiskit_aer"
   ]
  },
  {
   "cell_type": "code",
   "execution_count": 2,
   "metadata": {},
   "outputs": [],
   "source": [
    "import pandas as pd\n",
    "import math\n",
    "import re\n",
    "import datetime\n",
    "import networkx as nx \n",
    "import matplotlib.pyplot as plt\n",
    "import numpy as np\n",
    "from qiskit.circuit import QuantumCircuit, Parameter\n",
    "from qiskit_ibm_runtime import QiskitRuntimeService\n",
    "from qiskit.transpiler.preset_passmanagers import generate_preset_pass_manager\n",
    "from qiskit_aer import AerSimulator\n",
    "from qiskit_ibm_runtime import SamplerV2 as Sampler\n",
    "from qiskit import transpile\n",
    "from qiskit_ibm_runtime import Session, EstimatorV2 as Estimator\n",
    "from scipy.optimize import minimize"
   ]
  },
  {
   "cell_type": "markdown",
   "metadata": {},
   "source": [
    "<a id ='graphmake'></a>\n",
    "\n",
    "## 2. Graph Construction\n",
    "\n",
    "This section creates a 5-node graph with edge weights = 1"
   ]
  },
  {
   "cell_type": "code",
   "execution_count": 3,
   "metadata": {},
   "outputs": [
    {
     "data": {
      "image/png": "[encoded data removed]",
      "text/plain": [
       "<Figure size 640x480 with 1 Axes>"
      ]
     },
     "metadata": {},
     "output_type": "display_data"
    }
   ],
   "source": [
    "graph = nx.Graph()\n",
    "\n",
    "graph.add_edge(0, 1, weight=1)\n",
    "graph.add_edge(0, 2, weight=1)\n",
    "graph.add_edge(1, 2, weight=1)\n",
    "graph.add_edge(2, 3, weight=1)\n",
    "graph.add_edge(3, 4, weight=1)\n",
    "graph.add_edge(1, 4, weight=1)\n",
    "\n",
    "reps = 4\n",
    "n = graph.number_of_nodes()\n",
    "\n",
    "pos2 = nx.spring_layout(graph)\n",
    "nx.draw(graph, pos2, with_labels=True, node_color=\"#d6001c\", node_size=2600, font_size=16, font_family=\"georgia\")\n",
    "plt.show()"
   ]
  },
  {
   "cell_type": "markdown",
   "metadata": {},
   "source": [
    "<a id='pauli'></a>\n",
    "## 3. Creation of Pauli terms for the Max-Cut Problem"
   ]
  },
  {
   "cell_type": "code",
   "execution_count": 4,
   "metadata": {},
   "outputs": [
    {
     "name": "stdout",
     "output_type": "stream",
     "text": [
      "{0: 0, 1: 1, 2: 2, 3: 3, 4: 4}\n"
     ]
    }
   ],
   "source": [
    "def build_max_cut_paulis(graph: nx.Graph) -> list[tuple[str, float]]:\n",
    "    # Convert the graph to a list of Pauli terms for the Max-Cut problem\n",
    "    pauli_list = []\n",
    "    num_nodes = graph.number_of_nodes()\n",
    "    \n",
    "    # Create a mapping of node labels to indices\n",
    "    node_to_index = {node: idx for idx, node in enumerate(graph.nodes())}\n",
    "\n",
    "    print(node_to_index)\n",
    "    \n",
    "    # Iterate over the edges of the graph\n",
    "    for edge in graph.edges:  \n",
    "        node1, node2 = edge \n",
    "        \n",
    "        # Get the corresponding indices for the nodes\n",
    "        idx1, idx2 = node_to_index[node1], node_to_index[node2]\n",
    "        \n",
    "        paulis = [\"I\"] * num_nodes  # Identity on all qubits initially\n",
    "        paulis[idx1], paulis[idx2] = \"Z\", \"Z\"  # Apply Z on the nodes involved in the edge\n",
    "        \n",
    "        # Retrieve weight using get_edge_data\n",
    "        weight = graph.get_edge_data(node1, node2).get('weight', 1.0)  # Default weight is 1.0 if not provided\n",
    "        \n",
    "        # Add the Pauli string and its weight to the list\n",
    "        pauli_list.append((\"\".join(paulis), weight))\n",
    "\n",
    "    return pauli_list\n",
    "\n",
    "\n",
    "max_cut_paulis = build_max_cut_paulis(graph)"
   ]
  },
  {
   "cell_type": "markdown",
   "metadata": {},
   "source": [
    "<a id='paramcircuit'></a>\n",
    "## 3. Parameterizing and Building Quantum Circuit"
   ]
  },
  {
   "cell_type": "code",
   "execution_count": 5,
   "metadata": {},
   "outputs": [],
   "source": [
    "parameterList = []\n",
    "\n",
    "# Define parameters to be used in the circuit\n",
    "for itr in range(0, reps):\n",
    "    name = \"gamma\" + str(itr)\n",
    "    parameterList.append(Parameter(name))\n",
    "    name = \"beta\" + str(itr)\n",
    "    parameterList.append(Parameter(name))\n",
    "\n",
    "circuit = QuantumCircuit(n)\n",
    "\n",
    "for i in range(0, n):\n",
    "    circuit.h(i)\n",
    "\n",
    "for itr in range(0, reps):\n",
    "    gamma = parameterList.pop(0)\n",
    "    beta = parameterList.pop(0)\n",
    "    for gate in max_cut_paulis:\n",
    "        i = -1\n",
    "        j = -1\n",
    "        k = 0\n",
    "        # Apply the Rzz gates to the circuit\n",
    "        for letter in gate[0]:\n",
    "            if letter == \"Z\":\n",
    "                if i == -1:\n",
    "                    i = k\n",
    "                else:\n",
    "                    j = k\n",
    "            k = k - 1\n",
    "\n",
    "        circuit.cx(i,j)\n",
    "        circuit.rz(gamma * abs(gate[1]), j)\n",
    "        circuit.cx(i,j)\n",
    "            \n",
    "            \n",
    "    for i in range(0, n):\n",
    "        circuit.rx(2*beta, i)\n",
    "\n",
    "circuit.measure_all()"
   ]
  },
  {
   "cell_type": "markdown",
   "metadata": {},
   "source": [
    "<a id = 'qiskitparam'></a>\n",
    "## 5. Qiskit Service Initialization and Parameter Setting"
   ]
  },
  {
   "cell_type": "code",
   "execution_count": 6,
   "metadata": {},
   "outputs": [],
   "source": [
    "# Initialize Qiskit services used for processing and running of circuit\n",
    "service = QiskitRuntimeService()\n",
    "backend = AerSimulator()\n",
    "pm = generate_preset_pass_manager(optimization_level=3,\n",
    "                                    backend=backend)\n",
    "candidate_circuit = pm.run(circuit)\n",
    "# initial parameter defintions to be used on unweighted graph\n",
    "initial_gamma = math.pi\n",
    "initial_beta = math.pi/2\n",
    "init_params = []\n",
    "for itr in range(0, reps):\n",
    "    init_params.append(initial_beta)\n",
    "    init_params.append(initial_gamma)"
   ]
  },
  {
   "cell_type": "markdown",
   "metadata": {},
   "source": [
    "<a id='measfunc'></a>\n",
    "## 6. Function to Measure Circuit"
   ]
  },
  {
   "cell_type": "code",
   "execution_count": 7,
   "metadata": {},
   "outputs": [],
   "source": [
    "def measure_circuit(betas, gammas, n_trials=1024):\n",
    "    # Get the output from circuit, either measured samples or full state vector\n",
    "    backend = AerSimulator()\n",
    "    qc = circuit\n",
    "    for i in range(0, reps):\n",
    "        qc = qc.assign_parameters({circuit.parameters[i + reps]: gammas[i]})\n",
    "        qc = qc.assign_parameters({circuit.parameters[i]: betas[i]})\n",
    "    qc_compiled = transpile(qc, backend)\n",
    "\n",
    "    job_sim = backend.run(qc_compiled, shots=n_trials)\n",
    "\n",
    "    result = job_sim.result()\n",
    "    bitstrings = result.get_counts()\n",
    "    return bitstrings"
   ]
  },
  {
   "cell_type": "markdown",
   "metadata": {},
   "source": [
    "<a id='maxcalc'></a>\n",
    "\n",
    "## 7. MaxCut Objective Functions\n",
    "\n",
    "These functions are responsible for calculating the energy from each cut to evaluate the effectiveness of a cut"
   ]
  },
  {
   "cell_type": "code",
   "execution_count": 8,
   "metadata": {},
   "outputs": [],
   "source": [
    "def maxcut_obj(x, G):\n",
    "    # calculate energy from one bitstring\n",
    "    cut = 0\n",
    "    \n",
    "    # Create a mapping of node labels to indices\n",
    "    global node_to_index\n",
    "    node_to_index = {node: idx for idx, node in enumerate(G.nodes())}\n",
    "    \n",
    "    for i, j in G.edges:\n",
    "        # Get corresponding indices for nodes i and j\n",
    "        idx_i, idx_j = node_to_index[i], node_to_index[j]\n",
    "        \n",
    "        # If the bits are different, the edge is cut\n",
    "        if x[idx_i] != x[idx_j]:\n",
    "            # Add the weight of the edge to the cut\n",
    "            cut += G[i][j].get('weight', 1)  # Default weight is 1 if not specified\n",
    "            \n",
    "    return cut\n",
    "def compute_maxcut_energy(counts, G):\n",
    "    # compute the energy used in cut\n",
    "    energy = 0\n",
    "    total_counts = 0\n",
    "    for meas, meas_count in counts.items():\n",
    "        obj_for_meas = maxcut_obj(meas, G)\n",
    "        energy += obj_for_meas * meas_count\n",
    "        total_counts += meas_count\n",
    "    return energy / total_counts\n",
    "\n",
    "def cost_func_estimator(G, p):\n",
    "    def f(theta):\n",
    "        # first half is betas, second half is gammas\n",
    "        betas = theta[:p]\n",
    "        gammas = theta[p:]   \n",
    "        # define the qaoa circuit\n",
    "        counts = measure_circuit(betas, gammas, n_trials=1024)\n",
    "        # return the energy\n",
    "        returning = -1 * compute_maxcut_energy(counts, G)\n",
    "        return returning\n",
    "    return f"
   ]
  },
  {
   "cell_type": "markdown",
   "metadata": {},
   "source": [
    "<a id='exec'></a>\n",
    "## 8. Execution and Post Processing\n",
    "\n",
    "These functions are responsible for the running of the circuit and parsing through the results to determine an acceptable answer"
   ]
  },
  {
   "cell_type": "code",
   "execution_count": 9,
   "metadata": {},
   "outputs": [],
   "source": [
    "def runit():\n",
    "    with Session(backend=backend) as session:\n",
    "        estimator = Estimator(mode=session)\n",
    "        estimator.options.default_shots = 10000\n",
    "\n",
    "        G = graph\n",
    "        obj = cost_func_estimator(G, reps)\n",
    "        # using scipy.optimize built-in minimize function with COBYLA classical optimizer\n",
    "        # to find the optimal parameters for this problem\n",
    "        result = minimize(\n",
    "            obj,\n",
    "            init_params,\n",
    "            method=\"COBYLA\",\n",
    "            tol=1e-2,\n",
    "        )\n",
    "        return result\n",
    "\n",
    "# function to apply optimal paremeters to the circuit and find the approximated answer\n",
    "def post_process(result):\n",
    "    optimized_circuit = candidate_circuit.assign_parameters(result.x)\n",
    "    # If using qiskit-ibm-runtime<0.24.0, change `mode=` to `backend=`\n",
    "    sampler = Sampler(mode=backend)\n",
    "    sampler.options.default_shots = 10000\n",
    "\n",
    "    pub= (optimized_circuit, )\n",
    "    job = sampler.run([pub], shots=int(1e4))\n",
    "    counts_int = job.result()[0].data.meas.get_int_counts()\n",
    "    counts_bin = job.result()[0].data.meas.get_counts()\n",
    "    shots = sum(counts_int.values())\n",
    "    final_distribution_int = {key: val/shots for key, val in counts_int.items()}\n",
    "    return final_distribution_int\n",
    "\n",
    "# function to display most common bitstring to terminal\n",
    "def print_most_common(final_distribution_int):\n",
    "    # auxiliary functions to turn bits into a bitstring\n",
    "    def to_bitstring(integer, num_bits):\n",
    "        result = np.binary_repr(integer, width=num_bits)\n",
    "        return [int(digit) for digit in result]\n",
    "\n",
    "    # Find the most likely bitstring from results \n",
    "    keys = list(final_distribution_int.keys())\n",
    "    values = list(final_distribution_int.values())\n",
    "    most_likely = keys[np.argmax(np.abs(values))]\n",
    "    most_likely_bitstring = to_bitstring(most_likely, len(graph))\n",
    "    output = \"\".join(str(x) for x in most_likely_bitstring)\n",
    "    print(output)"
   ]
  },
  {
   "cell_type": "markdown",
   "metadata": {},
   "source": [
    "<a id='runit'></a>\n",
    "## 9. Run the Program"
   ]
  },
  {
   "cell_type": "code",
   "execution_count": 10,
   "metadata": {},
   "outputs": [
    {
     "name": "stdout",
     "output_type": "stream",
     "text": [
      "11000\n"
     ]
    }
   ],
   "source": [
    "result = runit()\n",
    "final_distribution_int = post_process(result)\n",
    "print_most_common(final_distribution_int)"
   ]
  }
 ],
 "metadata": {
  "kernelspec": {
   "display_name": "venv",
   "language": "python",
   "name": "python3"
  },
  "language_info": {
   "codemirror_mode": {
    "name": "ipython",
    "version": 3
   },
   "file_extension": ".py",
   "mimetype": "text/x-python",
   "name": "python",
   "nbconvert_exporter": "python",
   "pygments_lexer": "ipython3",
   "version": "3.9.12"
  }
 },
 "nbformat": 4,
 "nbformat_minor": 2
}
